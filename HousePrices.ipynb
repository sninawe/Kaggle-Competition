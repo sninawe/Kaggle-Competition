{
 "cells": [
  {
   "cell_type": "code",
   "execution_count": 193,
   "metadata": {
    "collapsed": false
   },
   "outputs": [],
   "source": [
    "# the codes in Module 4\n",
    "# load data\n",
    "import pandas as pd\n",
    "train_data = pd.read_csv(\"C:/Users/sanketn/Documents/IU/Kaggle/train.csv\")\n",
    "test_data = pd.read_csv(\"C:/Users/sanketn/Documents/IU/Kaggle/test.csv\")\n",
    "# take target out of training set\n",
    "Y = train_data['SalePrice']\n",
    "train_data = train_data.drop(['SalePrice'], axis=1)"
   ]
  },
  {
   "cell_type": "code",
   "execution_count": 194,
   "metadata": {
    "collapsed": true
   },
   "outputs": [],
   "source": [
    "# from now on, let's process missing values\n",
    "def countMissing(data):\n",
    "    missing = data.columns[data.isnull().any()].tolist()\n",
    "    return missing\n",
    "misTrain = countMissing(train_data)\n",
    "misTest = countMissing(test_data)\n",
    "misTotal = list(set().union(misTrain, misTest))"
   ]
  },
  {
   "cell_type": "code",
   "execution_count": 195,
   "metadata": {
    "collapsed": false
   },
   "outputs": [
    {
     "name": "stdout",
     "output_type": "stream",
     "text": [
      "['LotFrontage', 'Alley', 'MasVnrType', 'MasVnrArea', 'BsmtQual', 'BsmtCond', 'BsmtExposure', 'BsmtFinType1', 'BsmtFinType2', 'Electrical', 'FireplaceQu', 'GarageType', 'GarageYrBlt', 'GarageFinish', 'GarageQual', 'GarageCond', 'PoolQC', 'Fence', 'MiscFeature'] 19\n"
     ]
    }
   ],
   "source": [
    "print(misTrain, len(misTrain))"
   ]
  },
  {
   "cell_type": "code",
   "execution_count": 196,
   "metadata": {
    "collapsed": false
   },
   "outputs": [
    {
     "name": "stdout",
     "output_type": "stream",
     "text": [
      "['MSZoning', 'LotFrontage', 'Alley', 'Utilities', 'Exterior1st', 'Exterior2nd', 'MasVnrType', 'MasVnrArea', 'BsmtQual', 'BsmtCond', 'BsmtExposure', 'BsmtFinType1', 'BsmtFinSF1', 'BsmtFinType2', 'BsmtFinSF2', 'BsmtUnfSF', 'TotalBsmtSF', 'BsmtFullBath', 'BsmtHalfBath', 'KitchenQual', 'Functional', 'FireplaceQu', 'GarageType', 'GarageYrBlt', 'GarageFinish', 'GarageCars', 'GarageArea', 'GarageQual', 'GarageCond', 'PoolQC', 'Fence', 'MiscFeature', 'SaleType'] 33\n"
     ]
    }
   ],
   "source": [
    "print(misTest, len(misTest))"
   ]
  },
  {
   "cell_type": "code",
   "execution_count": 197,
   "metadata": {
    "collapsed": false
   },
   "outputs": [
    {
     "name": "stdout",
     "output_type": "stream",
     "text": [
      "['BsmtFullBath', 'GarageFinish', 'GarageCond', 'BsmtQual', 'KitchenQual', 'PoolQC', 'Fence', 'BsmtExposure', 'FireplaceQu', 'LotFrontage', 'Exterior2nd', 'BsmtFinSF1', 'BsmtFinSF2', 'BsmtFinType2', 'GarageCars', 'BsmtHalfBath', 'GarageYrBlt', 'SaleType', 'Utilities', 'Electrical', 'GarageType', 'BsmtUnfSF', 'Functional', 'MiscFeature', 'Alley', 'TotalBsmtSF', 'BsmtCond', 'MasVnrType', 'Exterior1st', 'MasVnrArea', 'MSZoning', 'GarageQual', 'BsmtFinType1', 'GarageArea'] 34\n"
     ]
    }
   ],
   "source": [
    "print(misTotal, len(misTotal))"
   ]
  },
  {
   "cell_type": "code",
   "execution_count": 198,
   "metadata": {
    "collapsed": true
   },
   "outputs": [],
   "source": [
    "def exploreData(data, column):\n",
    "    return data[column].value_counts()\n",
    "def imputation(data, column, value):\n",
    "    data.loc[data[column].isnull(), column] = value"
   ]
  },
  {
   "cell_type": "code",
   "execution_count": 199,
   "metadata": {
    "collapsed": false
   },
   "outputs": [
    {
     "name": "stdout",
     "output_type": "stream",
     "text": [
      "MSZoning    C (all)  FV  RH   RL  RM\n",
      "MSSubClass                          \n",
      "20                1  21   1  508  10\n",
      "30                6   0   1   28  34\n",
      "40                0   0   0    2   0\n",
      "45                0   0   0    2   4\n",
      "50                3   0   1   71  68\n",
      "60                0  18   0  256   2\n",
      "70                3   0   0   27  37\n",
      "75                0   0   0    3   4\n",
      "80                0   0   0   57   3\n",
      "85                0   0   0   27   1\n",
      "90                0   0   1   49   7\n",
      "120               0  14   4   58  19\n",
      "150               0   0   0    1   0\n",
      "160               0  21   0   10  34\n",
      "180               0   0   0    0   7\n",
      "190               2   0   2   15  12\n"
     ]
    }
   ],
   "source": [
    "print(pd.crosstab(test_data.MSSubClass, test_data.MSZoning))"
   ]
  },
  {
   "cell_type": "code",
   "execution_count": 200,
   "metadata": {
    "collapsed": false
   },
   "outputs": [
    {
     "name": "stdout",
     "output_type": "stream",
     "text": [
      "        Id  MSSubClass MSZoning  LotFrontage  LotArea Street Alley LotShape  \\\n",
      "455   1916          30      NaN        109.0    21780   Grvl   NaN      Reg   \n",
      "756   2217          20      NaN         80.0    14584   Pave   NaN      Reg   \n",
      "790   2251          70      NaN          NaN    56600   Pave   NaN      IR1   \n",
      "1444  2905          20      NaN        125.0    31250   Pave   NaN      Reg   \n",
      "\n",
      "     LandContour Utilities      ...       ScreenPorch PoolArea PoolQC Fence  \\\n",
      "455          Lvl       NaN      ...                 0        0    NaN   NaN   \n",
      "756          Low    AllPub      ...                 0        0    NaN   NaN   \n",
      "790          Low    AllPub      ...                 0        0    NaN   NaN   \n",
      "1444         Lvl    AllPub      ...                 0        0    NaN   NaN   \n",
      "\n",
      "     MiscFeature MiscVal MoSold  YrSold  SaleType  SaleCondition  \n",
      "455          NaN       0      3    2009     ConLD         Normal  \n",
      "756          NaN       0      2    2008        WD        Abnorml  \n",
      "790          NaN       0      1    2008        WD         Normal  \n",
      "1444         NaN       0      5    2006        WD         Normal  \n",
      "\n",
      "[4 rows x 80 columns]\n"
     ]
    }
   ],
   "source": [
    "print(test_data[test_data['MSZoning'].isnull() == True])"
   ]
  },
  {
   "cell_type": "code",
   "execution_count": 201,
   "metadata": {
    "collapsed": true
   },
   "outputs": [],
   "source": [
    "test_data.loc[(test_data['MSZoning'].isnull()) & (test_data['MSSubClass']==20), 'MSZoning'] = 'RL'\n",
    "test_data.loc[(test_data['MSZoning'].isnull()) & (test_data['MSSubClass']==30), 'MSZoning'] = 'RM'\n",
    "test_data.loc[(test_data['MSZoning'].isnull()) & (test_data['MSSubClass']==70), 'MSZoning'] = 'RM'"
   ]
  },
  {
   "cell_type": "code",
   "execution_count": 202,
   "metadata": {
    "collapsed": false
   },
   "outputs": [
    {
     "name": "stdout",
     "output_type": "stream",
     "text": [
      "Empty DataFrame\n",
      "Columns: [Id, MSSubClass, MSZoning, LotFrontage, LotArea, Street, Alley, LotShape, LandContour, Utilities, LotConfig, LandSlope, Neighborhood, Condition1, Condition2, BldgType, HouseStyle, OverallQual, OverallCond, YearBuilt, YearRemodAdd, RoofStyle, RoofMatl, Exterior1st, Exterior2nd, MasVnrType, MasVnrArea, ExterQual, ExterCond, Foundation, BsmtQual, BsmtCond, BsmtExposure, BsmtFinType1, BsmtFinSF1, BsmtFinType2, BsmtFinSF2, BsmtUnfSF, TotalBsmtSF, Heating, HeatingQC, CentralAir, Electrical, 1stFlrSF, 2ndFlrSF, LowQualFinSF, GrLivArea, BsmtFullBath, BsmtHalfBath, FullBath, HalfBath, BedroomAbvGr, KitchenAbvGr, KitchenQual, TotRmsAbvGrd, Functional, Fireplaces, FireplaceQu, GarageType, GarageYrBlt, GarageFinish, GarageCars, GarageArea, GarageQual, GarageCond, PavedDrive, WoodDeckSF, OpenPorchSF, EnclosedPorch, 3SsnPorch, ScreenPorch, PoolArea, PoolQC, Fence, MiscFeature, MiscVal, MoSold, YrSold, SaleType, SaleCondition]\n",
      "Index: []\n",
      "\n",
      "[0 rows x 80 columns]\n"
     ]
    }
   ],
   "source": [
    "print(test_data[test_data['MSZoning'].isnull() == True])"
   ]
  },
  {
   "cell_type": "code",
   "execution_count": 203,
   "metadata": {
    "collapsed": false
   },
   "outputs": [
    {
     "name": "stdout",
     "output_type": "stream",
     "text": [
      "        Id  MSSubClass MSZoning  LotFrontage  LotArea Street Alley LotShape  \\\n",
      "6     1467          20       RL          NaN     7980   Pave   NaN      IR1   \n",
      "40    1501         160       FV          NaN     2980   Pave   NaN      Reg   \n",
      "41    1502         160       FV          NaN     2403   Pave   NaN      IR1   \n",
      "45    1506          20       RL          NaN    10456   Pave   NaN      IR1   \n",
      "47    1508          50       RL          NaN    18837   Pave   NaN      IR1   \n",
      "52    1513          80       RL          NaN    10600   Pave  Pave      IR1   \n",
      "59    1520          20       RL          NaN     8050   Pave   NaN      IR1   \n",
      "75    1536          50       RM          NaN     8239   Pave   NaN      Reg   \n",
      "82    1543          75       RL          NaN     7793   Pave   NaN      IR1   \n",
      "98    1559          70  C (all)          NaN     6449   Pave   NaN      IR1   \n",
      "103   1564          90       RL          NaN     7424   Pave   NaN      IR1   \n",
      "105   1566          20       RL          NaN    20062   Pave   NaN      IR1   \n",
      "107   1568          60       RL          NaN    17082   Pave   NaN      IR1   \n",
      "113   1574          20       RL          NaN    11200   Pave   NaN      IR1   \n",
      "119   1580          60       RL          NaN     9337   Pave   NaN      IR1   \n",
      "124   1585         120       RM          NaN     4435   Pave   NaN      Reg   \n",
      "132   1593          30       RL          NaN     7890   Pave   NaN      Reg   \n",
      "146   1607          90       RL          NaN    12760   Pave   NaN      IR1   \n",
      "152   1613          20       RL          NaN    11875   Pave   NaN      Reg   \n",
      "167   1628          60       RL          NaN    11792   Pave   NaN      IR1   \n",
      "174   1635          60       RL          NaN     8803   Pave   NaN      IR1   \n",
      "177   1638          60       RL          NaN    13250   Pave   NaN      IR1   \n",
      "179   1640          60       RL          NaN    12388   Pave   NaN      IR1   \n",
      "182   1643          60       FV          NaN     7500   Pave   NaN      Reg   \n",
      "183   1644          60       FV          NaN     8470   Pave   NaN      Reg   \n",
      "184   1645          20       RL          NaN     9373   Pave   NaN      IR1   \n",
      "187   1648          20       RL          NaN     7830   Pave   NaN      IR1   \n",
      "188   1649          20       RL          NaN     8510   Pave   NaN      IR1   \n",
      "199   1660          20       RL          NaN    10710   Pave   NaN      Reg   \n",
      "229   1690          60       RL          NaN     8965   Pave   NaN      IR1   \n",
      "...    ...         ...      ...          ...      ...    ...   ...      ...   \n",
      "1224  2685          60       RL          NaN    12585   Pave   NaN      IR1   \n",
      "1240  2701          60       RL          NaN     9019   Pave   NaN      IR1   \n",
      "1243  2704          20       RL          NaN     9240   Pave   NaN      IR1   \n",
      "1244  2705          20       RL          NaN     9308   Pave   NaN      IR1   \n",
      "1246  2707          20       RL          NaN     8638   Pave   NaN      IR1   \n",
      "1247  2708          20       RL          NaN    13052   Pave   NaN      IR1   \n",
      "1248  2709          20       RL          NaN     8020   Pave   NaN      IR1   \n",
      "1249  2710          20       RL          NaN     8789   Pave   NaN      IR1   \n",
      "1254  2715         160       FV          NaN     2998   Pave   NaN      Reg   \n",
      "1255  2716         160       FV          NaN     4447   Pave   NaN      IR1   \n",
      "1264  2725          20       RL          NaN     9759   Pave   NaN      IR1   \n",
      "1267  2728          20       RL          NaN    10368   Pave   NaN      IR1   \n",
      "1277  2738          90       RL          NaN     8917   Pave   NaN      IR1   \n",
      "1278  2739          80       RL          NaN    12700   Pave   NaN      IR1   \n",
      "1281  2742          20       RL          NaN     9610   Pave   NaN      IR1   \n",
      "1304  2765          60       RL          NaN    18275   Pave   NaN      IR1   \n",
      "1347  2808          20       RL          NaN    11327   Pave   NaN      IR1   \n",
      "1350  2811          20       RL          NaN     9535   Pave   NaN      IR1   \n",
      "1351  2812          80       RL          NaN     7176   Pave   NaN      IR1   \n",
      "1352  2813          90       RL          NaN     9662   Pave   NaN      IR1   \n",
      "1354  2815          30       RL          NaN    17529   Pave   NaN      Reg   \n",
      "1355  2816          20       RL          NaN    20355   Pave   NaN      Reg   \n",
      "1358  2819         150       RL          NaN     1700   Pave   NaN      Reg   \n",
      "1379  2840          20       RL          NaN     8685   Pave   NaN      IR1   \n",
      "1385  2846          60       RL          NaN     9930   Pave   NaN      IR1   \n",
      "1387  2848          20       RL          NaN    11088   Pave   NaN      Reg   \n",
      "1390  2851          60       RL          NaN    21533   Pave   NaN      IR2   \n",
      "1440  2901          20       RL          NaN    50102   Pave   NaN      IR1   \n",
      "1441  2902          20       RL          NaN     8098   Pave   NaN      IR1   \n",
      "1448  2909          90       RL          NaN    11836   Pave   NaN      IR1   \n",
      "\n",
      "     LandContour Utilities      ...       ScreenPorch PoolArea PoolQC  Fence  \\\n",
      "6            Lvl    AllPub      ...                 0        0    NaN  GdPrv   \n",
      "40           Lvl    AllPub      ...                 0        0    NaN    NaN   \n",
      "41           Lvl    AllPub      ...                 0        0    NaN    NaN   \n",
      "45           Lvl    AllPub      ...                 0        0    NaN    NaN   \n",
      "47           Lvl    AllPub      ...                 0        0    NaN    NaN   \n",
      "52           Lvl    AllPub      ...                 0        0    NaN    NaN   \n",
      "59           Lvl    AllPub      ...                 0        0    NaN  GdPrv   \n",
      "75           Lvl    AllPub      ...                 0        0    NaN    NaN   \n",
      "82           Bnk    AllPub      ...                 0        0    NaN    NaN   \n",
      "98           Lvl    AllPub      ...                 0        0    NaN    NaN   \n",
      "103          Lvl    AllPub      ...                 0        0    NaN    NaN   \n",
      "105          Low    AllPub      ...                 0        0    NaN    NaN   \n",
      "107          Low    AllPub      ...                 0        0    NaN    NaN   \n",
      "113          Lvl    AllPub      ...                 0        0    NaN    NaN   \n",
      "119          Lvl    AllPub      ...                 0        0    NaN    NaN   \n",
      "124          Lvl    AllPub      ...                 0        0    NaN    NaN   \n",
      "132          Lvl    AllPub      ...               166        0    NaN    NaN   \n",
      "146          Lvl    AllPub      ...                 0        0    NaN    NaN   \n",
      "152          Lvl    AllPub      ...                 0        0    NaN    NaN   \n",
      "167          Lvl    AllPub      ...                 0        0    NaN    NaN   \n",
      "174          Lvl    AllPub      ...                 0        0    NaN    NaN   \n",
      "177          Lvl    AllPub      ...                 0        0    NaN    NaN   \n",
      "179          Lvl    AllPub      ...                 0        0    NaN    NaN   \n",
      "182          Lvl    AllPub      ...                 0        0    NaN    NaN   \n",
      "183          Lvl    AllPub      ...                 0        0    NaN    NaN   \n",
      "184          Lvl    AllPub      ...               490        0    NaN    NaN   \n",
      "187          Lvl    AllPub      ...                 0        0    NaN    NaN   \n",
      "188          Lvl    AllPub      ...                 0        0    NaN    NaN   \n",
      "199          Lvl    AllPub      ...                 0        0    NaN    NaN   \n",
      "229          Lvl    AllPub      ...                 0        0    NaN    NaN   \n",
      "...          ...       ...      ...               ...      ...    ...    ...   \n",
      "1224         Lvl    AllPub      ...                 0        0    NaN    NaN   \n",
      "1240         Lvl    AllPub      ...                 0        0    NaN    NaN   \n",
      "1243         Lvl    AllPub      ...                 0        0    NaN  MnPrv   \n",
      "1244         Lvl    AllPub      ...                 0        0    NaN  MnPrv   \n",
      "1246         Lvl    AllPub      ...                 0        0    NaN    NaN   \n",
      "1247         Lvl    AllPub      ...                 0        0    NaN  MnPrv   \n",
      "1248         Lvl    AllPub      ...                 0        0    NaN   GdWo   \n",
      "1249         Lvl    AllPub      ...                 0        0    NaN    NaN   \n",
      "1254         Lvl    AllPub      ...                 0        0    NaN    NaN   \n",
      "1255         Lvl    AllPub      ...                 0        0    NaN    NaN   \n",
      "1264         Lvl    AllPub      ...                 0        0    NaN    NaN   \n",
      "1267         Lvl    AllPub      ...                 0        0    NaN    NaN   \n",
      "1277         Lvl    AllPub      ...                 0        0    NaN    NaN   \n",
      "1278         Lvl    AllPub      ...                 0        0    NaN    NaN   \n",
      "1281         Lvl    AllPub      ...                 0        0    NaN    NaN   \n",
      "1304         HLS    AllPub      ...                 0        0    NaN    NaN   \n",
      "1347         Lvl    AllPub      ...                 0        0    NaN    NaN   \n",
      "1350         Lvl    AllPub      ...                 0        0    NaN  MnPrv   \n",
      "1351         Lvl    AllPub      ...               180        0    NaN  GdPrv   \n",
      "1352         Lvl    AllPub      ...                 0        0    NaN    NaN   \n",
      "1354         Lvl    AllPub      ...                 0        0    NaN    NaN   \n",
      "1355         Low    AllPub      ...                 0        0    NaN    NaN   \n",
      "1358         HLS    AllPub      ...               200        0    NaN    NaN   \n",
      "1379         Lvl    AllPub      ...                 0        0    NaN    NaN   \n",
      "1385         Lvl    AllPub      ...                 0        0    NaN    NaN   \n",
      "1387         Lvl    AllPub      ...                 0        0    NaN    NaN   \n",
      "1390         Lvl    AllPub      ...                 0        0    NaN    NaN   \n",
      "1440         Low    AllPub      ...               138        0    NaN    NaN   \n",
      "1441         Lvl    AllPub      ...                 0        0    NaN    NaN   \n",
      "1448         Lvl    AllPub      ...                 0        0    NaN    NaN   \n",
      "\n",
      "     MiscFeature MiscVal MoSold  YrSold  SaleType  SaleCondition  \n",
      "6           Shed     500      3    2010        WD         Normal  \n",
      "40           NaN       0      5    2010        WD         Normal  \n",
      "41           NaN       0      6    2010        WD         Normal  \n",
      "45           NaN       0      5    2010        WD         Normal  \n",
      "47           NaN       0      4    2010        WD         Normal  \n",
      "52           NaN       0      5    2010       COD         Family  \n",
      "59           NaN       0      5    2010        WD         Normal  \n",
      "75           NaN       0      3    2010        WD         Normal  \n",
      "82           NaN       0      5    2010        WD         Normal  \n",
      "98           NaN       0      3    2010        WD        Abnorml  \n",
      "103          NaN       0      5    2010        WD         Normal  \n",
      "105          NaN       0      4    2010        WD         Normal  \n",
      "107          NaN       0      5    2010        WD         Normal  \n",
      "113          NaN       0      6    2010       COD         Normal  \n",
      "119          NaN       0      4    2010        WD         Normal  \n",
      "124          NaN       0      4    2010        WD         Normal  \n",
      "132          NaN       0      3    2010        WD         Normal  \n",
      "146          NaN       0      3    2010     ConLD         Normal  \n",
      "152          NaN       0      6    2010        WD         Normal  \n",
      "167          NaN       0      8    2009        WD         Normal  \n",
      "174          NaN       0      7    2009        WD         Normal  \n",
      "177          NaN       0      5    2009        WD        Abnorml  \n",
      "179          NaN       0      8    2009        WD         Normal  \n",
      "182          NaN       0      3    2009        WD         Normal  \n",
      "183          NaN       0     10    2009        WD         Normal  \n",
      "184          NaN       0      6    2009        WD         Normal  \n",
      "187          NaN       0      3    2009       COD         Normal  \n",
      "188          NaN       0      7    2009        WD         Normal  \n",
      "199         Shed    1200      7    2009        WD         Normal  \n",
      "229          NaN       0      6    2009        WD         Normal  \n",
      "...          ...     ...    ...     ...       ...            ...  \n",
      "1224         NaN       0     10    2006        WD         Normal  \n",
      "1240         NaN       0      7    2006        WD         Normal  \n",
      "1243         NaN       0      3    2006        WD         Normal  \n",
      "1244         NaN       0      7    2006        WD         Normal  \n",
      "1246         NaN       0     10    2006        WD         Normal  \n",
      "1247         NaN       0      1    2006        WD         Normal  \n",
      "1248         NaN       0      4    2006        WD         Normal  \n",
      "1249         NaN       0      6    2006        WD         Normal  \n",
      "1254         NaN       0      6    2006        WD         Normal  \n",
      "1255         NaN       0      7    2006        WD         Normal  \n",
      "1264         NaN       0      3    2006        WD         Normal  \n",
      "1267         NaN       0      4    2006        WD         Normal  \n",
      "1277         NaN       0     10    2006        WD         Normal  \n",
      "1278         NaN       0     11    2006        WD         Normal  \n",
      "1281         NaN       0     12    2006        WD         Normal  \n",
      "1304         NaN       0      9    2006        WD         Normal  \n",
      "1347         NaN       0      6    2006        WD         Normal  \n",
      "1350         NaN       0      7    2006        WD         Normal  \n",
      "1351         NaN       0      7    2006        WD         Normal  \n",
      "1352         NaN       0      8    2006        WD         Normal  \n",
      "1354         NaN       0      4    2006        WD         Normal  \n",
      "1355         NaN       0      6    2006        WD         Normal  \n",
      "1358         NaN       0      4    2006        WD         Normal  \n",
      "1379         NaN       0      5    2006        WD         Normal  \n",
      "1385         NaN       0      7    2006        WD         Normal  \n",
      "1387         NaN       0      6    2006        WD         Normal  \n",
      "1390         NaN       0      8    2006        WD         Normal  \n",
      "1440         NaN       0      3    2006        WD         Alloca  \n",
      "1441         NaN       0     10    2006        WD         Normal  \n",
      "1448         NaN       0      3    2006        WD         Normal  \n",
      "\n",
      "[227 rows x 80 columns]\n"
     ]
    }
   ],
   "source": [
    "print(test_data[test_data['LotFrontage'].isnull() == True])"
   ]
  },
  {
   "cell_type": "code",
   "execution_count": 204,
   "metadata": {
    "collapsed": false,
    "scrolled": false
   },
   "outputs": [
    {
     "name": "stdout",
     "output_type": "stream",
     "text": [
      "        Id  MSSubClass MSZoning  LotFrontage  LotArea Street Alley LotShape  \\\n",
      "7        8          60       RL          NaN    10382   Pave   NaN      IR1   \n",
      "12      13          20       RL          NaN    12968   Pave   NaN      IR2   \n",
      "14      15          20       RL          NaN    10920   Pave   NaN      IR1   \n",
      "16      17          20       RL          NaN    11241   Pave   NaN      IR1   \n",
      "24      25          20       RL          NaN     8246   Pave   NaN      IR1   \n",
      "31      32          20       RL          NaN     8544   Pave   NaN      IR1   \n",
      "42      43          85       RL          NaN     9180   Pave   NaN      IR1   \n",
      "43      44          20       RL          NaN     9200   Pave   NaN      IR1   \n",
      "50      51          60       RL          NaN    13869   Pave   NaN      IR2   \n",
      "64      65          60       RL          NaN     9375   Pave   NaN      Reg   \n",
      "66      67          20       RL          NaN    19900   Pave   NaN      Reg   \n",
      "76      77          20       RL          NaN     8475   Pave   NaN      IR1   \n",
      "84      85          80       RL          NaN     8530   Pave   NaN      IR1   \n",
      "95      96          60       RL          NaN     9765   Pave   NaN      IR2   \n",
      "100    101          20       RL          NaN    10603   Pave   NaN      IR1   \n",
      "104    105          50       RM          NaN     7758   Pave   NaN      Reg   \n",
      "111    112          80       RL          NaN     7750   Pave   NaN      IR1   \n",
      "113    114          20       RL          NaN    21000   Pave   NaN      Reg   \n",
      "116    117          20       RL          NaN    11616   Pave   NaN      Reg   \n",
      "120    121          80       RL          NaN    21453   Pave   NaN      IR1   \n",
      "126    127         120       RL          NaN     4928   Pave   NaN      IR1   \n",
      "131    132          60       RL          NaN    12224   Pave   NaN      IR1   \n",
      "133    134          20       RL          NaN     6853   Pave   NaN      IR1   \n",
      "136    137          20       RL          NaN    10355   Pave   NaN      IR1   \n",
      "147    148          60       RL          NaN     9505   Pave   NaN      IR1   \n",
      "149    150          50       RM          NaN     6240   Pave   NaN      Reg   \n",
      "152    153          60       RL          NaN    14803   Pave   NaN      IR1   \n",
      "153    154          20       RL          NaN    13500   Pave   NaN      Reg   \n",
      "160    161          20       RL          NaN    11120   Pave   NaN      IR1   \n",
      "166    167          20       RL          NaN    10708   Pave   NaN      IR1   \n",
      "...    ...         ...      ...          ...      ...    ...   ...      ...   \n",
      "1300  1301          60       RL          NaN    10762   Pave   NaN      IR1   \n",
      "1301  1302          70       RL          NaN     7500   Pave   NaN      IR1   \n",
      "1309  1310          20       RL          NaN     7153   Pave   NaN      Reg   \n",
      "1312  1313          60       RL          NaN     9572   Pave   NaN      IR1   \n",
      "1318  1319          20       RL          NaN    14781   Pave   NaN      IR2   \n",
      "1321  1322          20       RL          NaN     6627   Pave   NaN      IR1   \n",
      "1342  1343          60       RL          NaN     9375   Pave   NaN      Reg   \n",
      "1346  1347          20       RL          NaN    20781   Pave   NaN      IR2   \n",
      "1348  1349          20       RL          NaN    16196   Pave   NaN      IR3   \n",
      "1354  1355          60       RL          NaN    10316   Pave   NaN      IR1   \n",
      "1356  1357          20       RL          NaN     9477   Pave   NaN      Reg   \n",
      "1357  1358          20       RL          NaN    12537   Pave   NaN      IR1   \n",
      "1358  1359         160       FV          NaN     2117   Pave   NaN      Reg   \n",
      "1362  1363          50       RL          NaN    12513   Pave   NaN      IR1   \n",
      "1365  1366          60       FV          NaN     7500   Pave   NaN      Reg   \n",
      "1368  1369         120       RM          NaN     4435   Pave   NaN      Reg   \n",
      "1373  1374          20       RL          NaN    11400   Pave   NaN      Reg   \n",
      "1381  1382          20       RL          NaN    12925   Pave   NaN      IR1   \n",
      "1383  1384          30       RL          NaN    25339   Pave   NaN      Reg   \n",
      "1396  1397          20       RL          NaN    57200   Pave   NaN      IR1   \n",
      "1407  1408          20       RL          NaN     8780   Pave   NaN      IR1   \n",
      "1417  1418          60       RL          NaN    16545   Pave   NaN      IR1   \n",
      "1419  1420          20       RL          NaN    16381   Pave   NaN      IR1   \n",
      "1423  1424          80       RL          NaN    19690   Pave   NaN      IR1   \n",
      "1424  1425          20       RL          NaN     9503   Pave   NaN      Reg   \n",
      "1429  1430          20       RL          NaN    12546   Pave   NaN      IR1   \n",
      "1431  1432         120       RL          NaN     4928   Pave   NaN      IR1   \n",
      "1441  1442         120       RM          NaN     4426   Pave   NaN      Reg   \n",
      "1443  1444          30       RL          NaN     8854   Pave   NaN      Reg   \n",
      "1446  1447          20       RL          NaN    26142   Pave   NaN      IR1   \n",
      "\n",
      "     LandContour Utilities      ...       ScreenPorch PoolArea PoolQC  Fence  \\\n",
      "7            Lvl    AllPub      ...                 0        0    NaN    NaN   \n",
      "12           Lvl    AllPub      ...               176        0    NaN    NaN   \n",
      "14           Lvl    AllPub      ...                 0        0    NaN   GdWo   \n",
      "16           Lvl    AllPub      ...                 0        0    NaN    NaN   \n",
      "24           Lvl    AllPub      ...                 0        0    NaN  MnPrv   \n",
      "31           Lvl    AllPub      ...                 0        0    NaN  MnPrv   \n",
      "42           Lvl    AllPub      ...                 0        0    NaN  MnPrv   \n",
      "43           Lvl    AllPub      ...                 0        0    NaN  MnPrv   \n",
      "50           Lvl    AllPub      ...                 0        0    NaN    NaN   \n",
      "64           Lvl    AllPub      ...                 0        0    NaN  GdPrv   \n",
      "66           Lvl    AllPub      ...                 0        0    NaN    NaN   \n",
      "76           Lvl    AllPub      ...                 0        0    NaN    NaN   \n",
      "84           Lvl    AllPub      ...                 0        0    NaN    NaN   \n",
      "95           Lvl    AllPub      ...                 0        0    NaN    NaN   \n",
      "100          Lvl    AllPub      ...                 0        0    NaN    NaN   \n",
      "104          Lvl    AllPub      ...               184        0    NaN    NaN   \n",
      "111          Lvl    AllPub      ...                 0        0    NaN    NaN   \n",
      "113          Bnk    AllPub      ...                 0        0    NaN  MnPrv   \n",
      "116          Lvl    AllPub      ...                 0        0    NaN    NaN   \n",
      "120          Low    AllPub      ...                 0        0    NaN    NaN   \n",
      "126          Lvl    AllPub      ...                 0        0    NaN    NaN   \n",
      "131          Lvl    AllPub      ...                 0        0    NaN    NaN   \n",
      "133          Lvl    AllPub      ...                 0        0    NaN    NaN   \n",
      "136          Lvl    AllPub      ...                 0        0    NaN    NaN   \n",
      "147          Lvl    AllPub      ...                 0        0    NaN    NaN   \n",
      "149          Lvl    AllPub      ...                 0        0    NaN    NaN   \n",
      "152          Lvl    AllPub      ...                 0        0    NaN   GdWo   \n",
      "153          Lvl    AllPub      ...                 0        0    NaN    NaN   \n",
      "160          Lvl    AllPub      ...                 0        0    NaN    NaN   \n",
      "166          Lvl    AllPub      ...               142        0    NaN   GdWo   \n",
      "...          ...       ...      ...               ...      ...    ...    ...   \n",
      "1300         Lvl    AllPub      ...                 0        0    NaN    NaN   \n",
      "1301         Bnk    AllPub      ...               224        0    NaN    NaN   \n",
      "1309         Lvl    AllPub      ...                 0        0    NaN   GdWo   \n",
      "1312         Lvl    AllPub      ...                 0        0    NaN    NaN   \n",
      "1318         Lvl    AllPub      ...                 0        0    NaN    NaN   \n",
      "1321         Lvl    AllPub      ...                 0        0    NaN    NaN   \n",
      "1342         Lvl    AllPub      ...                 0        0    NaN    NaN   \n",
      "1346         Lvl    AllPub      ...                 0        0    NaN    NaN   \n",
      "1348         Low    AllPub      ...                 0        0    NaN    NaN   \n",
      "1354         Lvl    AllPub      ...                 0        0    NaN    NaN   \n",
      "1356         Lvl    AllPub      ...                 0        0    NaN   GdWo   \n",
      "1357         Lvl    AllPub      ...                 0        0    NaN    NaN   \n",
      "1358         Lvl    AllPub      ...                 0        0    NaN    NaN   \n",
      "1362         Lvl    AllPub      ...                 0        0    NaN    NaN   \n",
      "1365         Lvl    AllPub      ...                 0        0    NaN    NaN   \n",
      "1368         Lvl    AllPub      ...                 0        0    NaN    NaN   \n",
      "1373         Lvl    AllPub      ...                 0        0    NaN    NaN   \n",
      "1381         Lvl    AllPub      ...                 0        0    NaN    NaN   \n",
      "1383         Lvl    AllPub      ...                 0        0    NaN    NaN   \n",
      "1396         Bnk    AllPub      ...                 0        0    NaN    NaN   \n",
      "1407         Lvl    AllPub      ...                 0        0    NaN  MnPrv   \n",
      "1417         Lvl    AllPub      ...                 0        0    NaN    NaN   \n",
      "1419         Lvl    AllPub      ...                 0        0    NaN    NaN   \n",
      "1423         Lvl    AllPub      ...                 0      738     Gd  GdPrv   \n",
      "1424         Lvl    AllPub      ...                 0        0    NaN   GdWo   \n",
      "1429         Lvl    AllPub      ...                 0        0    NaN    NaN   \n",
      "1431         Lvl    AllPub      ...                 0        0    NaN    NaN   \n",
      "1441         Lvl    AllPub      ...                 0        0    NaN    NaN   \n",
      "1443         Lvl    AllPub      ...                40        0    NaN    NaN   \n",
      "1446         Lvl    AllPub      ...                 0        0    NaN    NaN   \n",
      "\n",
      "     MiscFeature MiscVal MoSold  YrSold  SaleType  SaleCondition  \n",
      "7           Shed     350     11    2009        WD         Normal  \n",
      "12           NaN       0      9    2008        WD         Normal  \n",
      "14           NaN       0      5    2008        WD         Normal  \n",
      "16          Shed     700      3    2010        WD         Normal  \n",
      "24           NaN       0      5    2010        WD         Normal  \n",
      "31           NaN       0      6    2008        WD         Normal  \n",
      "42           NaN       0     12    2007        WD         Normal  \n",
      "43           NaN       0      7    2008        WD         Normal  \n",
      "50           NaN       0      7    2007        WD         Normal  \n",
      "64           NaN       0      2    2009        WD         Normal  \n",
      "66           NaN       0      7    2010        WD         Normal  \n",
      "76           NaN       0      4    2008        WD         Normal  \n",
      "84          Shed     700      5    2009        WD         Normal  \n",
      "95          Shed     480      4    2009        WD         Normal  \n",
      "100          NaN       0      2    2010        WD         Normal  \n",
      "104          NaN       0      6    2007        WD         Normal  \n",
      "111          NaN       0      4    2010        WD         Normal  \n",
      "113          NaN       0     10    2007       COD        Abnorml  \n",
      "116          NaN       0      9    2009        WD         Normal  \n",
      "120          NaN       0     10    2006        WD         Normal  \n",
      "126          NaN       0      2    2007        WD         Normal  \n",
      "131          NaN       0      7    2009        WD         Normal  \n",
      "133          NaN       0      6    2009        WD         Normal  \n",
      "136          NaN       0      7    2007        WD         Normal  \n",
      "147          NaN       0      5    2010        WD         Normal  \n",
      "149          NaN       0      4    2006        WD         Normal  \n",
      "152          NaN       0      6    2006        WD         Normal  \n",
      "153          NaN       0      3    2008        WD         Normal  \n",
      "160          NaN       0      6    2008        WD         Normal  \n",
      "166          NaN       0     11    2009       COD         Normal  \n",
      "...          ...     ...    ...     ...       ...            ...  \n",
      "1300         NaN       0      5    2009        WD         Normal  \n",
      "1301         NaN       0     11    2009        WD         Normal  \n",
      "1309         NaN       0      6    2008        WD         Normal  \n",
      "1312         NaN       0      6    2007        WD         Normal  \n",
      "1318         NaN       0      8    2006        WD         Normal  \n",
      "1321         NaN       0      7    2008        WD         Normal  \n",
      "1342         NaN       0      8    2007        WD         Normal  \n",
      "1346         NaN       0      6    2006        WD         Normal  \n",
      "1348         NaN       0      8    2007        WD         Normal  \n",
      "1354         NaN       0      6    2008        WD         Normal  \n",
      "1356         NaN       0     10    2008        WD         Normal  \n",
      "1357         NaN       0      4    2010        WD         Normal  \n",
      "1358         NaN       0      6    2010        WD         Normal  \n",
      "1362         NaN       0      6    2009        WD         Normal  \n",
      "1365         NaN       0      1    2010        WD         Normal  \n",
      "1368         NaN       0      6    2009        WD         Normal  \n",
      "1373         NaN       0      3    2007        WD         Normal  \n",
      "1381         NaN       0      5    2008        WD         Normal  \n",
      "1383         NaN       0      8    2007        WD         Normal  \n",
      "1396         NaN       0      6    2010        WD         Normal  \n",
      "1407         NaN       0      3    2009        WD         Normal  \n",
      "1417         NaN       0      5    2009        WD         Normal  \n",
      "1419         NaN       0     12    2006        WD         Normal  \n",
      "1423         NaN       0      8    2006        WD         Alloca  \n",
      "1424         NaN       0      6    2007        WD         Normal  \n",
      "1429         NaN       0      4    2007        WD         Normal  \n",
      "1431         NaN       0     10    2009        WD         Normal  \n",
      "1441         NaN       0      5    2008        WD         Normal  \n",
      "1443         NaN       0      5    2009        WD         Normal  \n",
      "1446         NaN       0      4    2010        WD         Normal  \n",
      "\n",
      "[259 rows x 80 columns]\n"
     ]
    }
   ],
   "source": [
    "print(train_data[train_data['LotFrontage'].isnull() == True])"
   ]
  },
  {
   "cell_type": "code",
   "execution_count": 205,
   "metadata": {
    "collapsed": false
   },
   "outputs": [
    {
     "name": "stdout",
     "output_type": "stream",
     "text": [
      "0.7030019347771298\n",
      "0.6020022167939363\n"
     ]
    }
   ],
   "source": [
    "import numpy as np\n",
    "test_data['SqrtLotArea'] = np.sqrt(test_data['LotArea'])\n",
    "train_data['SqrtLotArea'] = np.sqrt(train_data['LotArea'])\n",
    "print(test_data['LotFrontage'].corr(test_data['SqrtLotArea']))\n",
    "print(train_data['LotFrontage'].corr(train_data['SqrtLotArea']))"
   ]
  },
  {
   "cell_type": "code",
   "execution_count": 206,
   "metadata": {
    "collapsed": false
   },
   "outputs": [
    {
     "name": "stderr",
     "output_type": "stream",
     "text": [
      "C:\\Users\\sanketn\\AppData\\Local\\Continuum\\Anaconda3\\lib\\site-packages\\ipykernel\\__main__.py:1: SettingWithCopyWarning: \n",
      "A value is trying to be set on a copy of a slice from a DataFrame\n",
      "\n",
      "See the caveats in the documentation: http://pandas.pydata.org/pandas-docs/stable/indexing.html#indexing-view-versus-copy\n",
      "  if __name__ == '__main__':\n",
      "C:\\Users\\sanketn\\AppData\\Local\\Continuum\\Anaconda3\\lib\\site-packages\\ipykernel\\__main__.py:2: SettingWithCopyWarning: \n",
      "A value is trying to be set on a copy of a slice from a DataFrame\n",
      "\n",
      "See the caveats in the documentation: http://pandas.pydata.org/pandas-docs/stable/indexing.html#indexing-view-versus-copy\n",
      "  from ipykernel import kernelapp as app\n"
     ]
    }
   ],
   "source": [
    "test_data.LotFrontage[test_data['LotFrontage'].isnull()] = test_data.SqrtLotArea[test_data['LotFrontage'].isnull()]\n",
    "train_data.LotFrontage[train_data['LotFrontage'].isnull()] = train_data.SqrtLotArea[train_data['LotFrontage'].isnull()]\n",
    "del test_data['SqrtLotArea']\n",
    "del train_data['SqrtLotArea']"
   ]
  },
  {
   "cell_type": "code",
   "execution_count": 207,
   "metadata": {
    "collapsed": false
   },
   "outputs": [
    {
     "name": "stdout",
     "output_type": "stream",
     "text": [
      "Empty DataFrame\n",
      "Columns: [Id, MSSubClass, MSZoning, LotFrontage, LotArea, Street, Alley, LotShape, LandContour, Utilities, LotConfig, LandSlope, Neighborhood, Condition1, Condition2, BldgType, HouseStyle, OverallQual, OverallCond, YearBuilt, YearRemodAdd, RoofStyle, RoofMatl, Exterior1st, Exterior2nd, MasVnrType, MasVnrArea, ExterQual, ExterCond, Foundation, BsmtQual, BsmtCond, BsmtExposure, BsmtFinType1, BsmtFinSF1, BsmtFinType2, BsmtFinSF2, BsmtUnfSF, TotalBsmtSF, Heating, HeatingQC, CentralAir, Electrical, 1stFlrSF, 2ndFlrSF, LowQualFinSF, GrLivArea, BsmtFullBath, BsmtHalfBath, FullBath, HalfBath, BedroomAbvGr, KitchenAbvGr, KitchenQual, TotRmsAbvGrd, Functional, Fireplaces, FireplaceQu, GarageType, GarageYrBlt, GarageFinish, GarageCars, GarageArea, GarageQual, GarageCond, PavedDrive, WoodDeckSF, OpenPorchSF, EnclosedPorch, 3SsnPorch, ScreenPorch, PoolArea, PoolQC, Fence, MiscFeature, MiscVal, MoSold, YrSold, SaleType, SaleCondition]\n",
      "Index: []\n",
      "\n",
      "[0 rows x 80 columns]\n"
     ]
    }
   ],
   "source": [
    "print(test_data[test_data['LotFrontage'].isnull() == True])"
   ]
  },
  {
   "cell_type": "code",
   "execution_count": 208,
   "metadata": {
    "collapsed": false
   },
   "outputs": [
    {
     "name": "stdout",
     "output_type": "stream",
     "text": [
      "Empty DataFrame\n",
      "Columns: [Id, MSSubClass, MSZoning, LotFrontage, LotArea, Street, Alley, LotShape, LandContour, Utilities, LotConfig, LandSlope, Neighborhood, Condition1, Condition2, BldgType, HouseStyle, OverallQual, OverallCond, YearBuilt, YearRemodAdd, RoofStyle, RoofMatl, Exterior1st, Exterior2nd, MasVnrType, MasVnrArea, ExterQual, ExterCond, Foundation, BsmtQual, BsmtCond, BsmtExposure, BsmtFinType1, BsmtFinSF1, BsmtFinType2, BsmtFinSF2, BsmtUnfSF, TotalBsmtSF, Heating, HeatingQC, CentralAir, Electrical, 1stFlrSF, 2ndFlrSF, LowQualFinSF, GrLivArea, BsmtFullBath, BsmtHalfBath, FullBath, HalfBath, BedroomAbvGr, KitchenAbvGr, KitchenQual, TotRmsAbvGrd, Functional, Fireplaces, FireplaceQu, GarageType, GarageYrBlt, GarageFinish, GarageCars, GarageArea, GarageQual, GarageCond, PavedDrive, WoodDeckSF, OpenPorchSF, EnclosedPorch, 3SsnPorch, ScreenPorch, PoolArea, PoolQC, Fence, MiscFeature, MiscVal, MoSold, YrSold, SaleType, SaleCondition]\n",
      "Index: []\n",
      "\n",
      "[0 rows x 80 columns]\n"
     ]
    }
   ],
   "source": [
    "print(train_data[train_data['LotFrontage'].isnull() == True])"
   ]
  },
  {
   "cell_type": "code",
   "execution_count": 209,
   "metadata": {
    "collapsed": false,
    "scrolled": true
   },
   "outputs": [
    {
     "name": "stdout",
     "output_type": "stream",
     "text": [
      "None       878\n",
      "BrkFace    434\n",
      "Stone      121\n",
      "BrkCmn      10\n",
      "Name: MasVnrType, dtype: int64 1459\n",
      "None       864\n",
      "BrkFace    445\n",
      "Stone      128\n",
      "BrkCmn      15\n",
      "Name: MasVnrType, dtype: int64 1460\n"
     ]
    }
   ],
   "source": [
    "print(exploreData(test_data, 'MasVnrType'), len(test_data))\n",
    "print(exploreData(train_data, 'MasVnrType'), len(train_data))"
   ]
  },
  {
   "cell_type": "code",
   "execution_count": 210,
   "metadata": {
    "collapsed": true
   },
   "outputs": [],
   "source": [
    "imputation(test_data, 'MasVnrType', 'None')\n",
    "imputation(train_data, 'MasVnrType', 'None')"
   ]
  },
  {
   "cell_type": "code",
   "execution_count": 211,
   "metadata": {
    "collapsed": false
   },
   "outputs": [
    {
     "name": "stdout",
     "output_type": "stream",
     "text": [
      "AllPub    1457\n",
      "Name: Utilities, dtype: int64 1459\n"
     ]
    }
   ],
   "source": [
    "print(exploreData(test_data, 'Utilities'), len(test_data))"
   ]
  },
  {
   "cell_type": "code",
   "execution_count": 212,
   "metadata": {
    "collapsed": true
   },
   "outputs": [],
   "source": [
    "imputation(test_data, 'Utilities', 'AllPub')"
   ]
  },
  {
   "cell_type": "code",
   "execution_count": 213,
   "metadata": {
    "collapsed": false
   },
   "outputs": [
    {
     "data": {
      "text/plain": [
       "691    NaN\n",
       "Name: Exterior1st, dtype: object"
      ]
     },
     "execution_count": 213,
     "metadata": {},
     "output_type": "execute_result"
    }
   ],
   "source": [
    "tmp = test_data[test_data['Exterior1st'].isnull() == True]\n",
    "tmp['Exterior1st']"
   ]
  },
  {
   "cell_type": "code",
   "execution_count": 214,
   "metadata": {
    "collapsed": false
   },
   "outputs": [
    {
     "data": {
      "text/plain": [
       "691    NaN\n",
       "Name: Exterior2nd, dtype: object"
      ]
     },
     "execution_count": 214,
     "metadata": {},
     "output_type": "execute_result"
    }
   ],
   "source": [
    "tmp = test_data[test_data['Exterior2nd'].isnull() == True]\n",
    "tmp['Exterior2nd']"
   ]
  },
  {
   "cell_type": "code",
   "execution_count": 215,
   "metadata": {
    "collapsed": false
   },
   "outputs": [
    {
     "name": "stdout",
     "output_type": "stream",
     "text": [
      "VinylSd    510\n",
      "MetalSd    230\n",
      "HdBoard    220\n",
      "Wd Sdng    205\n",
      "Plywood    113\n",
      "CemntBd     65\n",
      "BrkFace     37\n",
      "WdShing     30\n",
      "AsbShng     24\n",
      "Stucco      18\n",
      "BrkComm      4\n",
      "AsphShn      1\n",
      "CBlock       1\n",
      "Name: Exterior1st, dtype: int64 1459\n",
      "VinylSd    510\n",
      "MetalSd    233\n",
      "HdBoard    199\n",
      "Wd Sdng    194\n",
      "Plywood    128\n",
      "CmentBd     66\n",
      "Wd Shng     43\n",
      "BrkFace     22\n",
      "Stucco      21\n",
      "AsbShng     18\n",
      "Brk Cmn     15\n",
      "ImStucc      5\n",
      "CBlock       2\n",
      "AsphShn      1\n",
      "Stone        1\n",
      "Name: Exterior2nd, dtype: int64 1459\n"
     ]
    }
   ],
   "source": [
    "print(exploreData(test_data, 'Exterior1st'), len(test_data))\n",
    "print(exploreData(test_data, 'Exterior2nd'), len(test_data))"
   ]
  },
  {
   "cell_type": "code",
   "execution_count": 216,
   "metadata": {
    "collapsed": false
   },
   "outputs": [
    {
     "name": "stdout",
     "output_type": "stream",
     "text": [
      "Exterior2nd  AsbShng  AsphShn  Brk Cmn  BrkFace  CBlock  CmentBd  HdBoard  \\\n",
      "Exterior1st                                                                 \n",
      "AsbShng           18        0        0        0       0        1        0   \n",
      "AsphShn            0        1        0        0       0        0        0   \n",
      "BrkComm            0        0        2        0       0        0        0   \n",
      "BrkFace            0        0        0       20       0        0        0   \n",
      "CBlock             0        0        0        0       0        0        0   \n",
      "CemntBd            0        0        0        0       0       65        0   \n",
      "HdBoard            0        0        0        1       0        0      190   \n",
      "MetalSd            0        0        0        0       1        0        0   \n",
      "Plywood            0        0       13        0       1        0        4   \n",
      "Stucco             0        0        0        1       0        0        0   \n",
      "VinylSd            0        0        0        0       0        0        0   \n",
      "Wd Sdng            0        0        0        0       0        0        5   \n",
      "WdShing            0        0        0        0       0        0        0   \n",
      "\n",
      "Exterior2nd  ImStucc  MetalSd  Plywood  Stone  Stucco  VinylSd  Wd Sdng  \\\n",
      "Exterior1st                                                               \n",
      "AsbShng            0        0        3      0       0        1        1   \n",
      "AsphShn            0        0        0      0       0        0        0   \n",
      "BrkComm            0        0        0      0       1        0        1   \n",
      "BrkFace            0        3        2      1       2        1        8   \n",
      "CBlock             0        0        0      0       0        1        0   \n",
      "CemntBd            0        0        0      0       0        0        0   \n",
      "HdBoard            4        0       18      0       1        0        2   \n",
      "MetalSd            0      225        0      0       2        2        0   \n",
      "Plywood            1        0       90      0       0        1        2   \n",
      "Stucco             0        0        1      0      13        0        2   \n",
      "VinylSd            0        2        0      0       0      503        1   \n",
      "Wd Sdng            0        3        9      0       2        1      176   \n",
      "WdShing            0        0        5      0       0        0        1   \n",
      "\n",
      "Exterior2nd  Wd Shng  \n",
      "Exterior1st           \n",
      "AsbShng            0  \n",
      "AsphShn            0  \n",
      "BrkComm            0  \n",
      "BrkFace            0  \n",
      "CBlock             0  \n",
      "CemntBd            0  \n",
      "HdBoard            4  \n",
      "MetalSd            0  \n",
      "Plywood            1  \n",
      "Stucco             1  \n",
      "VinylSd            4  \n",
      "Wd Sdng            9  \n",
      "WdShing           24  \n"
     ]
    }
   ],
   "source": [
    "print(pd.crosstab(test_data.Exterior1st, test_data.Exterior2nd))"
   ]
  },
  {
   "cell_type": "code",
   "execution_count": 217,
   "metadata": {
    "collapsed": true
   },
   "outputs": [],
   "source": [
    "imputation(test_data, 'Exterior1st', 'VinylSd')\n",
    "imputation(test_data, 'Exterior2nd', 'VinylSd')"
   ]
  },
  {
   "cell_type": "code",
   "execution_count": 218,
   "metadata": {
    "collapsed": false,
    "scrolled": true
   },
   "outputs": [
    {
     "name": "stdout",
     "output_type": "stream",
     "text": [
      "0.0      877\n",
      "176.0     10\n",
      "144.0      9\n",
      "120.0      8\n",
      "216.0      8\n",
      "200.0      7\n",
      "128.0      6\n",
      "504.0      6\n",
      "302.0      6\n",
      "198.0      6\n",
      "196.0      5\n",
      "140.0      5\n",
      "203.0      5\n",
      "260.0      5\n",
      "210.0      5\n",
      "60.0       5\n",
      "256.0      5\n",
      "164.0      5\n",
      "23.0       4\n",
      "16.0       4\n",
      "112.0      4\n",
      "178.0      4\n",
      "40.0       4\n",
      "194.0      4\n",
      "174.0      4\n",
      "420.0      4\n",
      "143.0      4\n",
      "306.0      4\n",
      "50.0       4\n",
      "186.0      4\n",
      "        ... \n",
      "146.0      1\n",
      "257.0      1\n",
      "138.0      1\n",
      "222.0      1\n",
      "276.0      1\n",
      "125.0      1\n",
      "95.0       1\n",
      "292.0      1\n",
      "680.0      1\n",
      "119.0      1\n",
      "153.0      1\n",
      "572.0      1\n",
      "444.0      1\n",
      "394.0      1\n",
      "500.0      1\n",
      "308.0      1\n",
      "284.0      1\n",
      "101.0      1\n",
      "85.0       1\n",
      "366.0      1\n",
      "286.0      1\n",
      "886.0      1\n",
      "268.0      1\n",
      "418.0      1\n",
      "226.0      1\n",
      "634.0      1\n",
      "177.0      1\n",
      "615.0      1\n",
      "549.0      1\n",
      "442.0      1\n",
      "Name: MasVnrArea, dtype: int64 1459\n",
      "0.0       861\n",
      "72.0        8\n",
      "180.0       8\n",
      "108.0       8\n",
      "120.0       7\n",
      "16.0        7\n",
      "80.0        6\n",
      "200.0       6\n",
      "106.0       6\n",
      "340.0       6\n",
      "170.0       5\n",
      "132.0       5\n",
      "360.0       5\n",
      "84.0        5\n",
      "320.0       5\n",
      "100.0       4\n",
      "196.0       4\n",
      "246.0       4\n",
      "216.0       4\n",
      "160.0       4\n",
      "183.0       4\n",
      "178.0       4\n",
      "270.0       4\n",
      "300.0       4\n",
      "210.0       4\n",
      "268.0       4\n",
      "252.0       4\n",
      "168.0       4\n",
      "336.0       4\n",
      "220.0       4\n",
      "         ... \n",
      "14.0        1\n",
      "53.0        1\n",
      "24.0        1\n",
      "127.0       1\n",
      "365.0       1\n",
      "115.0       1\n",
      "562.0       1\n",
      "259.0       1\n",
      "378.0       1\n",
      "219.0       1\n",
      "161.0       1\n",
      "247.0       1\n",
      "109.0       1\n",
      "278.0       1\n",
      "375.0       1\n",
      "225.0       1\n",
      "604.0       1\n",
      "762.0       1\n",
      "290.0       1\n",
      "299.0       1\n",
      "202.0       1\n",
      "731.0       1\n",
      "167.0       1\n",
      "309.0       1\n",
      "1129.0      1\n",
      "651.0       1\n",
      "337.0       1\n",
      "415.0       1\n",
      "293.0       1\n",
      "621.0       1\n",
      "Name: MasVnrArea, dtype: int64 1460\n"
     ]
    }
   ],
   "source": [
    "print(exploreData(test_data, 'MasVnrArea'), len(test_data))\n",
    "print(exploreData(train_data, 'MasVnrArea'), len(train_data))"
   ]
  },
  {
   "cell_type": "code",
   "execution_count": 219,
   "metadata": {
    "collapsed": true
   },
   "outputs": [],
   "source": [
    "imputation(test_data, 'MasVnrArea', 0.0)\n",
    "imputation(train_data, 'MasVnrArea', 0.0)"
   ]
  },
  {
   "cell_type": "code",
   "execution_count": 220,
   "metadata": {
    "collapsed": false,
    "scrolled": true
   },
   "outputs": [
    {
     "name": "stdout",
     "output_type": "stream",
     "text": [
      "0.0       462\n",
      "24.0       15\n",
      "276.0       6\n",
      "602.0       6\n",
      "300.0       5\n",
      "758.0       5\n",
      "16.0        5\n",
      "288.0       5\n",
      "330.0       4\n",
      "624.0       4\n",
      "476.0       4\n",
      "864.0       4\n",
      "544.0       4\n",
      "600.0       4\n",
      "468.0       4\n",
      "384.0       4\n",
      "456.0       4\n",
      "700.0       4\n",
      "375.0       4\n",
      "915.0       4\n",
      "60.0        4\n",
      "252.0       4\n",
      "500.0       4\n",
      "368.0       4\n",
      "779.0       3\n",
      "435.0       3\n",
      "800.0       3\n",
      "637.0       3\n",
      "36.0        3\n",
      "68.0        3\n",
      "         ... \n",
      "388.0       1\n",
      "286.0       1\n",
      "568.0       1\n",
      "417.0       1\n",
      "362.0       1\n",
      "134.0       1\n",
      "1200.0      1\n",
      "552.0       1\n",
      "994.0       1\n",
      "460.0       1\n",
      "262.0       1\n",
      "1104.0      1\n",
      "332.0       1\n",
      "728.0       1\n",
      "492.0       1\n",
      "261.0       1\n",
      "154.0       1\n",
      "1048.0      1\n",
      "1129.0      1\n",
      "438.0       1\n",
      "908.0       1\n",
      "1080.0      1\n",
      "924.0       1\n",
      "234.0       1\n",
      "324.0       1\n",
      "278.0       1\n",
      "210.0       1\n",
      "580.0       1\n",
      "1328.0      1\n",
      "771.0       1\n",
      "Name: BsmtFinSF1, dtype: int64 1459\n"
     ]
    }
   ],
   "source": [
    "print(exploreData(test_data, 'BsmtFinSF1'), len(test_data))"
   ]
  },
  {
   "cell_type": "code",
   "execution_count": 221,
   "metadata": {
    "collapsed": false,
    "scrolled": true
   },
   "outputs": [
    {
     "name": "stdout",
     "output_type": "stream",
     "text": [
      "0.0       1278\n",
      "162.0        3\n",
      "294.0        3\n",
      "483.0        3\n",
      "144.0        2\n",
      "288.0        2\n",
      "590.0        2\n",
      "596.0        2\n",
      "435.0        2\n",
      "116.0        2\n",
      "72.0         2\n",
      "270.0        2\n",
      "247.0        2\n",
      "159.0        2\n",
      "60.0         2\n",
      "42.0         2\n",
      "168.0        2\n",
      "252.0        2\n",
      "465.0        1\n",
      "691.0        1\n",
      "841.0        1\n",
      "1526.0       1\n",
      "344.0        1\n",
      "761.0        1\n",
      "259.0        1\n",
      "393.0        1\n",
      "474.0        1\n",
      "613.0        1\n",
      "774.0        1\n",
      "522.0        1\n",
      "          ... \n",
      "174.0        1\n",
      "859.0        1\n",
      "755.0        1\n",
      "799.0        1\n",
      "497.0        1\n",
      "419.0        1\n",
      "373.0        1\n",
      "679.0        1\n",
      "273.0        1\n",
      "543.0        1\n",
      "202.0        1\n",
      "95.0         1\n",
      "492.0        1\n",
      "382.0        1\n",
      "904.0        1\n",
      "105.0        1\n",
      "127.0        1\n",
      "210.0        1\n",
      "154.0        1\n",
      "138.0        1\n",
      "748.0        1\n",
      "404.0        1\n",
      "206.0        1\n",
      "278.0        1\n",
      "121.0        1\n",
      "308.0        1\n",
      "167.0        1\n",
      "186.0        1\n",
      "250.0        1\n",
      "750.0        1\n",
      "Name: BsmtFinSF2, dtype: int64 1459\n"
     ]
    }
   ],
   "source": [
    "print(exploreData(test_data, 'BsmtFinSF2'), len(test_data))"
   ]
  },
  {
   "cell_type": "code",
   "execution_count": 222,
   "metadata": {
    "collapsed": true
   },
   "outputs": [],
   "source": [
    "imputation(test_data, 'BsmtFinSF2', 0.0)"
   ]
  },
  {
   "cell_type": "code",
   "execution_count": 223,
   "metadata": {
    "collapsed": false,
    "scrolled": true
   },
   "outputs": [
    {
     "name": "stdout",
     "output_type": "stream",
     "text": [
      "BsmtFinSF2  0.0     6.0     12.0    38.0    40.0    42.0    46.0    48.0    \\\n",
      "BsmtFinSF1                                                                   \n",
      "0.0            462       0       0       0       0       0       0       0   \n",
      "16.0             4       0       0       0       0       0       0       0   \n",
      "20.0             2       0       0       0       0       0       0       0   \n",
      "24.0            15       0       0       0       0       0       0       0   \n",
      "28.0             2       0       0       0       0       0       0       0   \n",
      "32.0             0       0       0       0       0       0       0       0   \n",
      "36.0             2       0       0       0       0       0       0       0   \n",
      "40.0             2       0       0       0       0       0       0       0   \n",
      "42.0             1       0       0       0       0       0       0       0   \n",
      "48.0             2       0       0       0       0       0       0       0   \n",
      "51.0             0       0       0       0       0       0       0       0   \n",
      "52.0             1       0       0       0       0       0       0       0   \n",
      "53.0             0       0       0       0       0       0       0       0   \n",
      "54.0             1       0       0       0       0       0       0       0   \n",
      "55.0             1       0       0       0       0       0       0       0   \n",
      "56.0             2       0       0       0       0       0       0       0   \n",
      "60.0             3       0       0       0       0       0       0       0   \n",
      "65.0             0       0       0       0       0       0       0       0   \n",
      "68.0             1       0       0       0       0       0       0       0   \n",
      "70.0             1       0       0       0       0       0       0       0   \n",
      "73.0             1       0       0       0       0       0       0       0   \n",
      "76.0             1       0       0       0       0       0       0       0   \n",
      "77.0             0       0       0       0       0       0       0       0   \n",
      "78.0             1       0       0       0       0       0       0       0   \n",
      "80.0             2       0       0       0       0       0       0       0   \n",
      "81.0             0       0       0       0       0       0       0       0   \n",
      "85.0             0       0       0       0       0       0       0       0   \n",
      "88.0             0       0       0       0       0       0       0       0   \n",
      "96.0             1       0       0       0       0       0       0       0   \n",
      "100.0            0       0       0       0       0       0       0       0   \n",
      "...            ...     ...     ...     ...     ...     ...     ...     ...   \n",
      "1531.0           1       0       0       0       0       0       0       0   \n",
      "1538.0           1       0       0       0       0       0       0       0   \n",
      "1557.0           1       0       0       0       0       0       0       0   \n",
      "1558.0           1       0       0       0       0       0       0       0   \n",
      "1562.0           1       0       0       0       0       0       0       0   \n",
      "1564.0           1       0       0       0       0       0       0       0   \n",
      "1571.0           1       0       0       0       0       0       0       0   \n",
      "1572.0           1       0       0       0       0       0       0       0   \n",
      "1573.0           2       0       0       0       0       0       0       0   \n",
      "1576.0           1       0       0       0       0       0       0       0   \n",
      "1593.0           0       0       0       0       0       0       0       0   \n",
      "1632.0           0       0       0       0       0       0       0       0   \n",
      "1640.0           1       0       0       0       0       0       0       0   \n",
      "1660.0           1       0       0       0       0       0       0       0   \n",
      "1682.0           1       0       0       0       0       0       0       0   \n",
      "1684.0           1       0       0       0       0       0       0       0   \n",
      "1728.0           0       0       0       0       0       0       0       0   \n",
      "1732.0           1       0       0       0       0       0       0       0   \n",
      "1733.0           0       0       0       0       0       0       0       0   \n",
      "1758.0           1       0       0       0       0       0       0       0   \n",
      "1812.0           1       0       0       0       0       0       0       0   \n",
      "1836.0           1       0       0       0       0       0       0       0   \n",
      "1965.0           1       0       0       0       0       0       0       0   \n",
      "1972.0           1       0       0       0       0       0       0       0   \n",
      "2085.0           1       0       0       0       0       0       0       0   \n",
      "2146.0           1       0       0       0       0       0       0       0   \n",
      "2158.0           1       0       0       0       0       0       0       0   \n",
      "2257.0           1       0       0       0       0       0       0       0   \n",
      "2288.0           1       0       0       0       0       0       0       0   \n",
      "4010.0           1       0       0       0       0       0       0       0   \n",
      "\n",
      "BsmtFinSF2  52.0    60.0     ...    981.0   982.0   1020.0  1037.0  1039.0  \\\n",
      "BsmtFinSF1                   ...                                             \n",
      "0.0              0       0   ...         0       0       0       0       0   \n",
      "16.0             0       0   ...         0       0       0       0       0   \n",
      "20.0             0       0   ...         0       0       0       0       0   \n",
      "24.0             0       0   ...         0       0       0       0       0   \n",
      "28.0             0       0   ...         0       0       0       0       0   \n",
      "32.0             0       0   ...         0       0       0       0       0   \n",
      "36.0             0       0   ...         0       0       0       0       0   \n",
      "40.0             0       0   ...         0       0       0       0       0   \n",
      "42.0             0       0   ...         0       0       0       0       0   \n",
      "48.0             0       0   ...         0       0       0       0       0   \n",
      "51.0             0       0   ...         0       0       0       0       0   \n",
      "52.0             0       0   ...         0       0       0       0       0   \n",
      "53.0             0       0   ...         0       0       0       0       0   \n",
      "54.0             0       0   ...         0       0       0       0       0   \n",
      "55.0             0       0   ...         0       0       0       0       0   \n",
      "56.0             0       0   ...         0       0       0       0       0   \n",
      "60.0             0       0   ...         0       0       0       0       0   \n",
      "65.0             0       0   ...         0       0       0       0       0   \n",
      "68.0             0       0   ...         0       0       0       0       0   \n",
      "70.0             0       0   ...         0       0       0       0       0   \n",
      "73.0             0       0   ...         0       0       0       0       0   \n",
      "76.0             0       0   ...         0       0       0       0       0   \n",
      "77.0             0       0   ...         0       0       0       0       0   \n",
      "78.0             0       0   ...         0       0       0       0       0   \n",
      "80.0             0       0   ...         0       0       0       0       0   \n",
      "81.0             0       0   ...         0       0       0       0       0   \n",
      "85.0             0       0   ...         0       0       0       0       0   \n",
      "88.0             0       0   ...         0       0       0       0       0   \n",
      "96.0             0       0   ...         0       0       0       0       0   \n",
      "100.0            0       0   ...         0       0       0       0       0   \n",
      "...            ...     ...   ...       ...     ...     ...     ...     ...   \n",
      "1531.0           0       0   ...         0       0       0       0       0   \n",
      "1538.0           0       0   ...         0       0       0       0       0   \n",
      "1557.0           0       0   ...         0       0       0       0       0   \n",
      "1558.0           0       0   ...         0       0       0       0       0   \n",
      "1562.0           0       0   ...         0       0       0       0       0   \n",
      "1564.0           0       0   ...         0       0       0       0       0   \n",
      "1571.0           0       0   ...         0       0       0       0       0   \n",
      "1572.0           0       0   ...         0       0       0       0       0   \n",
      "1573.0           0       0   ...         0       0       0       0       0   \n",
      "1576.0           0       0   ...         0       0       0       0       0   \n",
      "1593.0           0       0   ...         0       0       0       0       0   \n",
      "1632.0           0       0   ...         0       0       0       0       0   \n",
      "1640.0           0       0   ...         0       0       0       0       0   \n",
      "1660.0           0       0   ...         0       0       0       0       0   \n",
      "1682.0           0       0   ...         0       0       0       0       0   \n",
      "1684.0           0       0   ...         0       0       0       0       0   \n",
      "1728.0           0       0   ...         0       0       0       0       0   \n",
      "1732.0           0       0   ...         0       0       0       0       0   \n",
      "1733.0           0       0   ...         0       0       0       0       0   \n",
      "1758.0           0       0   ...         0       0       0       0       0   \n",
      "1812.0           0       0   ...         0       0       0       0       0   \n",
      "1836.0           0       0   ...         0       0       0       0       0   \n",
      "1965.0           0       0   ...         0       0       0       0       0   \n",
      "1972.0           0       0   ...         0       0       0       0       0   \n",
      "2085.0           0       0   ...         0       0       0       0       0   \n",
      "2146.0           0       0   ...         0       0       0       0       0   \n",
      "2158.0           0       0   ...         0       0       0       0       0   \n",
      "2257.0           0       0   ...         0       0       0       0       0   \n",
      "2288.0           0       0   ...         0       0       0       0       0   \n",
      "4010.0           0       0   ...         0       0       0       0       0   \n",
      "\n",
      "BsmtFinSF2  1073.0  1083.0  1164.0  1393.0  1526.0  \n",
      "BsmtFinSF1                                          \n",
      "0.0              0       0       0       0       0  \n",
      "16.0             0       0       0       0       0  \n",
      "20.0             0       0       0       0       0  \n",
      "24.0             0       0       0       0       0  \n",
      "28.0             0       0       0       0       0  \n",
      "32.0             0       0       0       0       0  \n",
      "36.0             0       0       0       0       0  \n",
      "40.0             0       0       0       0       0  \n",
      "42.0             0       0       0       0       0  \n",
      "48.0             0       0       0       0       0  \n",
      "51.0             0       0       0       0       0  \n",
      "52.0             0       0       0       0       0  \n",
      "53.0             0       0       0       0       0  \n",
      "54.0             0       0       0       0       0  \n",
      "55.0             0       0       0       0       0  \n",
      "56.0             0       0       0       0       0  \n",
      "60.0             0       0       0       0       0  \n",
      "65.0             0       0       0       0       0  \n",
      "68.0             0       0       0       0       0  \n",
      "70.0             0       0       0       0       0  \n",
      "73.0             0       0       0       0       0  \n",
      "76.0             0       0       0       0       0  \n",
      "77.0             0       0       0       0       0  \n",
      "78.0             0       0       0       0       0  \n",
      "80.0             0       0       0       0       0  \n",
      "81.0             0       0       0       0       0  \n",
      "85.0             0       0       0       0       0  \n",
      "88.0             0       0       0       0       0  \n",
      "96.0             0       0       0       0       0  \n",
      "100.0            0       0       0       0       0  \n",
      "...            ...     ...     ...     ...     ...  \n",
      "1531.0           0       0       0       0       0  \n",
      "1538.0           0       0       0       0       0  \n",
      "1557.0           0       0       0       0       0  \n",
      "1558.0           0       0       0       0       0  \n",
      "1562.0           0       0       0       0       0  \n",
      "1564.0           0       0       0       0       0  \n",
      "1571.0           0       0       0       0       0  \n",
      "1572.0           0       0       0       0       0  \n",
      "1573.0           0       0       0       0       0  \n",
      "1576.0           0       0       0       0       0  \n",
      "1593.0           0       0       0       0       0  \n",
      "1632.0           0       0       0       0       0  \n",
      "1640.0           0       0       0       0       0  \n",
      "1660.0           0       0       0       0       0  \n",
      "1682.0           0       0       0       0       0  \n",
      "1684.0           0       0       0       0       0  \n",
      "1728.0           0       0       0       0       0  \n",
      "1732.0           0       0       0       0       0  \n",
      "1733.0           0       0       0       0       0  \n",
      "1758.0           0       0       0       0       0  \n",
      "1812.0           0       0       0       0       0  \n",
      "1836.0           0       0       0       0       0  \n",
      "1965.0           0       0       0       0       0  \n",
      "1972.0           0       0       0       0       0  \n",
      "2085.0           0       0       0       0       0  \n",
      "2146.0           0       0       0       0       0  \n",
      "2158.0           0       0       0       0       0  \n",
      "2257.0           0       0       0       0       0  \n",
      "2288.0           0       0       0       0       0  \n",
      "4010.0           0       0       0       0       0  \n",
      "\n",
      "[669 rows x 161 columns]\n"
     ]
    }
   ],
   "source": [
    "print(pd.crosstab(test_data.BsmtFinSF1, test_data.BsmtFinSF2))"
   ]
  },
  {
   "cell_type": "code",
   "execution_count": 224,
   "metadata": {
    "collapsed": true
   },
   "outputs": [],
   "source": [
    "imputation(test_data, 'BsmtFinSF1', 0.0)"
   ]
  },
  {
   "cell_type": "code",
   "execution_count": 225,
   "metadata": {
    "collapsed": false
   },
   "outputs": [
    {
     "name": "stdout",
     "output_type": "stream",
     "text": [
      "0.0       123\n",
      "384.0      11\n",
      "624.0       8\n",
      "480.0       7\n",
      "100.0       7\n",
      "672.0       7\n",
      "348.0       7\n",
      "738.0       7\n",
      "120.0       6\n",
      "216.0       6\n",
      "784.0       6\n",
      "294.0       6\n",
      "816.0       6\n",
      "322.0       5\n",
      "728.0       5\n",
      "546.0       5\n",
      "525.0       5\n",
      "585.0       5\n",
      "226.0       5\n",
      "228.0       5\n",
      "30.0        5\n",
      "832.0       5\n",
      "240.0       5\n",
      "150.0       5\n",
      "768.0       5\n",
      "186.0       5\n",
      "600.0       5\n",
      "396.0       5\n",
      "456.0       5\n",
      "306.0       5\n",
      "         ... \n",
      "1270.0      1\n",
      "129.0       1\n",
      "390.0       1\n",
      "161.0       1\n",
      "1105.0      1\n",
      "1214.0      1\n",
      "470.0       1\n",
      "290.0       1\n",
      "747.0       1\n",
      "613.0       1\n",
      "615.0       1\n",
      "1146.0      1\n",
      "1694.0      1\n",
      "809.0       1\n",
      "577.0       1\n",
      "1721.0      1\n",
      "2140.0      1\n",
      "1090.0      1\n",
      "1254.0      1\n",
      "354.0       1\n",
      "671.0       1\n",
      "1043.0      1\n",
      "1153.0      1\n",
      "1335.0      1\n",
      "1324.0      1\n",
      "406.0       1\n",
      "1604.0      1\n",
      "1369.0      1\n",
      "549.0       1\n",
      "1211.0      1\n",
      "Name: BsmtUnfSF, dtype: int64 1459\n"
     ]
    }
   ],
   "source": [
    "print(exploreData(test_data, 'BsmtUnfSF'), len(test_data))"
   ]
  },
  {
   "cell_type": "code",
   "execution_count": 226,
   "metadata": {
    "collapsed": true
   },
   "outputs": [],
   "source": [
    "# calculate weighted average\n",
    "def weightedAvg(data, col):\n",
    "    tmp = exploreData(data, col)\n",
    "    return sum(tmp.index * tmp.values)/sum(tmp.values)"
   ]
  },
  {
   "cell_type": "code",
   "execution_count": 227,
   "metadata": {
    "collapsed": true
   },
   "outputs": [],
   "source": [
    "imputation(test_data, 'BsmtUnfSF', round(weightedAvg(test_data, 'BsmtUnfSF')))"
   ]
  },
  {
   "cell_type": "code",
   "execution_count": 228,
   "metadata": {
    "collapsed": true
   },
   "outputs": [],
   "source": [
    "test_data = test_data.drop(['TotalBsmtSF'], axis=1)\n",
    "train_data = train_data.drop(['TotalBsmtSF'], axis=1)"
   ]
  },
  {
   "cell_type": "code",
   "execution_count": 229,
   "metadata": {
    "collapsed": false
   },
   "outputs": [
    {
     "name": "stdout",
     "output_type": "stream",
     "text": [
      "0.0    849\n",
      "1.0    584\n",
      "2.0     23\n",
      "3.0      1\n",
      "Name: BsmtFullBath, dtype: int64 1459\n"
     ]
    }
   ],
   "source": [
    "print(exploreData(test_data, 'BsmtFullBath'), len(test_data))"
   ]
  },
  {
   "cell_type": "code",
   "execution_count": 230,
   "metadata": {
    "collapsed": true
   },
   "outputs": [],
   "source": [
    "imputation(test_data, 'BsmtFullBath', round(weightedAvg(test_data, 'BsmtFullBath')))"
   ]
  },
  {
   "cell_type": "code",
   "execution_count": 231,
   "metadata": {
    "collapsed": false,
    "scrolled": true
   },
   "outputs": [
    {
     "name": "stdout",
     "output_type": "stream",
     "text": [
      "0.0    1364\n",
      "1.0      91\n",
      "2.0       2\n",
      "Name: BsmtHalfBath, dtype: int64 1459\n"
     ]
    }
   ],
   "source": [
    "print(exploreData(test_data, 'BsmtHalfBath'), len(test_data))"
   ]
  },
  {
   "cell_type": "code",
   "execution_count": 232,
   "metadata": {
    "collapsed": true
   },
   "outputs": [],
   "source": [
    "imputation(test_data, 'BsmtHalfBath', 0.0)"
   ]
  },
  {
   "cell_type": "code",
   "execution_count": 233,
   "metadata": {
    "collapsed": false,
    "scrolled": false
   },
   "outputs": [
    {
     "name": "stdout",
     "output_type": "stream",
     "text": [
      "SBrkr    1334\n",
      "FuseA      94\n",
      "FuseF      27\n",
      "FuseP       3\n",
      "Mix         1\n",
      "Name: Electrical, dtype: int64 1460\n"
     ]
    }
   ],
   "source": [
    "print(exploreData(train_data, 'Electrical'), len(train_data))"
   ]
  },
  {
   "cell_type": "code",
   "execution_count": 234,
   "metadata": {
    "collapsed": true
   },
   "outputs": [],
   "source": [
    "imputation(train_data, 'Electrical', 'SBrkr')"
   ]
  },
  {
   "cell_type": "code",
   "execution_count": 235,
   "metadata": {
    "collapsed": false
   },
   "outputs": [
    {
     "name": "stdout",
     "output_type": "stream",
     "text": [
      "TA    757\n",
      "Gd    565\n",
      "Ex    105\n",
      "Fa     31\n",
      "Name: KitchenQual, dtype: int64 1459\n"
     ]
    }
   ],
   "source": [
    "print(exploreData(test_data, 'KitchenQual'), len(test_data))"
   ]
  },
  {
   "cell_type": "code",
   "execution_count": 236,
   "metadata": {
    "collapsed": true
   },
   "outputs": [],
   "source": [
    "imputation(test_data, 'KitchenQual', 'TA')"
   ]
  },
  {
   "cell_type": "code",
   "execution_count": 237,
   "metadata": {
    "collapsed": false
   },
   "outputs": [
    {
     "name": "stdout",
     "output_type": "stream",
     "text": [
      "Typ     1357\n",
      "Min2      36\n",
      "Min1      34\n",
      "Mod       20\n",
      "Maj1       5\n",
      "Maj2       4\n",
      "Sev        1\n",
      "Name: Functional, dtype: int64 1459\n"
     ]
    }
   ],
   "source": [
    "print(exploreData(test_data, 'Functional'), len(test_data))"
   ]
  },
  {
   "cell_type": "code",
   "execution_count": 238,
   "metadata": {
    "collapsed": true
   },
   "outputs": [],
   "source": [
    "imputation(test_data, 'Functional', 'Typ')"
   ]
  },
  {
   "cell_type": "code",
   "execution_count": 239,
   "metadata": {
    "collapsed": false,
    "scrolled": true
   },
   "outputs": [
    {
     "name": "stdout",
     "output_type": "stream",
     "text": [
      "2005.0    65\n",
      "2006.0    59\n",
      "2004.0    53\n",
      "2003.0    50\n",
      "2007.0    49\n",
      "1977.0    35\n",
      "1998.0    31\n",
      "1999.0    30\n",
      "2008.0    29\n",
      "1976.0    29\n",
      "2000.0    27\n",
      "2002.0    26\n",
      "1968.0    26\n",
      "1950.0    24\n",
      "1993.0    22\n",
      "2009.0    21\n",
      "1965.0    21\n",
      "1966.0    21\n",
      "1962.0    21\n",
      "1958.0    21\n",
      "2001.0    20\n",
      "1996.0    20\n",
      "1957.0    20\n",
      "1970.0    20\n",
      "1960.0    19\n",
      "1997.0    19\n",
      "1978.0    19\n",
      "1954.0    19\n",
      "1974.0    18\n",
      "1994.0    18\n",
      "          ..\n",
      "1922.0     5\n",
      "1936.0     5\n",
      "1916.0     5\n",
      "1931.0     4\n",
      "1945.0     4\n",
      "1935.0     4\n",
      "1928.0     4\n",
      "1946.0     4\n",
      "1982.0     4\n",
      "1938.0     3\n",
      "1921.0     3\n",
      "1924.0     3\n",
      "1910.0     3\n",
      "1952.0     3\n",
      "1932.0     3\n",
      "2010.0     3\n",
      "1923.0     3\n",
      "1937.0     2\n",
      "1934.0     2\n",
      "1918.0     2\n",
      "1947.0     2\n",
      "1929.0     2\n",
      "1914.0     2\n",
      "1915.0     2\n",
      "1942.0     2\n",
      "1908.0     1\n",
      "1927.0     1\n",
      "1933.0     1\n",
      "1900.0     1\n",
      "1906.0     1\n",
      "Name: GarageYrBlt, dtype: int64 1460\n"
     ]
    }
   ],
   "source": [
    "print(exploreData(train_data, 'GarageYrBlt'), len(train_data))"
   ]
  },
  {
   "cell_type": "code",
   "execution_count": 240,
   "metadata": {
    "collapsed": false
   },
   "outputs": [
    {
     "name": "stdout",
     "output_type": "stream",
     "text": [
      "2005.0    77\n",
      "2007.0    66\n",
      "2006.0    56\n",
      "2004.0    46\n",
      "2003.0    42\n",
      "2008.0    32\n",
      "1977.0    31\n",
      "2000.0    28\n",
      "1993.0    27\n",
      "1950.0    27\n",
      "2002.0    27\n",
      "1998.0    27\n",
      "1956.0    25\n",
      "1997.0    25\n",
      "1999.0    24\n",
      "1978.0    22\n",
      "1968.0    22\n",
      "1958.0    21\n",
      "1967.0    21\n",
      "1994.0    21\n",
      "1976.0    21\n",
      "2001.0    21\n",
      "1979.0    20\n",
      "1996.0    20\n",
      "1920.0    19\n",
      "1930.0    19\n",
      "1959.0    19\n",
      "1975.0    19\n",
      "1954.0    18\n",
      "1966.0    18\n",
      "          ..\n",
      "1946.0     5\n",
      "1981.0     5\n",
      "1924.0     5\n",
      "1982.0     5\n",
      "1915.0     5\n",
      "1900.0     5\n",
      "1925.0     5\n",
      "1942.0     4\n",
      "1941.0     4\n",
      "1927.0     4\n",
      "1937.0     4\n",
      "1983.0     4\n",
      "1935.0     4\n",
      "1928.0     3\n",
      "1923.0     3\n",
      "1947.0     3\n",
      "1922.0     3\n",
      "1934.0     2\n",
      "1921.0     2\n",
      "1917.0     2\n",
      "1936.0     2\n",
      "2010.0     2\n",
      "1932.0     1\n",
      "1943.0     1\n",
      "2207.0     1\n",
      "1918.0     1\n",
      "1895.0     1\n",
      "1919.0     1\n",
      "1896.0     1\n",
      "1916.0     1\n",
      "Name: GarageYrBlt, dtype: int64 1459\n"
     ]
    }
   ],
   "source": [
    "print(exploreData(test_data, 'GarageYrBlt'), len(test_data))"
   ]
  },
  {
   "cell_type": "code",
   "execution_count": 241,
   "metadata": {
    "collapsed": true
   },
   "outputs": [],
   "source": [
    "imputation(train_data, 'GarageYrBlt', round(weightedAvg(train_data, 'GarageYrBlt')))\n",
    "imputation(test_data, 'GarageYrBlt', round(weightedAvg(test_data, 'GarageYrBlt')))"
   ]
  },
  {
   "cell_type": "code",
   "execution_count": 242,
   "metadata": {
    "collapsed": false
   },
   "outputs": [
    {
     "name": "stdout",
     "output_type": "stream",
     "text": [
      "2.0    770\n",
      "1.0    407\n",
      "3.0    193\n",
      "0.0     76\n",
      "4.0     11\n",
      "5.0      1\n",
      "Name: GarageCars, dtype: int64 1459\n"
     ]
    }
   ],
   "source": [
    "print(exploreData(test_data, 'GarageCars'), len(test_data))"
   ]
  },
  {
   "cell_type": "code",
   "execution_count": 243,
   "metadata": {
    "collapsed": true
   },
   "outputs": [],
   "source": [
    "imputation(test_data, 'GarageCars', 2.0)"
   ]
  },
  {
   "cell_type": "code",
   "execution_count": 244,
   "metadata": {
    "collapsed": false,
    "scrolled": false
   },
   "outputs": [
    {
     "name": "stdout",
     "output_type": "stream",
     "text": [
      "0.0       76\n",
      "576.0     50\n",
      "440.0     47\n",
      "484.0     34\n",
      "400.0     33\n",
      "528.0     32\n",
      "240.0     31\n",
      "480.0     30\n",
      "308.0     28\n",
      "264.0     27\n",
      "288.0     23\n",
      "336.0     17\n",
      "280.0     14\n",
      "506.0     14\n",
      "462.0     13\n",
      "495.0     13\n",
      "384.0     12\n",
      "216.0     11\n",
      "286.0     11\n",
      "525.0     11\n",
      "420.0     10\n",
      "312.0     10\n",
      "624.0     10\n",
      "550.0      9\n",
      "504.0      9\n",
      "672.0      8\n",
      "478.0      8\n",
      "390.0      8\n",
      "470.0      7\n",
      "460.0      7\n",
      "          ..\n",
      "494.0      1\n",
      "404.0      1\n",
      "476.0      1\n",
      "412.0      1\n",
      "326.0      1\n",
      "1200.0     1\n",
      "332.0      1\n",
      "836.0      1\n",
      "760.0      1\n",
      "428.0      1\n",
      "283.0      1\n",
      "485.0      1\n",
      "543.0      1\n",
      "443.0      1\n",
      "569.0      1\n",
      "581.0      1\n",
      "787.0      1\n",
      "711.0      1\n",
      "1174.0     1\n",
      "609.0      1\n",
      "776.0      1\n",
      "904.0      1\n",
      "345.0      1\n",
      "619.0      1\n",
      "984.0      1\n",
      "364.0      1\n",
      "369.0      1\n",
      "316.0      1\n",
      "226.0      1\n",
      "353.0      1\n",
      "Name: GarageArea, dtype: int64 1459\n"
     ]
    }
   ],
   "source": [
    "print(exploreData(test_data, 'GarageArea'), len(test_data))"
   ]
  },
  {
   "cell_type": "code",
   "execution_count": 245,
   "metadata": {
    "collapsed": true
   },
   "outputs": [],
   "source": [
    "imputation(test_data, 'GarageArea', round(weightedAvg(test_data, 'GarageArea')))"
   ]
  },
  {
   "cell_type": "code",
   "execution_count": 246,
   "metadata": {
    "collapsed": false,
    "scrolled": true
   },
   "outputs": [
    {
     "name": "stdout",
     "output_type": "stream",
     "text": [
      "WD       1258\n",
      "New       117\n",
      "COD        44\n",
      "ConLD      17\n",
      "CWD         8\n",
      "ConLI       4\n",
      "Oth         4\n",
      "Con         3\n",
      "ConLw       3\n",
      "Name: SaleType, dtype: int64 1459\n"
     ]
    }
   ],
   "source": [
    "print(exploreData(test_data, 'SaleType'), len(test_data))"
   ]
  },
  {
   "cell_type": "code",
   "execution_count": 247,
   "metadata": {
    "collapsed": true
   },
   "outputs": [],
   "source": [
    "imputation(test_data, 'SaleType', 'WD')"
   ]
  },
  {
   "cell_type": "code",
   "execution_count": 248,
   "metadata": {
    "collapsed": false,
    "scrolled": true
   },
   "outputs": [
    {
     "name": "stdout",
     "output_type": "stream",
     "text": [
      "['Alley', 'BsmtQual', 'BsmtCond', 'BsmtExposure', 'BsmtFinType1', 'BsmtFinType2', 'FireplaceQu', 'GarageType', 'GarageFinish', 'GarageQual', 'GarageCond', 'PoolQC', 'Fence', 'MiscFeature'] 14\n",
      "['Alley', 'BsmtQual', 'BsmtCond', 'BsmtExposure', 'BsmtFinType1', 'BsmtFinType2', 'FireplaceQu', 'GarageType', 'GarageFinish', 'GarageQual', 'GarageCond', 'PoolQC', 'Fence', 'MiscFeature'] 14\n",
      "['GarageFinish', 'BsmtFinType2', 'GarageCond', 'BsmtExposure', 'FireplaceQu', 'Fence', 'BsmtQual', 'BsmtCond', 'GarageType', 'GarageQual', 'PoolQC', 'BsmtFinType1', 'MiscFeature', 'Alley'] 14\n"
     ]
    }
   ],
   "source": [
    "misTrain = countMissing(train_data)\n",
    "misTest = countMissing(test_data)\n",
    "misTotal = list(set().union(misTrain, misTest))\n",
    "print(misTrain, len(misTrain))\n",
    "print(misTest, len(misTest))\n",
    "print(misTotal, len(misTotal))"
   ]
  },
  {
   "cell_type": "code",
   "execution_count": 249,
   "metadata": {
    "collapsed": false,
    "scrolled": false
   },
   "outputs": [
    {
     "name": "stdout",
     "output_type": "stream",
     "text": [
      "{'int64': Index(['Id', 'MSSubClass', 'LotArea', 'OverallQual', 'OverallCond',\n",
      "       'YearBuilt', 'YearRemodAdd', '1stFlrSF', '2ndFlrSF', 'LowQualFinSF',\n",
      "       'GrLivArea', 'FullBath', 'HalfBath', 'BedroomAbvGr', 'KitchenAbvGr',\n",
      "       'TotRmsAbvGrd', 'Fireplaces', 'WoodDeckSF', 'OpenPorchSF',\n",
      "       'EnclosedPorch', '3SsnPorch', 'ScreenPorch', 'PoolArea', 'MiscVal',\n",
      "       'MoSold', 'YrSold'],\n",
      "      dtype='object'), 'float64': Index(['LotFrontage', 'MasVnrArea', 'BsmtFinSF1', 'BsmtFinSF2', 'BsmtUnfSF',\n",
      "       'BsmtFullBath', 'BsmtHalfBath', 'GarageYrBlt', 'GarageCars',\n",
      "       'GarageArea'],\n",
      "      dtype='object'), 'object': Index(['MSZoning', 'Street', 'Alley', 'LotShape', 'LandContour', 'Utilities',\n",
      "       'LotConfig', 'LandSlope', 'Neighborhood', 'Condition1', 'Condition2',\n",
      "       'BldgType', 'HouseStyle', 'RoofStyle', 'RoofMatl', 'Exterior1st',\n",
      "       'Exterior2nd', 'MasVnrType', 'ExterQual', 'ExterCond', 'Foundation',\n",
      "       'BsmtQual', 'BsmtCond', 'BsmtExposure', 'BsmtFinType1', 'BsmtFinType2',\n",
      "       'Heating', 'HeatingQC', 'CentralAir', 'Electrical', 'KitchenQual',\n",
      "       'Functional', 'FireplaceQu', 'GarageType', 'GarageFinish', 'GarageQual',\n",
      "       'GarageCond', 'PavedDrive', 'PoolQC', 'Fence', 'MiscFeature',\n",
      "       'SaleType', 'SaleCondition'],\n",
      "      dtype='object')}\n"
     ]
    }
   ],
   "source": [
    "# the codes in Module 5\n",
    "# let's start encoding categorical features\n",
    "tmp = test_data.columns.to_series().groupby(test_data.dtypes).groups\n",
    "print({k.name: v for k, v in tmp.items()})"
   ]
  },
  {
   "cell_type": "code",
   "execution_count": 250,
   "metadata": {
    "collapsed": true
   },
   "outputs": [],
   "source": [
    "train_data = train_data.replace({'ExterQual': {'Ex': 5, 'Gd': 4, 'TA': 3, 'Fa': 2, 'Po': 1, np.NaN: 0}})\n",
    "test_data = test_data.replace({'ExterQual': {'Ex': 5, 'Gd': 4, 'TA': 3, 'Fa': 2, 'Po': 1, np.NaN: 0}})"
   ]
  },
  {
   "cell_type": "code",
   "execution_count": 251,
   "metadata": {
    "collapsed": true
   },
   "outputs": [],
   "source": [
    "train_data = train_data.replace({'ExterCond': {'Ex': 5, 'Gd': 4, 'TA': 3, 'Fa': 2, 'Po': 1, np.NaN: 0}})\n",
    "test_data = test_data.replace({'ExterCond': {'Ex': 5, 'Gd': 4, 'TA': 3, 'Fa': 2, 'Po': 1, np.NaN: 0}})"
   ]
  },
  {
   "cell_type": "code",
   "execution_count": 252,
   "metadata": {
    "collapsed": true
   },
   "outputs": [],
   "source": [
    "train_data = train_data.replace({'BsmtQual': {'Ex': 5, 'Gd': 4, 'TA': 3, 'Fa': 2, 'Po': 1, np.NaN: 0}})\n",
    "test_data = test_data.replace({'BsmtQual': {'Ex': 5, 'Gd': 4, 'TA': 3, 'Fa': 2, 'Po': 1, np.NaN: 0}})"
   ]
  },
  {
   "cell_type": "code",
   "execution_count": 253,
   "metadata": {
    "collapsed": true
   },
   "outputs": [],
   "source": [
    "train_data = train_data.replace({'BsmtCond': {'Ex': 5, 'Gd': 4, 'TA': 3, 'Fa': 2, 'Po': 1, np.NaN: 0}})\n",
    "test_data = test_data.replace({'BsmtCond': {'Ex': 5, 'Gd': 4, 'TA': 3, 'Fa': 2, 'Po': 1, np.NaN: 0}})"
   ]
  },
  {
   "cell_type": "code",
   "execution_count": 254,
   "metadata": {
    "collapsed": true
   },
   "outputs": [],
   "source": [
    "train_data = train_data.replace({'BsmtExposure': {'Gd': 4, 'Av': 3, 'Mn': 2, 'No': 1, np.NaN: 0}})\n",
    "test_data = test_data.replace({'BsmtExposure': {'Gd': 4, 'Av': 3, 'Mn': 2, 'No': 1, np.NaN: 0}})"
   ]
  },
  {
   "cell_type": "code",
   "execution_count": 255,
   "metadata": {
    "collapsed": true
   },
   "outputs": [],
   "source": [
    "train_data = train_data.replace({'BsmtFinType1': {'GLQ': 6, 'ALQ': 5, 'BLQ': 4, 'Rec': 3, 'LwQ': 2, 'Unf': 1, np.NaN: 0}})\n",
    "test_data = test_data.replace({'BsmtFinType1': {'GLQ': 6, 'ALQ': 5, 'BLQ': 4, 'Rec': 3, 'LwQ': 2, 'Unf': 1, np.NaN: 0}})"
   ]
  },
  {
   "cell_type": "code",
   "execution_count": 256,
   "metadata": {
    "collapsed": true
   },
   "outputs": [],
   "source": [
    "train_data = train_data.replace({'BsmtFinType2': {'GLQ': 6, 'ALQ': 5, 'BLQ': 4, 'Rec': 3, 'LwQ': 2, 'Unf': 1, np.NaN: 0}})\n",
    "test_data = test_data.replace({'BsmtFinType2': {'GLQ': 6, 'ALQ': 5, 'BLQ': 4, 'Rec': 3, 'LwQ': 2, 'Unf': 1, np.NaN: 0}})"
   ]
  },
  {
   "cell_type": "code",
   "execution_count": 257,
   "metadata": {
    "collapsed": true
   },
   "outputs": [],
   "source": [
    "train_data = train_data.replace({'HeatingQC': {'Ex': 5, 'Gd': 4, 'TA': 3, 'Fa': 2, 'Po': 1, np.NaN: 0}})\n",
    "test_data = test_data.replace({'HeatingQC': {'Ex': 5, 'Gd': 4, 'TA': 3, 'Fa': 2, 'Po': 1, np.NaN: 0}})"
   ]
  },
  {
   "cell_type": "code",
   "execution_count": 258,
   "metadata": {
    "collapsed": true
   },
   "outputs": [],
   "source": [
    "train_data = train_data.replace({'KitchenQual': {'Ex': 5, 'Gd': 4, 'TA': 3, 'Fa': 2, 'Po': 1, np.NaN: 0}})\n",
    "test_data = test_data.replace({'KitchenQual': {'Ex': 5, 'Gd': 4, 'TA': 3, 'Fa': 2, 'Po': 1, np.NaN: 0}})"
   ]
  },
  {
   "cell_type": "code",
   "execution_count": 259,
   "metadata": {
    "collapsed": true
   },
   "outputs": [],
   "source": [
    "train_data = train_data.replace({'Functional': {'Typ': 8, 'Min1': 7, 'Min2': 6, 'Mod': 5, 'Maj1': 4, 'Maj2': 3, 'Sev': 2, 'Sal': 1, np.NaN: 0}})\n",
    "test_data = test_data.replace({'Functional': {'Typ': 8, 'Min1': 7, 'Min2': 6, 'Mod': 5, 'Maj1': 4, 'Maj2': 3, 'Sev': 2, 'Sal': 1, np.NaN: 0}})"
   ]
  },
  {
   "cell_type": "code",
   "execution_count": 260,
   "metadata": {
    "collapsed": true
   },
   "outputs": [],
   "source": [
    "train_data = train_data.replace({'FireplaceQu': {'Ex': 5, 'Gd': 4, 'TA': 3, 'Fa': 2, 'Po': 1, np.NaN: 0}})\n",
    "test_data = test_data.replace({'FireplaceQu': {'Ex': 5, 'Gd': 4, 'TA': 3, 'Fa': 2, 'Po': 1, np.NaN: 0}})"
   ]
  },
  {
   "cell_type": "code",
   "execution_count": 261,
   "metadata": {
    "collapsed": true
   },
   "outputs": [],
   "source": [
    "train_data = train_data.replace({'GarageFinish': {'Fin': 3, 'RFn': 2, 'Unf': 1, np.NaN: 0}})\n",
    "test_data = test_data.replace({'GarageFinish': {'Fin': 3, 'RFn': 2, 'Unf': 1, np.NaN: 0}})"
   ]
  },
  {
   "cell_type": "code",
   "execution_count": 262,
   "metadata": {
    "collapsed": true
   },
   "outputs": [],
   "source": [
    "train_data = train_data.replace({'GarageQual': {'Ex': 5, 'Gd': 4, 'TA': 3, 'Fa': 2, 'Po': 1, np.NaN: 0}})\n",
    "test_data = test_data.replace({'GarageQual': {'Ex': 5, 'Gd': 4, 'TA': 3, 'Fa': 2, 'Po': 1, np.NaN: 0}})"
   ]
  },
  {
   "cell_type": "code",
   "execution_count": 263,
   "metadata": {
    "collapsed": true
   },
   "outputs": [],
   "source": [
    "train_data = train_data.replace({'GarageCond': {'Ex': 5, 'Gd': 4, 'TA': 3, 'Fa': 2, 'Po': 1, np.NaN: 0}})\n",
    "test_data = test_data.replace({'GarageCond': {'Ex': 5, 'Gd': 4, 'TA': 3, 'Fa': 2, 'Po': 1, np.NaN: 0}})"
   ]
  },
  {
   "cell_type": "code",
   "execution_count": 264,
   "metadata": {
    "collapsed": true
   },
   "outputs": [],
   "source": [
    "train_data = train_data.replace({'PavedDrive': {'Y': 3, 'P': 2, 'N': 1, np.NaN: 0}})\n",
    "test_data = test_data.replace({'PavedDrive': {'Y': 3, 'P': 2, 'N': 1, np.NaN: 0}})"
   ]
  },
  {
   "cell_type": "code",
   "execution_count": 265,
   "metadata": {
    "collapsed": true
   },
   "outputs": [],
   "source": [
    "train_data = train_data.replace({'PoolQC': {'Ex': 5, 'Gd': 4, 'TA': 3, 'Fa': 2, 'Po': 1, np.NaN: 0}})\n",
    "test_data = test_data.replace({'PoolQC': {'Ex': 5, 'Gd': 4, 'TA': 3, 'Fa': 2, 'Po': 1, np.NaN: 0}})"
   ]
  },
  {
   "cell_type": "code",
   "execution_count": 266,
   "metadata": {
    "collapsed": true
   },
   "outputs": [],
   "source": [
    "train_data = train_data.replace({'Fence': {'GdPrv': 4, 'MnPrv': 3, 'GdWo': 2, 'MnWw': 1, np.NaN: 0}})\n",
    "test_data = test_data.replace({'Fence': {'GdPrv': 4, 'MnPrv': 3, 'GdWo': 2, 'MnWw': 1, np.NaN: 0}})"
   ]
  },
  {
   "cell_type": "code",
   "execution_count": 267,
   "metadata": {
    "collapsed": false
   },
   "outputs": [
    {
     "name": "stdout",
     "output_type": "stream",
     "text": [
      "BsmtFinSF1 float64 int64\n",
      "BsmtFinSF2 float64 int64\n",
      "BsmtUnfSF float64 int64\n",
      "BsmtFullBath float64 int64\n",
      "BsmtHalfBath float64 int64\n",
      "GarageCars float64 int64\n",
      "GarageArea float64 int64\n"
     ]
    }
   ],
   "source": [
    "for col in test_data.columns:\n",
    "    t1 = test_data[col].dtype\n",
    "    t2 = train_data[col].dtype\n",
    "    if t1 != t2:\n",
    "        print(col, t1, t2)"
   ]
  },
  {
   "cell_type": "code",
   "execution_count": 268,
   "metadata": {
    "collapsed": false,
    "scrolled": false
   },
   "outputs": [
    {
     "name": "stdout",
     "output_type": "stream",
     "text": [
      "{'int64': Index(['Id', 'MSSubClass', 'LotArea', 'OverallQual', 'OverallCond',\n",
      "       'YearBuilt', 'YearRemodAdd', 'ExterQual', 'ExterCond', 'BsmtQual',\n",
      "       'BsmtCond', 'BsmtExposure', 'BsmtFinType1', 'BsmtFinSF1',\n",
      "       'BsmtFinType2', 'BsmtFinSF2', 'BsmtUnfSF', 'HeatingQC', '1stFlrSF',\n",
      "       '2ndFlrSF', 'LowQualFinSF', 'GrLivArea', 'BsmtFullBath', 'BsmtHalfBath',\n",
      "       'FullBath', 'HalfBath', 'BedroomAbvGr', 'KitchenAbvGr', 'KitchenQual',\n",
      "       'TotRmsAbvGrd', 'Functional', 'Fireplaces', 'FireplaceQu',\n",
      "       'GarageFinish', 'GarageCars', 'GarageArea', 'GarageQual', 'GarageCond',\n",
      "       'PavedDrive', 'WoodDeckSF', 'OpenPorchSF', 'EnclosedPorch', '3SsnPorch',\n",
      "       'ScreenPorch', 'PoolArea', 'PoolQC', 'Fence', 'MiscVal', 'MoSold',\n",
      "       'YrSold'],\n",
      "      dtype='object'), 'float64': Index(['LotFrontage', 'MasVnrArea', 'GarageYrBlt'], dtype='object'), 'object': Index(['MSZoning', 'Street', 'Alley', 'LotShape', 'LandContour', 'Utilities',\n",
      "       'LotConfig', 'LandSlope', 'Neighborhood', 'Condition1', 'Condition2',\n",
      "       'BldgType', 'HouseStyle', 'RoofStyle', 'RoofMatl', 'Exterior1st',\n",
      "       'Exterior2nd', 'MasVnrType', 'Foundation', 'Heating', 'CentralAir',\n",
      "       'Electrical', 'GarageType', 'MiscFeature', 'SaleType', 'SaleCondition'],\n",
      "      dtype='object')}\n"
     ]
    }
   ],
   "source": [
    "# the codes in Module 5\n",
    "# let's start encoding categorical features\n",
    "tmp = train_data.columns.to_series().groupby(train_data.dtypes).groups\n",
    "print({k.name: v for k, v in tmp.items()})"
   ]
  },
  {
   "cell_type": "code",
   "execution_count": 269,
   "metadata": {
    "collapsed": true
   },
   "outputs": [],
   "source": [
    "# feature list for one-hot encoding\n",
    "oneHotCol = ['MSSubClass', 'MSZoning', 'Street', 'Alley', 'LotShape', 'LandContour', 'Utilities',\n",
    "       'LotConfig', 'LandSlope', 'Neighborhood', 'Condition1', 'Condition2',\n",
    "       'BldgType', 'HouseStyle', 'RoofStyle', 'RoofMatl', 'Exterior1st',\n",
    "       'Exterior2nd', 'MasVnrType', 'Foundation', 'Heating', 'CentralAir',\n",
    "       'Electrical', 'Functional', 'GarageType', 'MiscFeature', 'SaleType',\n",
    "       'SaleCondition']\n",
    "# process each column in the list\n",
    "for cols in oneHotCol:\n",
    "    train_data = pd.concat((train_data, pd.get_dummies(train_data[cols], prefix=cols)), axis=1)\n",
    "    del train_data[cols]\n",
    "    test_data = pd.concat((test_data, pd.get_dummies(test_data[cols], prefix=cols)), axis=1)\n",
    "    del test_data[cols]"
   ]
  },
  {
   "cell_type": "code",
   "execution_count": 270,
   "metadata": {
    "collapsed": false
   },
   "outputs": [
    {
     "data": {
      "text/plain": [
       "0       1\n",
       "1       1\n",
       "2       1\n",
       "3       1\n",
       "4       1\n",
       "5       1\n",
       "6       1\n",
       "7       1\n",
       "8       1\n",
       "9       1\n",
       "10      1\n",
       "11      1\n",
       "12      1\n",
       "13      1\n",
       "14      1\n",
       "15      1\n",
       "16      1\n",
       "17      1\n",
       "18      1\n",
       "19      1\n",
       "20      1\n",
       "21      1\n",
       "22      1\n",
       "23      1\n",
       "24      1\n",
       "25      1\n",
       "26      1\n",
       "27      1\n",
       "28      1\n",
       "29      1\n",
       "       ..\n",
       "1429    1\n",
       "1430    1\n",
       "1431    1\n",
       "1432    1\n",
       "1433    1\n",
       "1434    1\n",
       "1435    1\n",
       "1436    1\n",
       "1437    1\n",
       "1438    1\n",
       "1439    1\n",
       "1440    1\n",
       "1441    1\n",
       "1442    1\n",
       "1443    1\n",
       "1444    1\n",
       "1445    1\n",
       "1446    1\n",
       "1447    1\n",
       "1448    1\n",
       "1449    1\n",
       "1450    1\n",
       "1451    1\n",
       "1452    1\n",
       "1453    1\n",
       "1454    1\n",
       "1455    1\n",
       "1456    1\n",
       "1457    1\n",
       "1458    1\n",
       "Name: Utilities_AllPub, dtype: uint8"
      ]
     },
     "execution_count": 270,
     "metadata": {},
     "output_type": "execute_result"
    }
   ],
   "source": [
    "test_data['Utilities_AllPub']"
   ]
  },
  {
   "cell_type": "code",
   "execution_count": 271,
   "metadata": {
    "collapsed": true
   },
   "outputs": [],
   "source": [
    "# feature alignment\n",
    "# for training set\n",
    "col_train = train_data.columns\n",
    "col_test = test_data.columns\n",
    "for index in col_train:\n",
    "    if index in col_test:\n",
    "        pass\n",
    "    else:\n",
    "        del train_data[index]\n",
    "# for testing set\n",
    "col_train = train_data.columns\n",
    "col_test = test_data.columns\n",
    "for index in col_test:\n",
    "    if index in col_train:\n",
    "        pass\n",
    "    else:\n",
    "        del test_data[index]"
   ]
  },
  {
   "cell_type": "code",
   "execution_count": 272,
   "metadata": {
    "collapsed": false
   },
   "outputs": [
    {
     "data": {
      "text/plain": [
       "0       1\n",
       "1       1\n",
       "2       1\n",
       "3       1\n",
       "4       1\n",
       "5       1\n",
       "6       1\n",
       "7       1\n",
       "8       1\n",
       "9       1\n",
       "10      1\n",
       "11      1\n",
       "12      1\n",
       "13      1\n",
       "14      1\n",
       "15      1\n",
       "16      1\n",
       "17      1\n",
       "18      1\n",
       "19      1\n",
       "20      1\n",
       "21      1\n",
       "22      1\n",
       "23      1\n",
       "24      1\n",
       "25      1\n",
       "26      1\n",
       "27      1\n",
       "28      1\n",
       "29      1\n",
       "       ..\n",
       "1429    1\n",
       "1430    1\n",
       "1431    1\n",
       "1432    1\n",
       "1433    1\n",
       "1434    1\n",
       "1435    1\n",
       "1436    1\n",
       "1437    1\n",
       "1438    1\n",
       "1439    1\n",
       "1440    1\n",
       "1441    1\n",
       "1442    1\n",
       "1443    1\n",
       "1444    1\n",
       "1445    1\n",
       "1446    1\n",
       "1447    1\n",
       "1448    1\n",
       "1449    1\n",
       "1450    1\n",
       "1451    1\n",
       "1452    1\n",
       "1453    1\n",
       "1454    1\n",
       "1455    1\n",
       "1456    1\n",
       "1457    1\n",
       "1458    1\n",
       "Name: Utilities_AllPub, dtype: uint8"
      ]
     },
     "execution_count": 272,
     "metadata": {},
     "output_type": "execute_result"
    }
   ],
   "source": [
    "test_data['Utilities_AllPub']"
   ]
  },
  {
   "cell_type": "code",
   "execution_count": 169,
   "metadata": {
    "collapsed": false
   },
   "outputs": [
    {
     "name": "stdout",
     "output_type": "stream",
     "text": [
      "<class 'pandas.core.frame.DataFrame'>\n"
     ]
    }
   ],
   "source": [
    "# min-max scaling\n",
    "train_data = (train_data - train_data.min()) / (train_data.max() - train_data.min())\n",
    "test_data = (test_data - test_data.min()) / (test_data.max() - test_data.min())\n",
    "print(type(train_data))"
   ]
  },
  {
   "cell_type": "code",
   "execution_count": 274,
   "metadata": {
    "collapsed": false
   },
   "outputs": [
    {
     "name": "stdout",
     "output_type": "stream",
     "text": [
      "<class 'pandas.core.frame.DataFrame'>\n",
      "            Id  LotFrontage   LotArea  OverallQual  OverallCond  YearBuilt  \\\n",
      "0    -1.730272    -0.372320 -0.207071     0.651256    -0.517023   1.050634   \n",
      "1    -1.727900     0.107301 -0.091855    -0.071812     2.178881   0.156680   \n",
      "2    -1.725528    -0.276396  0.073455     0.651256    -0.517023   0.984415   \n",
      "3    -1.723156    -0.532194 -0.096864     0.651256    -0.517023  -1.862993   \n",
      "4    -1.720785     0.235200  0.375020     1.374324    -0.517023   0.951306   \n",
      "5    -1.718413     0.267175  0.360493    -0.794879    -0.517023   0.719540   \n",
      "6    -1.716041    -0.052573 -0.043364     1.374324    -0.517023   1.083743   \n",
      "7    -1.713669     0.807296 -0.013508     0.651256     0.381612   0.057352   \n",
      "8    -1.711297    -0.819967 -0.440508     0.651256    -0.517023  -1.333243   \n",
      "9    -1.708925    -0.851942 -0.310264    -0.794879     0.381612  -1.068368   \n",
      "10   -1.706553    -0.212447  0.068445    -0.794879    -0.517023  -0.207523   \n",
      "11   -1.704182     0.267175  0.140981     2.097391    -0.517023   1.116853   \n",
      "12   -1.701810     1.190514  0.245577    -0.794879     0.381612  -0.306852   \n",
      "13   -1.699438     0.459023  0.013543     0.651256    -0.517023   1.149962   \n",
      "14   -1.697066     0.890644  0.040393    -0.071812    -0.517023  -0.373070   \n",
      "15   -1.694694    -0.819967 -0.440508     0.651256     2.178881  -1.399462   \n",
      "16   -1.692322     0.939399  0.072553    -0.071812     1.280247  -0.041976   \n",
      "17   -1.689950    -0.148497  0.027469    -1.517947    -0.517023  -0.141305   \n",
      "18   -1.687579    -0.340346  0.318414    -0.794879    -0.517023   1.083743   \n",
      "19   -1.685207    -0.212447 -0.296238    -0.794879     0.381612  -0.439289   \n",
      "20   -1.682835     0.778771  0.370511     1.374324    -0.517023   1.116853   \n",
      "21   -1.680463    -0.628118 -0.307359     0.651256     1.280247  -1.366352   \n",
      "22   -1.678091    -0.052573 -0.077628     1.374324    -0.517023   1.017524   \n",
      "23   -1.675719    -1.043790 -0.630464    -0.794879     1.280247   0.156680   \n",
      "24   -1.673347     0.452868 -0.227509    -0.794879     2.178881  -0.108195   \n",
      "25   -1.670976     1.066544  0.372014     1.374324    -0.517023   1.183071   \n",
      "26   -1.668604    -0.532194 -0.332305    -0.794879     1.280247  -0.671055   \n",
      "27   -1.666232     0.682847  0.096298     1.374324    -0.517023   1.183071   \n",
      "28   -1.663860    -0.947866  0.581507    -0.794879     0.381612  -0.472399   \n",
      "29   -1.661488    -0.532194 -0.420070    -1.517947     0.381612  -1.465681   \n",
      "...        ...          ...       ...          ...          ...        ...   \n",
      "1430  1.661488    -0.532194  1.143459    -0.794879    -0.517023   1.116853   \n",
      "1431  1.663860    -0.206061 -0.559932    -0.071812     0.381612   0.156680   \n",
      "1432  1.666232    -0.532194  0.028370    -1.517947     0.381612  -1.465681   \n",
      "1433  1.668604     0.522973 -0.025631    -0.071812    -0.517023   0.951306   \n",
      "1434  1.670976     0.107301  0.689609    -0.794879    -0.517023   0.189789   \n",
      "1435  1.673347     0.107301 -0.212080    -0.071812     3.077516  -0.306852   \n",
      "1436  1.675719    -0.532194 -0.151968    -1.517947     0.381612  -0.008867   \n",
      "1437  1.678091     0.618897  0.193079     1.374324    -0.517023   1.216181   \n",
      "1438  1.680463     0.427049 -0.311567    -0.071812     1.280247  -0.472399   \n",
      "1439  1.682835     0.107301  0.106918     0.651256     0.381612   0.256008   \n",
      "1440  1.685207     0.075326  0.101107    -0.071812     1.280247  -1.631228   \n",
      "1441  1.687579    -0.323457 -0.610226    -0.071812    -0.517023   1.083743   \n",
      "1442  1.689950     0.267175  0.048708     2.820459    -0.517023   1.216181   \n",
      "1443  1.692322     0.558007 -0.166595    -0.071812     0.381612  -1.829884   \n",
      "1444  1.694694    -0.436270 -0.202061     0.651256    -0.517023   1.083743   \n",
      "1445  1.697066    -0.212447 -0.212080    -0.071812    -0.517023  -0.174414   \n",
      "1446  1.699438     2.719155  1.565450    -0.794879     1.280247  -0.306852   \n",
      "1447  1.701810     0.107301 -0.051780     1.374324    -0.517023   0.785759   \n",
      "1448  1.704182    -0.212447  0.125252    -1.517947     1.280247  -2.028540   \n",
      "1449  1.706553    -1.779210 -0.900069    -0.794879     1.280247  -0.041976   \n",
      "1450  1.708925    -0.532194 -0.151968    -0.794879    -0.517023   0.090461   \n",
      "1451  1.711297     0.043352 -0.125718     1.374324    -0.517023   1.216181   \n",
      "1452  1.713669    -1.331563 -0.685467    -0.794879    -0.517023   1.116853   \n",
      "1453  1.716041     0.427049  0.671275    -0.794879    -0.517023   1.149962   \n",
      "1454  1.718413    -0.468245 -0.302249     0.651256    -0.517023   1.083743   \n",
      "1455  1.720785    -0.468245 -0.260471    -0.071812    -0.517023   0.918196   \n",
      "1456  1.723156     0.267175  0.266316    -0.071812     0.381612   0.222899   \n",
      "1457  1.725528    -0.340346 -0.147760     0.651256     3.077516  -1.002149   \n",
      "1458  1.727900    -0.276396 -0.080133    -0.794879     0.381612  -0.704164   \n",
      "1459  1.730272    -0.052573 -0.058092    -0.794879     0.381612  -0.207523   \n",
      "\n",
      "      YearRemodAdd  MasVnrArea  ExterQual  ExterCond          ...            \\\n",
      "0         0.878367    0.513928   1.051942  -0.238031          ...             \n",
      "1        -0.429430   -0.570555  -0.689368  -0.238031          ...             \n",
      "2         0.829930    0.325803   1.051942  -0.238031          ...             \n",
      "3        -0.720051   -0.570555  -0.689368  -0.238031          ...             \n",
      "4         0.733056    1.366021   1.051942  -0.238031          ...             \n",
      "5         0.490872   -0.570555  -0.689368  -0.238031          ...             \n",
      "6         0.975241    0.458597   1.051942  -0.238031          ...             \n",
      "7        -0.574741    0.757383  -0.689368  -0.238031          ...             \n",
      "8        -1.688790   -0.570555  -0.689368  -0.238031          ...             \n",
      "9        -1.688790   -0.570555  -0.689368  -0.238031          ...             \n",
      "10       -0.962236   -0.570555  -0.689368  -0.238031          ...             \n",
      "11        1.023678    1.011904   2.793251  -0.238031          ...             \n",
      "12       -1.107547   -0.570555  -0.689368  -0.238031          ...             \n",
      "13        1.072115    1.122566   1.051942  -0.238031          ...             \n",
      "14       -1.204421    0.602457  -0.689368  -0.238031          ...             \n",
      "15        0.781493   -0.570555  -0.689368  -0.238031          ...             \n",
      "16       -0.720051    0.425399  -0.689368  -0.238031          ...             \n",
      "17       -0.865362   -0.570555  -0.689368  -0.238031          ...             \n",
      "18        0.926804   -0.570555  -0.689368  -0.238031          ...             \n",
      "19       -0.962236   -0.570555  -0.689368  -0.238031          ...             \n",
      "20        1.023678    1.532013   1.051942  -0.238031          ...             \n",
      "21       -1.688790   -0.570555  -0.689368  -0.238031          ...             \n",
      "22        0.829930    0.984239   1.051942  -0.238031          ...             \n",
      "23       -0.429430   -0.570555  -0.689368  -0.238031          ...             \n",
      "24        0.781493   -0.570555  -0.689368   2.610535          ...             \n",
      "25        1.072115    2.970612   1.051942  -0.238031          ...             \n",
      "26        0.733056   -0.570555  -0.689368  -0.238031          ...             \n",
      "27        1.120552    0.536060   1.051942  -0.238031          ...             \n",
      "28        0.587746   -0.570555  -0.689368  -0.238031          ...             \n",
      "29       -1.688790   -0.570555  -0.689368  -0.238031          ...             \n",
      "...            ...         ...        ...        ...          ...             \n",
      "1430      0.975241   -0.570555   1.051942  -0.238031          ...             \n",
      "1431     -0.429430   -0.570555  -0.689368  -0.238031          ...             \n",
      "1432      1.072115   -0.570555  -0.689368  -0.238031          ...             \n",
      "1433      0.733056    1.188963  -0.689368  -0.238031          ...             \n",
      "1434     -0.380993   -0.570555  -0.689368  -0.238031          ...             \n",
      "1435      0.975241    0.740784   1.051942   2.610535          ...             \n",
      "1436     -0.671614   -0.570555  -0.689368  -0.238031          ...             \n",
      "1437      1.120552    1.786535   2.793251  -0.238031          ...             \n",
      "1438      0.539309   -0.570555  -0.689368  -0.238031          ...             \n",
      "1439     -0.284119   -0.039380  -0.689368  -0.238031          ...             \n",
      "1440      0.442435   -0.570555  -0.689368  -0.238031          ...             \n",
      "1441      0.926804    0.242807   1.051942  -0.238031          ...             \n",
      "1442      1.120552    0.314737   2.793251  -0.238031          ...             \n",
      "1443     -1.688790   -0.570555  -0.689368  -0.238031          ...             \n",
      "1444      0.926804    0.015951   1.051942  -0.238031          ...             \n",
      "1445     -0.913799   -0.570555  -0.689368  -0.238031          ...             \n",
      "1446     -1.107547    0.475196  -0.689368  -0.238031          ...             \n",
      "1447      0.539309    1.852932   1.051942  -0.238031          ...             \n",
      "1448      0.733056   -0.570555  -0.689368  -0.238031          ...             \n",
      "1449     -0.720051   -0.570555  -0.689368  -0.238031          ...             \n",
      "1450     -0.526304   -0.570555  -0.689368  -0.238031          ...             \n",
      "1451      1.168989    0.502862   1.051942  -0.238031          ...             \n",
      "1452      0.975241   -0.127909  -0.689368  -0.238031          ...             \n",
      "1453      1.023678   -0.570555  -0.689368  -0.238031          ...             \n",
      "1454      0.975241   -0.570555   1.051942  -0.238031          ...             \n",
      "1455      0.733056   -0.570555  -0.689368  -0.238031          ...             \n",
      "1456      0.151813    0.087881  -0.689368  -0.238031          ...             \n",
      "1457      1.023678   -0.570555   2.793251   2.610535          ...             \n",
      "1458      0.539309   -0.570555  -0.689368  -0.238031          ...             \n",
      "1459     -0.962236   -0.570555   1.051942  -0.238031          ...             \n",
      "\n",
      "      SaleType_ConLw  SaleType_New  SaleType_Oth  SaleType_WD  \\\n",
      "0          -0.058601     -0.301858     -0.045361     0.390159   \n",
      "1          -0.058601     -0.301858     -0.045361     0.390159   \n",
      "2          -0.058601     -0.301858     -0.045361     0.390159   \n",
      "3          -0.058601     -0.301858     -0.045361     0.390159   \n",
      "4          -0.058601     -0.301858     -0.045361     0.390159   \n",
      "5          -0.058601     -0.301858     -0.045361     0.390159   \n",
      "6          -0.058601     -0.301858     -0.045361     0.390159   \n",
      "7          -0.058601     -0.301858     -0.045361     0.390159   \n",
      "8          -0.058601     -0.301858     -0.045361     0.390159   \n",
      "9          -0.058601     -0.301858     -0.045361     0.390159   \n",
      "10         -0.058601     -0.301858     -0.045361     0.390159   \n",
      "11         -0.058601      3.310544     -0.045361    -2.561302   \n",
      "12         -0.058601     -0.301858     -0.045361     0.390159   \n",
      "13         -0.058601      3.310544     -0.045361    -2.561302   \n",
      "14         -0.058601     -0.301858     -0.045361     0.390159   \n",
      "15         -0.058601     -0.301858     -0.045361     0.390159   \n",
      "16         -0.058601     -0.301858     -0.045361     0.390159   \n",
      "17         -0.058601     -0.301858     -0.045361     0.390159   \n",
      "18         -0.058601     -0.301858     -0.045361     0.390159   \n",
      "19         -0.058601     -0.301858     -0.045361    -2.561302   \n",
      "20         -0.058601      3.310544     -0.045361    -2.561302   \n",
      "21         -0.058601     -0.301858     -0.045361     0.390159   \n",
      "22         -0.058601     -0.301858     -0.045361     0.390159   \n",
      "23         -0.058601     -0.301858     -0.045361     0.390159   \n",
      "24         -0.058601     -0.301858     -0.045361     0.390159   \n",
      "25         -0.058601     -0.301858     -0.045361     0.390159   \n",
      "26         -0.058601     -0.301858     -0.045361     0.390159   \n",
      "27         -0.058601     -0.301858     -0.045361     0.390159   \n",
      "28         -0.058601     -0.301858     -0.045361     0.390159   \n",
      "29         -0.058601     -0.301858     -0.045361     0.390159   \n",
      "...              ...           ...           ...          ...   \n",
      "1430       -0.058601     -0.301858     -0.045361     0.390159   \n",
      "1431       -0.058601     -0.301858     -0.045361     0.390159   \n",
      "1432       -0.058601     -0.301858     -0.045361     0.390159   \n",
      "1433       -0.058601     -0.301858     -0.045361     0.390159   \n",
      "1434       -0.058601     -0.301858     -0.045361     0.390159   \n",
      "1435       -0.058601     -0.301858     -0.045361    -2.561302   \n",
      "1436       -0.058601     -0.301858     -0.045361     0.390159   \n",
      "1437       -0.058601      3.310544     -0.045361    -2.561302   \n",
      "1438       -0.058601     -0.301858     -0.045361     0.390159   \n",
      "1439       -0.058601     -0.301858     -0.045361     0.390159   \n",
      "1440       -0.058601     -0.301858     -0.045361     0.390159   \n",
      "1441       -0.058601     -0.301858     -0.045361     0.390159   \n",
      "1442       -0.058601     -0.301858     -0.045361     0.390159   \n",
      "1443       -0.058601     -0.301858     -0.045361     0.390159   \n",
      "1444       -0.058601     -0.301858     -0.045361     0.390159   \n",
      "1445       -0.058601     -0.301858     -0.045361     0.390159   \n",
      "1446       -0.058601     -0.301858     -0.045361     0.390159   \n",
      "1447       -0.058601     -0.301858     -0.045361     0.390159   \n",
      "1448       -0.058601     -0.301858     -0.045361     0.390159   \n",
      "1449       -0.058601     -0.301858     -0.045361     0.390159   \n",
      "1450       -0.058601     -0.301858     -0.045361     0.390159   \n",
      "1451       -0.058601      3.310544     -0.045361    -2.561302   \n",
      "1452       -0.058601     -0.301858     -0.045361     0.390159   \n",
      "1453       -0.058601     -0.301858     -0.045361     0.390159   \n",
      "1454       -0.058601     -0.301858     -0.045361     0.390159   \n",
      "1455       -0.058601     -0.301858     -0.045361     0.390159   \n",
      "1456       -0.058601     -0.301858     -0.045361     0.390159   \n",
      "1457       -0.058601     -0.301858     -0.045361     0.390159   \n",
      "1458       -0.058601     -0.301858     -0.045361     0.390159   \n",
      "1459       -0.058601     -0.301858     -0.045361     0.390159   \n",
      "\n",
      "      SaleCondition_Abnorml  SaleCondition_AdjLand  SaleCondition_Alloca  \\\n",
      "0                 -0.272522              -0.052396             -0.091003   \n",
      "1                 -0.272522              -0.052396             -0.091003   \n",
      "2                 -0.272522              -0.052396             -0.091003   \n",
      "3                  3.666910              -0.052396             -0.091003   \n",
      "4                 -0.272522              -0.052396             -0.091003   \n",
      "5                 -0.272522              -0.052396             -0.091003   \n",
      "6                 -0.272522              -0.052396             -0.091003   \n",
      "7                 -0.272522              -0.052396             -0.091003   \n",
      "8                  3.666910              -0.052396             -0.091003   \n",
      "9                 -0.272522              -0.052396             -0.091003   \n",
      "10                -0.272522              -0.052396             -0.091003   \n",
      "11                -0.272522              -0.052396             -0.091003   \n",
      "12                -0.272522              -0.052396             -0.091003   \n",
      "13                -0.272522              -0.052396             -0.091003   \n",
      "14                -0.272522              -0.052396             -0.091003   \n",
      "15                -0.272522              -0.052396             -0.091003   \n",
      "16                -0.272522              -0.052396             -0.091003   \n",
      "17                -0.272522              -0.052396             -0.091003   \n",
      "18                -0.272522              -0.052396             -0.091003   \n",
      "19                 3.666910              -0.052396             -0.091003   \n",
      "20                -0.272522              -0.052396             -0.091003   \n",
      "21                -0.272522              -0.052396             -0.091003   \n",
      "22                -0.272522              -0.052396             -0.091003   \n",
      "23                -0.272522              -0.052396             -0.091003   \n",
      "24                -0.272522              -0.052396             -0.091003   \n",
      "25                -0.272522              -0.052396             -0.091003   \n",
      "26                -0.272522              -0.052396             -0.091003   \n",
      "27                -0.272522              -0.052396             -0.091003   \n",
      "28                -0.272522              -0.052396             -0.091003   \n",
      "29                -0.272522              -0.052396             -0.091003   \n",
      "...                     ...                    ...                   ...   \n",
      "1430              -0.272522              -0.052396             -0.091003   \n",
      "1431              -0.272522              -0.052396             -0.091003   \n",
      "1432              -0.272522              -0.052396             -0.091003   \n",
      "1433              -0.272522              -0.052396             -0.091003   \n",
      "1434              -0.272522              -0.052396             -0.091003   \n",
      "1435               3.666910              -0.052396             -0.091003   \n",
      "1436              -0.272522              -0.052396             -0.091003   \n",
      "1437              -0.272522              -0.052396             -0.091003   \n",
      "1438              -0.272522              -0.052396             -0.091003   \n",
      "1439              -0.272522              -0.052396             -0.091003   \n",
      "1440              -0.272522              -0.052396             -0.091003   \n",
      "1441              -0.272522              -0.052396             -0.091003   \n",
      "1442              -0.272522              -0.052396             -0.091003   \n",
      "1443              -0.272522              -0.052396             -0.091003   \n",
      "1444              -0.272522              -0.052396             -0.091003   \n",
      "1445              -0.272522              -0.052396             -0.091003   \n",
      "1446              -0.272522              -0.052396             -0.091003   \n",
      "1447              -0.272522              -0.052396             -0.091003   \n",
      "1448              -0.272522              -0.052396             -0.091003   \n",
      "1449               3.666910              -0.052396             -0.091003   \n",
      "1450              -0.272522              -0.052396             -0.091003   \n",
      "1451              -0.272522              -0.052396             -0.091003   \n",
      "1452              -0.272522              -0.052396             -0.091003   \n",
      "1453               3.666910              -0.052396             -0.091003   \n",
      "1454              -0.272522              -0.052396             -0.091003   \n",
      "1455              -0.272522              -0.052396             -0.091003   \n",
      "1456              -0.272522              -0.052396             -0.091003   \n",
      "1457              -0.272522              -0.052396             -0.091003   \n",
      "1458              -0.272522              -0.052396             -0.091003   \n",
      "1459              -0.272522              -0.052396             -0.091003   \n",
      "\n",
      "      SaleCondition_Family  SaleCondition_Normal  SaleCondition_Partial  \n",
      "0                -0.117811              0.467491              -0.305890  \n",
      "1                -0.117811              0.467491              -0.305890  \n",
      "2                -0.117811              0.467491              -0.305890  \n",
      "3                -0.117811             -2.137613              -0.305890  \n",
      "4                -0.117811              0.467491              -0.305890  \n",
      "5                -0.117811              0.467491              -0.305890  \n",
      "6                -0.117811              0.467491              -0.305890  \n",
      "7                -0.117811              0.467491              -0.305890  \n",
      "8                -0.117811             -2.137613              -0.305890  \n",
      "9                -0.117811              0.467491              -0.305890  \n",
      "10               -0.117811              0.467491              -0.305890  \n",
      "11               -0.117811             -2.137613               3.266908  \n",
      "12               -0.117811              0.467491              -0.305890  \n",
      "13               -0.117811             -2.137613               3.266908  \n",
      "14               -0.117811              0.467491              -0.305890  \n",
      "15               -0.117811              0.467491              -0.305890  \n",
      "16               -0.117811              0.467491              -0.305890  \n",
      "17               -0.117811              0.467491              -0.305890  \n",
      "18               -0.117811              0.467491              -0.305890  \n",
      "19               -0.117811             -2.137613              -0.305890  \n",
      "20               -0.117811             -2.137613               3.266908  \n",
      "21               -0.117811              0.467491              -0.305890  \n",
      "22               -0.117811              0.467491              -0.305890  \n",
      "23               -0.117811              0.467491              -0.305890  \n",
      "24               -0.117811              0.467491              -0.305890  \n",
      "25               -0.117811              0.467491              -0.305890  \n",
      "26               -0.117811              0.467491              -0.305890  \n",
      "27               -0.117811              0.467491              -0.305890  \n",
      "28               -0.117811              0.467491              -0.305890  \n",
      "29               -0.117811              0.467491              -0.305890  \n",
      "...                    ...                   ...                    ...  \n",
      "1430             -0.117811              0.467491              -0.305890  \n",
      "1431             -0.117811              0.467491              -0.305890  \n",
      "1432             -0.117811              0.467491              -0.305890  \n",
      "1433             -0.117811              0.467491              -0.305890  \n",
      "1434             -0.117811              0.467491              -0.305890  \n",
      "1435             -0.117811             -2.137613              -0.305890  \n",
      "1436             -0.117811              0.467491              -0.305890  \n",
      "1437             -0.117811             -2.137613               3.266908  \n",
      "1438             -0.117811              0.467491              -0.305890  \n",
      "1439             -0.117811              0.467491              -0.305890  \n",
      "1440             -0.117811              0.467491              -0.305890  \n",
      "1441             -0.117811              0.467491              -0.305890  \n",
      "1442             -0.117811              0.467491              -0.305890  \n",
      "1443             -0.117811              0.467491              -0.305890  \n",
      "1444             -0.117811              0.467491              -0.305890  \n",
      "1445             -0.117811              0.467491              -0.305890  \n",
      "1446             -0.117811              0.467491              -0.305890  \n",
      "1447             -0.117811              0.467491              -0.305890  \n",
      "1448             -0.117811              0.467491              -0.305890  \n",
      "1449             -0.117811             -2.137613              -0.305890  \n",
      "1450             -0.117811              0.467491              -0.305890  \n",
      "1451             -0.117811             -2.137613               3.266908  \n",
      "1452             -0.117811              0.467491              -0.305890  \n",
      "1453             -0.117811             -2.137613              -0.305890  \n",
      "1454             -0.117811              0.467491              -0.305890  \n",
      "1455             -0.117811              0.467491              -0.305890  \n",
      "1456             -0.117811              0.467491              -0.305890  \n",
      "1457             -0.117811              0.467491              -0.305890  \n",
      "1458             -0.117811              0.467491              -0.305890  \n",
      "1459             -0.117811              0.467491              -0.305890  \n",
      "\n",
      "[1460 rows x 232 columns]\n",
      "            Id  LotFrontage   LotArea  OverallQual  OverallCond  YearBuilt  \\\n",
      "0    -1.730271     0.223703  0.363804    -0.750844     0.400629  -0.340828   \n",
      "1    -1.727897     0.261631  0.897553    -0.054858     0.400629  -0.439544   \n",
      "2    -1.725524    -0.003865  0.809368    -0.750844    -0.497247   0.843770   \n",
      "3    -1.723150     0.147847  0.032053    -0.054858     0.400629   0.876675   \n",
      "4    -1.720777    -1.179635 -0.971475     1.337113    -0.497247   0.679242   \n",
      "5    -1.718403     0.034063  0.036492    -0.054858    -0.497247   0.712148   \n",
      "6    -1.716030     0.577604 -0.371134    -0.054858     1.298505   0.679242   \n",
      "7    -1.713656    -0.421074 -0.285976    -0.054858    -0.497247   0.876675   \n",
      "8    -1.711283     0.413343  0.072008     0.641127    -0.497247   0.613431   \n",
      "9    -1.708909    -0.155577 -0.286380    -1.446829    -0.497247  -0.044678   \n",
      "10   -1.706536    -1.824411 -0.799344     0.641127    -0.497247   0.909581   \n",
      "11   -1.704162    -2.014052 -1.642444    -0.054858    -0.497247  -0.011773   \n",
      "12   -1.701789    -2.014052 -1.642444    -0.750844    -0.497247  -0.011773   \n",
      "13   -1.699415    -1.900268 -1.521367    -0.054858     0.400629   0.119849   \n",
      "14   -1.697042    -1.900268 -1.521367     0.641127     0.400629   0.119849   \n",
      "15   -1.694669     1.058120  0.613223     2.033098    -0.497247   1.238636   \n",
      "16   -1.692295     0.754696  0.618268     1.337113    -0.497247   1.238636   \n",
      "17   -1.689922     0.602983  0.343221     2.033098    -0.497247   1.107014   \n",
      "18   -1.687548     0.185775  0.868293     1.337113    -0.497247   1.107014   \n",
      "19   -1.685175     1.361544  0.904212     2.033098    -0.497247   1.041203   \n",
      "20   -1.682801     1.171904  0.773045     1.337113    -0.497247   1.008297   \n",
      "21   -1.680428    -1.255491 -0.542256     1.337113    -0.497247   1.139919   \n",
      "22   -1.678054     0.982264  1.750542    -0.054858    -0.497247   1.107014   \n",
      "23   -1.675681    -1.179635 -1.335110     0.641127    -0.497247   1.139919   \n",
      "24   -1.673307    -0.269362  0.702417     0.641127    -0.497247   1.074108   \n",
      "25   -1.670934    -0.421074 -0.250662     0.641127    -0.497247   1.074108   \n",
      "26   -1.668560    -0.534858  1.536437     1.337113    -0.497247   0.876675   \n",
      "27   -1.666187    -0.041793 -0.167926     1.337113    -0.497247   1.107014   \n",
      "28   -1.663813     0.678840 -0.121917     0.641127    -0.497247   1.238636   \n",
      "29   -1.661440     0.375415  0.125282    -0.054858    -0.497247   1.107014   \n",
      "...        ...          ...       ...          ...          ...        ...   \n",
      "1429  1.661440    -0.914138 -0.562840    -1.446829     0.400629  -1.525425   \n",
      "1430  1.663813     0.034063 -0.153195    -0.054858    -0.497247  -0.472450   \n",
      "1431  1.666187    -0.193506  0.513940    -2.142815    -0.497247  -0.867315   \n",
      "1432  1.668560    -0.914138 -0.165303    -0.750844     0.400629  -0.669883   \n",
      "1433  1.670934    -0.534858 -0.262165    -2.142815    -0.497247  -1.821575   \n",
      "1434  1.673307    -1.255491 -0.821541     1.337113    -0.497247   1.107014   \n",
      "1435  1.675681    -1.141707 -1.206163     1.337113    -0.497247   1.074108   \n",
      "1436  1.678054    -0.193506  2.776872    -0.054858     0.400629   0.251471   \n",
      "1437  1.680428    -0.345218 -0.289407    -0.054858    -0.497247   0.218565   \n",
      "1438  1.682801    -0.155577 -0.141895     1.337113    -0.497247   0.975392   \n",
      "1439  1.685175     2.499386  0.254431    -0.054858     0.400629   0.119849   \n",
      "1440  1.687548     5.679074  8.128887    -0.054858    -0.497247  -0.439544   \n",
      "1441  1.689922     0.602562 -0.347322    -0.054858    -0.497247   0.942486   \n",
      "1442  1.692295     0.792624  0.766588     1.337113    -0.497247   1.107014   \n",
      "1443  1.694669     0.527127  0.354724     2.033098    -0.497247   1.107014   \n",
      "1444  1.697042     1.930465  4.324642    -3.534786    -2.292999  -0.669883   \n",
      "1445  1.699415     0.147847 -0.564857     0.641127    -0.497247   0.843770   \n",
      "1446  1.701789    -1.255491 -1.443676    -0.750844     0.400629   0.185660   \n",
      "1447  1.704162    -0.610714  0.071201    -0.750844     1.298505  -0.110489   \n",
      "1448  1.706536     1.315780  0.406989    -0.750844    -0.497247  -0.044678   \n",
      "1449  1.708909    -2.014052 -1.684821    -1.446829     0.400629  -0.044678   \n",
      "1450  1.711283    -2.014052 -1.681996    -1.446829    -1.395123   0.021133   \n",
      "1451  1.713656     0.223703  0.719368    -0.750844    -0.497247  -0.077584   \n",
      "1452  1.716030    -2.014052 -1.672108    -1.446829    -0.497247  -0.044678   \n",
      "1453  1.718403    -2.014052 -1.673521    -1.446829    -0.497247  -0.044678   \n",
      "1454  1.720777    -2.014052 -1.590785    -1.446829     1.298505  -0.044678   \n",
      "1455  1.723150    -2.014052 -1.599260    -1.446829    -0.497247  -0.044678   \n",
      "1456  1.725524     3.257947  2.054445    -0.750844     1.298505  -0.373733   \n",
      "1457  1.727897    -0.459002  0.125484    -0.750844    -0.497247   0.679242   \n",
      "1458  1.730271    -0.003865 -0.038777     0.641127    -0.497247   0.712148   \n",
      "\n",
      "      YearRemodAdd  MasVnrArea  ExterQual  ExterCond          ...            \\\n",
      "0        -1.072517   -0.563123  -0.677869  -0.223442          ...             \n",
      "1        -1.214492    0.047040  -0.677869  -0.223442          ...             \n",
      "2         0.678509   -0.563123  -0.677869  -0.223442          ...             \n",
      "3         0.678509   -0.450130  -0.677869  -0.223442          ...             \n",
      "4         0.394559   -0.563123   1.027322  -0.223442          ...             \n",
      "5         0.489209   -0.563123  -0.677869  -0.223442          ...             \n",
      "6         1.104435   -0.563123  -0.677869   2.323443          ...             \n",
      "7         0.678509   -0.563123  -0.677869  -0.223442          ...             \n",
      "8         0.299909   -0.563123  -0.677869  -0.223442          ...             \n",
      "9        -0.646592   -0.563123  -0.677869  -0.223442          ...             \n",
      "10        0.725834   -0.563123   1.027322  -0.223442          ...             \n",
      "11       -0.599267    2.284306  -0.677869  -0.223442          ...             \n",
      "12       -0.599267    2.216510  -0.677869  -0.223442          ...             \n",
      "13       -0.409966   -0.563123  -0.677869  -0.223442          ...             \n",
      "14       -0.409966   -0.563123  -0.677869  -0.223442          ...             \n",
      "15        1.246410    0.352122   2.732514  -0.223442          ...             \n",
      "16        1.246410    0.883190   1.027322  -0.223442          ...             \n",
      "17        1.009784    2.911418   1.027322  -0.223442          ...             \n",
      "18        1.057109    0.792796   1.027322  -0.223442          ...             \n",
      "19        0.962459    5.623255   2.732514  -0.223442          ...             \n",
      "20        0.867809    0.747598   1.027322  -0.223442          ...             \n",
      "21        1.057109    0.442517   1.027322  -0.223442          ...             \n",
      "22        1.009784   -0.563123   1.027322  -0.223442          ...             \n",
      "23        1.057109   -0.484028   1.027322  -0.223442          ...             \n",
      "24        0.962459   -0.563123   1.027322  -0.223442          ...             \n",
      "25        0.962459   -0.563123   1.027322  -0.223442          ...             \n",
      "26        0.678509    0.080938   1.027322  -0.223442          ...             \n",
      "27        1.057109    0.713700   1.027322  -0.223442          ...             \n",
      "28        1.246410   -0.563123   1.027322  -0.223442          ...             \n",
      "29        1.009784   -0.563123   1.027322  -0.223442          ...             \n",
      "...            ...         ...        ...        ...          ...             \n",
      "1429     -1.593092   -0.563123  -0.677869  -0.223442          ...             \n",
      "1430     -1.261817    1.284316  -0.677869  -0.223442          ...             \n",
      "1431     -1.593092   -0.563123  -0.677869  -0.223442          ...             \n",
      "1432     -1.545767   -0.563123  -2.383060  -2.770326          ...             \n",
      "1433     -1.593092   -0.563123  -0.677869  -0.223442          ...             \n",
      "1434      1.057109    2.109167   1.027322  -0.223442          ...             \n",
      "1435      1.009784    0.487714   1.027322  -0.223442          ...             \n",
      "1436     -0.220666   -0.563123  -0.677869  -0.223442          ...             \n",
      "1437     -0.267991   -0.563123  -0.677869  -0.223442          ...             \n",
      "1438      0.820484   -0.563123   1.027322  -0.223442          ...             \n",
      "1439     -0.409966    0.888840  -0.677869  -0.223442          ...             \n",
      "1440     -1.214492   -0.563123  -0.677869  -0.223442          ...             \n",
      "1441      0.773159   -0.563123   1.027322  -0.223442          ...             \n",
      "1442      1.057109    0.555510   1.027322  -0.223442          ...             \n",
      "1443      1.057109    1.595047   2.732514  -0.223442          ...             \n",
      "1444     -1.545767   -0.563123  -0.677869  -2.770326          ...             \n",
      "1445      0.631184    0.566809  -0.677869   2.323443          ...             \n",
      "1446     -0.315316   -0.563123  -0.677869  -0.223442          ...             \n",
      "1447      0.915134   -0.563123  -0.677869  -0.223442          ...             \n",
      "1448     -0.646592   -0.563123  -0.677869  -0.223442          ...             \n",
      "1449     -0.646592   -0.563123  -0.677869  -0.223442          ...             \n",
      "1450     -0.551942   -0.563123  -0.677869  -0.223442          ...             \n",
      "1451     -0.220666    0.532911  -0.677869  -0.223442          ...             \n",
      "1452     -0.646592   -0.563123  -0.677869  -0.223442          ...             \n",
      "1453     -0.646592   -0.563123  -0.677869  -0.223442          ...             \n",
      "1454     -0.646592   -0.563123  -0.677869  -0.223442          ...             \n",
      "1455     -0.646592   -0.563123  -0.677869  -0.223442          ...             \n",
      "1456      0.583859   -0.563123  -0.677869  -0.223442          ...             \n",
      "1457      0.394559   -0.563123  -0.677869  -0.223442          ...             \n",
      "1458      0.489209   -0.032055  -0.677869  -0.223442          ...             \n",
      "\n",
      "      SaleType_ConLw  SaleType_New  SaleType_Oth  SaleType_WD  \\\n",
      "0          -0.045377     -0.295167     -0.052414     0.398431   \n",
      "1          -0.045377     -0.295167     -0.052414     0.398431   \n",
      "2          -0.045377     -0.295167     -0.052414     0.398431   \n",
      "3          -0.045377     -0.295167     -0.052414     0.398431   \n",
      "4          -0.045377     -0.295167     -0.052414     0.398431   \n",
      "5          -0.045377     -0.295167     -0.052414     0.398431   \n",
      "6          -0.045377     -0.295167     -0.052414     0.398431   \n",
      "7          -0.045377     -0.295167     -0.052414     0.398431   \n",
      "8          -0.045377     -0.295167     -0.052414     0.398431   \n",
      "9          -0.045377     -0.295167     -0.052414     0.398431   \n",
      "10         -0.045377     -0.295167     -0.052414     0.398431   \n",
      "11         -0.045377     -0.295167     -0.052414    -2.508124   \n",
      "12         -0.045377     -0.295167     -0.052414     0.398431   \n",
      "13         -0.045377     -0.295167     -0.052414     0.398431   \n",
      "14         -0.045377     -0.295167     -0.052414     0.398431   \n",
      "15         -0.045377      3.385591     -0.052414    -2.508124   \n",
      "16         -0.045377      3.385591     -0.052414    -2.508124   \n",
      "17         -0.045377     -0.295167     -0.052414     0.398431   \n",
      "18         -0.045377     -0.295167     -0.052414     0.398431   \n",
      "19         -0.045377     -0.295167     -0.052414     0.398431   \n",
      "20         -0.045377     -0.295167     -0.052414     0.398431   \n",
      "21         -0.045377     -0.295167     -0.052414     0.398431   \n",
      "22         -0.045377     -0.295167     -0.052414     0.398431   \n",
      "23         -0.045377     -0.295167     -0.052414     0.398431   \n",
      "24         -0.045377     -0.295167     -0.052414     0.398431   \n",
      "25         -0.045377     -0.295167     -0.052414     0.398431   \n",
      "26         -0.045377     -0.295167     -0.052414     0.398431   \n",
      "27         -0.045377     -0.295167     -0.052414     0.398431   \n",
      "28         -0.045377      3.385591     -0.052414    -2.508124   \n",
      "29         -0.045377     -0.295167     -0.052414     0.398431   \n",
      "...              ...           ...           ...          ...   \n",
      "1429       -0.045377     -0.295167     -0.052414     0.398431   \n",
      "1430       -0.045377     -0.295167     -0.052414     0.398431   \n",
      "1431       -0.045377     -0.295167     -0.052414     0.398431   \n",
      "1432       -0.045377     -0.295167     -0.052414     0.398431   \n",
      "1433       -0.045377     -0.295167     -0.052414     0.398431   \n",
      "1434       -0.045377      3.385591     -0.052414    -2.508124   \n",
      "1435       -0.045377     -0.295167     -0.052414     0.398431   \n",
      "1436       -0.045377     -0.295167     -0.052414     0.398431   \n",
      "1437       -0.045377     -0.295167     -0.052414     0.398431   \n",
      "1438       -0.045377     -0.295167     -0.052414     0.398431   \n",
      "1439       -0.045377     -0.295167     -0.052414     0.398431   \n",
      "1440       -0.045377     -0.295167     -0.052414     0.398431   \n",
      "1441       -0.045377     -0.295167     -0.052414     0.398431   \n",
      "1442       -0.045377      3.385591     -0.052414    -2.508124   \n",
      "1443       -0.045377      3.385591     -0.052414    -2.508124   \n",
      "1444       -0.045377     -0.295167     -0.052414     0.398431   \n",
      "1445       -0.045377     -0.295167     -0.052414     0.398431   \n",
      "1446       -0.045377     -0.295167     -0.052414     0.398431   \n",
      "1447       -0.045377     -0.295167     -0.052414     0.398431   \n",
      "1448       -0.045377     -0.295167     -0.052414     0.398431   \n",
      "1449       -0.045377     -0.295167     -0.052414     0.398431   \n",
      "1450       -0.045377     -0.295167     -0.052414     0.398431   \n",
      "1451       -0.045377     -0.295167     -0.052414     0.398431   \n",
      "1452       -0.045377     -0.295167     -0.052414     0.398431   \n",
      "1453       -0.045377     -0.295167     -0.052414     0.398431   \n",
      "1454       -0.045377     -0.295167     -0.052414     0.398431   \n",
      "1455       -0.045377     -0.295167     -0.052414     0.398431   \n",
      "1456       -0.045377     -0.295167     -0.052414     0.398431   \n",
      "1457       -0.045377     -0.295167     -0.052414     0.398431   \n",
      "1458       -0.045377     -0.295167     -0.052414     0.398431   \n",
      "\n",
      "      SaleCondition_Abnorml  SaleCondition_AdjLand  SaleCondition_Alloca  \\\n",
      "0                 -0.254792              -0.074227             -0.091035   \n",
      "1                 -0.254792              -0.074227             -0.091035   \n",
      "2                 -0.254792              -0.074227             -0.091035   \n",
      "3                 -0.254792              -0.074227             -0.091035   \n",
      "4                 -0.254792              -0.074227             -0.091035   \n",
      "5                 -0.254792              -0.074227             -0.091035   \n",
      "6                 -0.254792              -0.074227             -0.091035   \n",
      "7                 -0.254792              -0.074227             -0.091035   \n",
      "8                 -0.254792              -0.074227             -0.091035   \n",
      "9                 -0.254792              -0.074227             -0.091035   \n",
      "10                -0.254792              -0.074227             -0.091035   \n",
      "11                -0.254792              -0.074227             -0.091035   \n",
      "12                -0.254792              -0.074227             -0.091035   \n",
      "13                -0.254792              -0.074227             -0.091035   \n",
      "14                -0.254792              -0.074227             -0.091035   \n",
      "15                -0.254792              -0.074227             -0.091035   \n",
      "16                -0.254792              -0.074227             -0.091035   \n",
      "17                -0.254792              -0.074227             -0.091035   \n",
      "18                -0.254792              -0.074227             -0.091035   \n",
      "19                -0.254792              -0.074227             -0.091035   \n",
      "20                -0.254792              -0.074227             -0.091035   \n",
      "21                -0.254792              -0.074227             -0.091035   \n",
      "22                -0.254792              -0.074227             -0.091035   \n",
      "23                -0.254792              -0.074227             -0.091035   \n",
      "24                -0.254792              -0.074227             -0.091035   \n",
      "25                -0.254792              -0.074227             -0.091035   \n",
      "26                -0.254792              -0.074227             -0.091035   \n",
      "27                -0.254792              -0.074227             -0.091035   \n",
      "28                -0.254792              -0.074227             -0.091035   \n",
      "29                -0.254792              -0.074227             -0.091035   \n",
      "...                     ...                    ...                   ...   \n",
      "1429              -0.254792              -0.074227             -0.091035   \n",
      "1430              -0.254792              -0.074227             -0.091035   \n",
      "1431               3.922080              -0.074227             -0.091035   \n",
      "1432               3.922080              -0.074227             -0.091035   \n",
      "1433              -0.254792              -0.074227             -0.091035   \n",
      "1434              -0.254792              -0.074227             -0.091035   \n",
      "1435              -0.254792              -0.074227             -0.091035   \n",
      "1436              -0.254792              -0.074227             -0.091035   \n",
      "1437              -0.254792              -0.074227             -0.091035   \n",
      "1438              -0.254792              -0.074227             -0.091035   \n",
      "1439              -0.254792              -0.074227             -0.091035   \n",
      "1440              -0.254792              -0.074227             10.977280   \n",
      "1441              -0.254792              -0.074227             -0.091035   \n",
      "1442              -0.254792              -0.074227             -0.091035   \n",
      "1443              -0.254792              -0.074227             -0.091035   \n",
      "1444              -0.254792              -0.074227             -0.091035   \n",
      "1445              -0.254792              -0.074227             -0.091035   \n",
      "1446              -0.254792              -0.074227             -0.091035   \n",
      "1447              -0.254792              -0.074227             -0.091035   \n",
      "1448              -0.254792              -0.074227             -0.091035   \n",
      "1449              -0.254792              -0.074227             -0.091035   \n",
      "1450              -0.254792              -0.074227             -0.091035   \n",
      "1451              -0.254792              -0.074227             -0.091035   \n",
      "1452               3.922080              -0.074227             -0.091035   \n",
      "1453              -0.254792              -0.074227             -0.091035   \n",
      "1454              -0.254792              -0.074227             -0.091035   \n",
      "1455               3.922080              -0.074227             -0.091035   \n",
      "1456               3.922080              -0.074227             -0.091035   \n",
      "1457              -0.254792              -0.074227             -0.091035   \n",
      "1458              -0.254792              -0.074227             -0.091035   \n",
      "\n",
      "      SaleCondition_Family  SaleCondition_Normal  SaleCondition_Partial  \n",
      "0                -0.134653              0.460053              -0.299262  \n",
      "1                -0.134653              0.460053              -0.299262  \n",
      "2                -0.134653              0.460053              -0.299262  \n",
      "3                -0.134653              0.460053              -0.299262  \n",
      "4                -0.134653              0.460053              -0.299262  \n",
      "5                -0.134653              0.460053              -0.299262  \n",
      "6                -0.134653              0.460053              -0.299262  \n",
      "7                -0.134653              0.460053              -0.299262  \n",
      "8                -0.134653              0.460053              -0.299262  \n",
      "9                -0.134653              0.460053              -0.299262  \n",
      "10               -0.134653              0.460053              -0.299262  \n",
      "11               -0.134653              0.460053              -0.299262  \n",
      "12               -0.134653              0.460053              -0.299262  \n",
      "13               -0.134653              0.460053              -0.299262  \n",
      "14               -0.134653              0.460053              -0.299262  \n",
      "15               -0.134653             -2.172172               3.339264  \n",
      "16               -0.134653             -2.172172               3.339264  \n",
      "17               -0.134653              0.460053              -0.299262  \n",
      "18               -0.134653              0.460053              -0.299262  \n",
      "19               -0.134653              0.460053              -0.299262  \n",
      "20               -0.134653              0.460053              -0.299262  \n",
      "21               -0.134653              0.460053              -0.299262  \n",
      "22               -0.134653              0.460053              -0.299262  \n",
      "23               -0.134653              0.460053              -0.299262  \n",
      "24               -0.134653              0.460053              -0.299262  \n",
      "25               -0.134653              0.460053              -0.299262  \n",
      "26               -0.134653              0.460053              -0.299262  \n",
      "27               -0.134653              0.460053              -0.299262  \n",
      "28               -0.134653             -2.172172               3.339264  \n",
      "29               -0.134653              0.460053              -0.299262  \n",
      "...                    ...                   ...                    ...  \n",
      "1429             -0.134653              0.460053              -0.299262  \n",
      "1430             -0.134653              0.460053              -0.299262  \n",
      "1431             -0.134653             -2.172172              -0.299262  \n",
      "1432             -0.134653             -2.172172              -0.299262  \n",
      "1433             -0.134653              0.460053              -0.299262  \n",
      "1434             -0.134653             -2.172172               3.339264  \n",
      "1435             -0.134653              0.460053              -0.299262  \n",
      "1436             -0.134653              0.460053              -0.299262  \n",
      "1437             -0.134653              0.460053              -0.299262  \n",
      "1438             -0.134653              0.460053              -0.299262  \n",
      "1439             -0.134653              0.460053              -0.299262  \n",
      "1440             -0.134653             -2.172172              -0.299262  \n",
      "1441             -0.134653              0.460053              -0.299262  \n",
      "1442             -0.134653             -2.172172               3.339264  \n",
      "1443             -0.134653             -2.172172               3.339264  \n",
      "1444             -0.134653              0.460053              -0.299262  \n",
      "1445             -0.134653              0.460053              -0.299262  \n",
      "1446             -0.134653              0.460053              -0.299262  \n",
      "1447             -0.134653              0.460053              -0.299262  \n",
      "1448             -0.134653              0.460053              -0.299262  \n",
      "1449             -0.134653              0.460053              -0.299262  \n",
      "1450             -0.134653              0.460053              -0.299262  \n",
      "1451             -0.134653              0.460053              -0.299262  \n",
      "1452             -0.134653             -2.172172              -0.299262  \n",
      "1453             -0.134653              0.460053              -0.299262  \n",
      "1454             -0.134653              0.460053              -0.299262  \n",
      "1455             -0.134653             -2.172172              -0.299262  \n",
      "1456             -0.134653             -2.172172              -0.299262  \n",
      "1457             -0.134653              0.460053              -0.299262  \n",
      "1458             -0.134653              0.460053              -0.299262  \n",
      "\n",
      "[1459 rows x 232 columns]\n"
     ]
    }
   ],
   "source": [
    "train_data = (train_data - train_data.mean())/train_data.std()\n",
    "test_data = (test_data - test_data.mean())/test_data.std()\n",
    "print(type(train_data))\n",
    "print(train_data)\n",
    "print(test_data)"
   ]
  },
  {
   "cell_type": "code",
   "execution_count": 275,
   "metadata": {
    "collapsed": false
   },
   "outputs": [
    {
     "name": "stdout",
     "output_type": "stream",
     "text": [
      "[]\n",
      "['Utilities_AllPub']\n"
     ]
    }
   ],
   "source": [
    "# check if there is any missing value caused by min-max scaling\n",
    "misTrain = countMissing(train_data)\n",
    "misTest = countMissing(test_data)\n",
    "print(misTrain)\n",
    "print(misTest)"
   ]
  },
  {
   "cell_type": "code",
   "execution_count": 276,
   "metadata": {
    "collapsed": false
   },
   "outputs": [],
   "source": [
    "imputation(test_data, 'Utilities_AllPub', 1)"
   ]
  },
  {
   "cell_type": "code",
   "execution_count": 277,
   "metadata": {
    "collapsed": true
   },
   "outputs": [],
   "source": [
    "# the codes in Module 6\n",
    "# drop ``Id'' column\n",
    "X = train_data.drop(['Id'], axis=1)\n",
    "test = test_data.drop(['Id'], axis=1)"
   ]
  },
  {
   "cell_type": "code",
   "execution_count": 278,
   "metadata": {
    "collapsed": false,
    "scrolled": true
   },
   "outputs": [],
   "source": [
    "# train linear regression model\n",
    "from sklearn import linear_model\n",
    "lm = linear_model.LinearRegression()\n",
    "lm.fit(X, Y)\n",
    "res = lm.predict(test)"
   ]
  },
  {
   "cell_type": "code",
   "execution_count": 284,
   "metadata": {
    "collapsed": false
   },
   "outputs": [
    {
     "name": "stdout",
     "output_type": "stream",
     "text": [
      "                   feature         score\n",
      "2              OverallQual  5.800071e-01\n",
      "21               GrLivArea  1.110844e-01\n",
      "18                1stFlrSF  4.182475e-02\n",
      "19                2ndFlrSF  3.598827e-02\n",
      "13              BsmtFinSF1  3.027291e-02\n",
      "34              GarageCars  1.962205e-02\n",
      "35              GarageArea  1.537668e-02\n",
      "1                  LotArea  1.352711e-02\n",
      "4                YearBuilt  1.247756e-02\n",
      "0              LotFrontage  8.318537e-03\n",
      "29            TotRmsAbvGrd  6.831144e-03\n",
      "9                 BsmtQual  6.608302e-03\n",
      "5             YearRemodAdd  5.978842e-03\n",
      "24                FullBath  5.688434e-03\n",
      "40             OpenPorchSF  5.440366e-03\n",
      "16               BsmtUnfSF  5.180351e-03\n",
      "28             KitchenQual  5.063324e-03\n",
      "39              WoodDeckSF  5.041568e-03\n",
      "6               MasVnrArea  4.922918e-03\n",
      "33            GarageFinish  4.333693e-03\n",
      "31             FireplaceQu  4.318181e-03\n",
      "32             GarageYrBlt  4.092184e-03\n",
      "3              OverallCond  4.025633e-03\n",
      "48                  MoSold  3.311676e-03\n",
      "11            BsmtExposure  2.819575e-03\n",
      "7                ExterQual  2.802439e-03\n",
      "212      GarageType_Detchd  2.582016e-03\n",
      "12            BsmtFinType1  2.385098e-03\n",
      "208      GarageType_Attchd  2.360989e-03\n",
      "26            BedroomAbvGr  1.875010e-03\n",
      "..                     ...           ...\n",
      "218           SaleType_Con  6.506017e-06\n",
      "140      HouseStyle_SFoyer  5.612117e-06\n",
      "153    Exterior1st_AsphShn  5.365704e-06\n",
      "207      GarageType_2Types  5.201037e-06\n",
      "221         SaleType_ConLw  5.145361e-06\n",
      "136      HouseStyle_1.5Unf  4.801514e-06\n",
      "53           MSSubClass_45  4.515329e-06\n",
      "166    Exterior2nd_AsphShn  4.323306e-06\n",
      "59           MSSubClass_85  4.204739e-06\n",
      "146      RoofStyle_Mansard  4.203388e-06\n",
      "104   Neighborhood_NPkVill  4.061324e-06\n",
      "147         RoofStyle_Shed  3.892370e-06\n",
      "188       Foundation_Stone  3.532477e-06\n",
      "125      Condition2_Artery  3.330942e-06\n",
      "219         SaleType_ConLD  3.089395e-06\n",
      "63          MSSubClass_180  2.997383e-06\n",
      "223           SaleType_Oth  2.856344e-06\n",
      "189        Foundation_Wood  2.787771e-06\n",
      "226  SaleCondition_AdjLand  2.677271e-06\n",
      "93     Neighborhood_BrDale  2.297648e-06\n",
      "213       MiscFeature_Gar2  1.181569e-06\n",
      "92    Neighborhood_Blueste  9.604617e-07\n",
      "198       Electrical_FuseP  9.486523e-07\n",
      "193           Heating_Wall  7.071802e-07\n",
      "214       MiscFeature_Othr  6.993580e-07\n",
      "123        Condition1_RRNe  3.970958e-07\n",
      "82        Utilities_AllPub  2.507617e-07\n",
      "169     Exterior2nd_CBlock  2.264324e-07\n",
      "128        Condition2_PosA  8.208200e-08\n",
      "156     Exterior1st_CBlock  7.750365e-08\n",
      "\n",
      "[231 rows x 2 columns]\n"
     ]
    }
   ],
   "source": [
    "# get features importance scores from random forest\n",
    "from sklearn.ensemble import RandomForestRegressor\n",
    "rfe = RandomForestRegressor(n_estimators = 500)\n",
    "rfe.fit(X, Y)\n",
    "imp_score = rfe.feature_importances_\n",
    "imp_score = pd.DataFrame({'feature': test.columns, 'score': imp_score})\n",
    "print(imp_score.sort_values(by = 'score', ascending = False))"
   ]
  },
  {
   "cell_type": "code",
   "execution_count": 280,
   "metadata": {
    "collapsed": true
   },
   "outputs": [],
   "source": [
    "# keep top 150 features according to feature importance score\n",
    "sel_feature = imp_score.sort_values(by = 'score', ascending = False).head(150)['feature']\n",
    "X_new = X[sel_feature]\n",
    "test_new = test[sel_feature]"
   ]
  },
  {
   "cell_type": "code",
   "execution_count": 281,
   "metadata": {
    "collapsed": true
   },
   "outputs": [],
   "source": [
    "lm = linear_model.LinearRegression()\n",
    "lm.fit(X_new, Y)\n",
    "res = lm.predict(test_new)"
   ]
  },
  {
   "cell_type": "code",
   "execution_count": 282,
   "metadata": {
    "collapsed": false
   },
   "outputs": [
    {
     "data": {
      "text/plain": [
       "0.020804714162771267"
      ]
     },
     "execution_count": 282,
     "metadata": {},
     "output_type": "execute_result"
    }
   ],
   "source": [
    "# get RMSE on training set\n",
    "np.mean((np.log(Y.values) - np.log(lm.predict(X_new)))**2)"
   ]
  },
  {
   "cell_type": "code",
   "execution_count": 180,
   "metadata": {
    "collapsed": true
   },
   "outputs": [],
   "source": [
    "# ridge regression\n",
    "from sklearn.linear_model import Ridge\n",
    "rid = Ridge(alpha=1.0)\n",
    "rid.fit(X_new, Y)\n",
    "res = rid.predict(test_new)"
   ]
  },
  {
   "cell_type": "code",
   "execution_count": 181,
   "metadata": {
    "collapsed": true
   },
   "outputs": [],
   "source": [
    "# lasso regression\n",
    "from sklearn.linear_model import Lasso\n",
    "las = Lasso(alpha=2.0)\n",
    "las.fit(X_new, Y)\n",
    "res = las.predict(test_new)"
   ]
  },
  {
   "cell_type": "code",
   "execution_count": 182,
   "metadata": {
    "collapsed": false
   },
   "outputs": [
    {
     "name": "stdout",
     "output_type": "stream",
     "text": [
      "                feature  weight\n",
      "2              1stFlrSF     0.0\n",
      "33         CentralAir_N    -0.0\n",
      "38  Exterior1st_HdBoard    -0.0\n",
      "71        LandSlope_Gtl     0.0\n",
      "75           PavedDrive    -0.0\n"
     ]
    }
   ],
   "source": [
    "# check the zero weight of features from lasso regression\n",
    "las.coef_\n",
    "las_weight = las.coef_\n",
    "las_weight = pd.DataFrame({'feature': X_new.columns, 'weight': las_weight})\n",
    "print(las_weight[las_weight['weight'] == 0])"
   ]
  },
  {
   "cell_type": "code",
   "execution_count": 183,
   "metadata": {
    "collapsed": false
   },
   "outputs": [
    {
     "data": {
      "text/plain": [
       "0.8864485899463174"
      ]
     },
     "execution_count": 183,
     "metadata": {},
     "output_type": "execute_result"
    }
   ],
   "source": [
    "# R-squared\n",
    "lm.score(X_new, Y)"
   ]
  },
  {
   "cell_type": "code",
   "execution_count": 184,
   "metadata": {
    "collapsed": false
   },
   "outputs": [
    {
     "data": {
      "text/plain": [
       "0.8839716650383872"
      ]
     },
     "execution_count": 184,
     "metadata": {},
     "output_type": "execute_result"
    }
   ],
   "source": [
    "rid.score(X_new, Y)"
   ]
  },
  {
   "cell_type": "code",
   "execution_count": 185,
   "metadata": {
    "collapsed": false
   },
   "outputs": [
    {
     "data": {
      "text/plain": [
       "0.8864176055356501"
      ]
     },
     "execution_count": 185,
     "metadata": {},
     "output_type": "execute_result"
    }
   ],
   "source": [
    "las.score(X_new, Y)"
   ]
  },
  {
   "cell_type": "code",
   "execution_count": 186,
   "metadata": {
    "collapsed": false,
    "scrolled": false
   },
   "outputs": [
    {
     "name": "stdout",
     "output_type": "stream",
     "text": [
      "    parameter         score\n",
      "8      10.000 -1.041538e+09\n",
      "7       3.000 -1.048131e+09\n",
      "6       1.000 -1.094579e+09\n",
      "9      30.000 -1.142897e+09\n",
      "5       0.300 -1.151650e+09\n",
      "4       0.100 -1.189282e+09\n",
      "3       0.030 -1.208965e+09\n",
      "2       0.010 -1.215619e+09\n",
      "1       0.003 -1.218086e+09\n",
      "0       0.001 -1.218805e+09\n",
      "10    100.000 -1.453337e+09\n",
      "11    300.000 -1.969689e+09\n"
     ]
    }
   ],
   "source": [
    "# cross validation\n",
    "from sklearn import cross_validation\n",
    "alphas = [0.001, 0.003, 0.01, 0.03, 0.1, 0.3, 1.0, 3.0, 10, 30, 100, 300]\n",
    "scores = []\n",
    "for a in alphas:\n",
    "    rid = Ridge(alpha = a)\n",
    "    scores.append(cross_validation.cross_val_score(rid, X_new, Y, scoring=\"neg_mean_squared_error\", cv = 10).mean())\n",
    "scores = pd.DataFrame({'parameter': alphas, 'score': scores})\n",
    "print(scores.sort_values(by = 'score', ascending = False))"
   ]
  },
  {
   "cell_type": "code",
   "execution_count": 187,
   "metadata": {
    "collapsed": false
   },
   "outputs": [
    {
     "name": "stderr",
     "output_type": "stream",
     "text": [
      "C:\\Users\\sanketn\\AppData\\Local\\Continuum\\Anaconda3\\lib\\site-packages\\sklearn\\linear_model\\coordinate_descent.py:484: ConvergenceWarning: Objective did not converge. You might want to increase the number of iterations. Fitting data with very small alpha may cause precision problems.\n",
      "  ConvergenceWarning)\n",
      "C:\\Users\\sanketn\\AppData\\Local\\Continuum\\Anaconda3\\lib\\site-packages\\sklearn\\linear_model\\coordinate_descent.py:484: ConvergenceWarning: Objective did not converge. You might want to increase the number of iterations. Fitting data with very small alpha may cause precision problems.\n",
      "  ConvergenceWarning)\n",
      "C:\\Users\\sanketn\\AppData\\Local\\Continuum\\Anaconda3\\lib\\site-packages\\sklearn\\linear_model\\coordinate_descent.py:484: ConvergenceWarning: Objective did not converge. You might want to increase the number of iterations. Fitting data with very small alpha may cause precision problems.\n",
      "  ConvergenceWarning)\n",
      "C:\\Users\\sanketn\\AppData\\Local\\Continuum\\Anaconda3\\lib\\site-packages\\sklearn\\linear_model\\coordinate_descent.py:484: ConvergenceWarning: Objective did not converge. You might want to increase the number of iterations. Fitting data with very small alpha may cause precision problems.\n",
      "  ConvergenceWarning)\n",
      "C:\\Users\\sanketn\\AppData\\Local\\Continuum\\Anaconda3\\lib\\site-packages\\sklearn\\linear_model\\coordinate_descent.py:484: ConvergenceWarning: Objective did not converge. You might want to increase the number of iterations. Fitting data with very small alpha may cause precision problems.\n",
      "  ConvergenceWarning)\n",
      "C:\\Users\\sanketn\\AppData\\Local\\Continuum\\Anaconda3\\lib\\site-packages\\sklearn\\linear_model\\coordinate_descent.py:484: ConvergenceWarning: Objective did not converge. You might want to increase the number of iterations. Fitting data with very small alpha may cause precision problems.\n",
      "  ConvergenceWarning)\n",
      "C:\\Users\\sanketn\\AppData\\Local\\Continuum\\Anaconda3\\lib\\site-packages\\sklearn\\linear_model\\coordinate_descent.py:484: ConvergenceWarning: Objective did not converge. You might want to increase the number of iterations. Fitting data with very small alpha may cause precision problems.\n",
      "  ConvergenceWarning)\n",
      "C:\\Users\\sanketn\\AppData\\Local\\Continuum\\Anaconda3\\lib\\site-packages\\sklearn\\linear_model\\coordinate_descent.py:484: ConvergenceWarning: Objective did not converge. You might want to increase the number of iterations. Fitting data with very small alpha may cause precision problems.\n",
      "  ConvergenceWarning)\n",
      "C:\\Users\\sanketn\\AppData\\Local\\Continuum\\Anaconda3\\lib\\site-packages\\sklearn\\linear_model\\coordinate_descent.py:484: ConvergenceWarning: Objective did not converge. You might want to increase the number of iterations. Fitting data with very small alpha may cause precision problems.\n",
      "  ConvergenceWarning)\n",
      "C:\\Users\\sanketn\\AppData\\Local\\Continuum\\Anaconda3\\lib\\site-packages\\sklearn\\linear_model\\coordinate_descent.py:484: ConvergenceWarning: Objective did not converge. You might want to increase the number of iterations. Fitting data with very small alpha may cause precision problems.\n",
      "  ConvergenceWarning)\n",
      "C:\\Users\\sanketn\\AppData\\Local\\Continuum\\Anaconda3\\lib\\site-packages\\sklearn\\linear_model\\coordinate_descent.py:484: ConvergenceWarning: Objective did not converge. You might want to increase the number of iterations. Fitting data with very small alpha may cause precision problems.\n",
      "  ConvergenceWarning)\n",
      "C:\\Users\\sanketn\\AppData\\Local\\Continuum\\Anaconda3\\lib\\site-packages\\sklearn\\linear_model\\coordinate_descent.py:484: ConvergenceWarning: Objective did not converge. You might want to increase the number of iterations. Fitting data with very small alpha may cause precision problems.\n",
      "  ConvergenceWarning)\n",
      "C:\\Users\\sanketn\\AppData\\Local\\Continuum\\Anaconda3\\lib\\site-packages\\sklearn\\linear_model\\coordinate_descent.py:484: ConvergenceWarning: Objective did not converge. You might want to increase the number of iterations. Fitting data with very small alpha may cause precision problems.\n",
      "  ConvergenceWarning)\n",
      "C:\\Users\\sanketn\\AppData\\Local\\Continuum\\Anaconda3\\lib\\site-packages\\sklearn\\linear_model\\coordinate_descent.py:484: ConvergenceWarning: Objective did not converge. You might want to increase the number of iterations. Fitting data with very small alpha may cause precision problems.\n",
      "  ConvergenceWarning)\n",
      "C:\\Users\\sanketn\\AppData\\Local\\Continuum\\Anaconda3\\lib\\site-packages\\sklearn\\linear_model\\coordinate_descent.py:484: ConvergenceWarning: Objective did not converge. You might want to increase the number of iterations. Fitting data with very small alpha may cause precision problems.\n",
      "  ConvergenceWarning)\n",
      "C:\\Users\\sanketn\\AppData\\Local\\Continuum\\Anaconda3\\lib\\site-packages\\sklearn\\linear_model\\coordinate_descent.py:484: ConvergenceWarning: Objective did not converge. You might want to increase the number of iterations. Fitting data with very small alpha may cause precision problems.\n",
      "  ConvergenceWarning)\n",
      "C:\\Users\\sanketn\\AppData\\Local\\Continuum\\Anaconda3\\lib\\site-packages\\sklearn\\linear_model\\coordinate_descent.py:484: ConvergenceWarning: Objective did not converge. You might want to increase the number of iterations. Fitting data with very small alpha may cause precision problems.\n",
      "  ConvergenceWarning)\n",
      "C:\\Users\\sanketn\\AppData\\Local\\Continuum\\Anaconda3\\lib\\site-packages\\sklearn\\linear_model\\coordinate_descent.py:484: ConvergenceWarning: Objective did not converge. You might want to increase the number of iterations. Fitting data with very small alpha may cause precision problems.\n",
      "  ConvergenceWarning)\n",
      "C:\\Users\\sanketn\\AppData\\Local\\Continuum\\Anaconda3\\lib\\site-packages\\sklearn\\linear_model\\coordinate_descent.py:484: ConvergenceWarning: Objective did not converge. You might want to increase the number of iterations. Fitting data with very small alpha may cause precision problems.\n",
      "  ConvergenceWarning)\n",
      "C:\\Users\\sanketn\\AppData\\Local\\Continuum\\Anaconda3\\lib\\site-packages\\sklearn\\linear_model\\coordinate_descent.py:484: ConvergenceWarning: Objective did not converge. You might want to increase the number of iterations. Fitting data with very small alpha may cause precision problems.\n",
      "  ConvergenceWarning)\n",
      "C:\\Users\\sanketn\\AppData\\Local\\Continuum\\Anaconda3\\lib\\site-packages\\sklearn\\linear_model\\coordinate_descent.py:484: ConvergenceWarning: Objective did not converge. You might want to increase the number of iterations. Fitting data with very small alpha may cause precision problems.\n",
      "  ConvergenceWarning)\n",
      "C:\\Users\\sanketn\\AppData\\Local\\Continuum\\Anaconda3\\lib\\site-packages\\sklearn\\linear_model\\coordinate_descent.py:484: ConvergenceWarning: Objective did not converge. You might want to increase the number of iterations. Fitting data with very small alpha may cause precision problems.\n",
      "  ConvergenceWarning)\n",
      "C:\\Users\\sanketn\\AppData\\Local\\Continuum\\Anaconda3\\lib\\site-packages\\sklearn\\linear_model\\coordinate_descent.py:484: ConvergenceWarning: Objective did not converge. You might want to increase the number of iterations. Fitting data with very small alpha may cause precision problems.\n",
      "  ConvergenceWarning)\n",
      "C:\\Users\\sanketn\\AppData\\Local\\Continuum\\Anaconda3\\lib\\site-packages\\sklearn\\linear_model\\coordinate_descent.py:484: ConvergenceWarning: Objective did not converge. You might want to increase the number of iterations. Fitting data with very small alpha may cause precision problems.\n",
      "  ConvergenceWarning)\n",
      "C:\\Users\\sanketn\\AppData\\Local\\Continuum\\Anaconda3\\lib\\site-packages\\sklearn\\linear_model\\coordinate_descent.py:484: ConvergenceWarning: Objective did not converge. You might want to increase the number of iterations. Fitting data with very small alpha may cause precision problems.\n",
      "  ConvergenceWarning)\n",
      "C:\\Users\\sanketn\\AppData\\Local\\Continuum\\Anaconda3\\lib\\site-packages\\sklearn\\linear_model\\coordinate_descent.py:484: ConvergenceWarning: Objective did not converge. You might want to increase the number of iterations. Fitting data with very small alpha may cause precision problems.\n",
      "  ConvergenceWarning)\n",
      "C:\\Users\\sanketn\\AppData\\Local\\Continuum\\Anaconda3\\lib\\site-packages\\sklearn\\linear_model\\coordinate_descent.py:484: ConvergenceWarning: Objective did not converge. You might want to increase the number of iterations. Fitting data with very small alpha may cause precision problems.\n",
      "  ConvergenceWarning)\n",
      "C:\\Users\\sanketn\\AppData\\Local\\Continuum\\Anaconda3\\lib\\site-packages\\sklearn\\linear_model\\coordinate_descent.py:484: ConvergenceWarning: Objective did not converge. You might want to increase the number of iterations. Fitting data with very small alpha may cause precision problems.\n",
      "  ConvergenceWarning)\n",
      "C:\\Users\\sanketn\\AppData\\Local\\Continuum\\Anaconda3\\lib\\site-packages\\sklearn\\linear_model\\coordinate_descent.py:484: ConvergenceWarning: Objective did not converge. You might want to increase the number of iterations. Fitting data with very small alpha may cause precision problems.\n",
      "  ConvergenceWarning)\n",
      "C:\\Users\\sanketn\\AppData\\Local\\Continuum\\Anaconda3\\lib\\site-packages\\sklearn\\linear_model\\coordinate_descent.py:484: ConvergenceWarning: Objective did not converge. You might want to increase the number of iterations. Fitting data with very small alpha may cause precision problems.\n",
      "  ConvergenceWarning)\n",
      "C:\\Users\\sanketn\\AppData\\Local\\Continuum\\Anaconda3\\lib\\site-packages\\sklearn\\linear_model\\coordinate_descent.py:484: ConvergenceWarning: Objective did not converge. You might want to increase the number of iterations. Fitting data with very small alpha may cause precision problems.\n",
      "  ConvergenceWarning)\n",
      "C:\\Users\\sanketn\\AppData\\Local\\Continuum\\Anaconda3\\lib\\site-packages\\sklearn\\linear_model\\coordinate_descent.py:484: ConvergenceWarning: Objective did not converge. You might want to increase the number of iterations. Fitting data with very small alpha may cause precision problems.\n",
      "  ConvergenceWarning)\n",
      "C:\\Users\\sanketn\\AppData\\Local\\Continuum\\Anaconda3\\lib\\site-packages\\sklearn\\linear_model\\coordinate_descent.py:484: ConvergenceWarning: Objective did not converge. You might want to increase the number of iterations. Fitting data with very small alpha may cause precision problems.\n",
      "  ConvergenceWarning)\n",
      "C:\\Users\\sanketn\\AppData\\Local\\Continuum\\Anaconda3\\lib\\site-packages\\sklearn\\linear_model\\coordinate_descent.py:484: ConvergenceWarning: Objective did not converge. You might want to increase the number of iterations. Fitting data with very small alpha may cause precision problems.\n",
      "  ConvergenceWarning)\n",
      "C:\\Users\\sanketn\\AppData\\Local\\Continuum\\Anaconda3\\lib\\site-packages\\sklearn\\linear_model\\coordinate_descent.py:484: ConvergenceWarning: Objective did not converge. You might want to increase the number of iterations. Fitting data with very small alpha may cause precision problems.\n",
      "  ConvergenceWarning)\n",
      "C:\\Users\\sanketn\\AppData\\Local\\Continuum\\Anaconda3\\lib\\site-packages\\sklearn\\linear_model\\coordinate_descent.py:484: ConvergenceWarning: Objective did not converge. You might want to increase the number of iterations. Fitting data with very small alpha may cause precision problems.\n",
      "  ConvergenceWarning)\n",
      "C:\\Users\\sanketn\\AppData\\Local\\Continuum\\Anaconda3\\lib\\site-packages\\sklearn\\linear_model\\coordinate_descent.py:484: ConvergenceWarning: Objective did not converge. You might want to increase the number of iterations. Fitting data with very small alpha may cause precision problems.\n",
      "  ConvergenceWarning)\n",
      "C:\\Users\\sanketn\\AppData\\Local\\Continuum\\Anaconda3\\lib\\site-packages\\sklearn\\linear_model\\coordinate_descent.py:484: ConvergenceWarning: Objective did not converge. You might want to increase the number of iterations. Fitting data with very small alpha may cause precision problems.\n",
      "  ConvergenceWarning)\n",
      "C:\\Users\\sanketn\\AppData\\Local\\Continuum\\Anaconda3\\lib\\site-packages\\sklearn\\linear_model\\coordinate_descent.py:484: ConvergenceWarning: Objective did not converge. You might want to increase the number of iterations. Fitting data with very small alpha may cause precision problems.\n",
      "  ConvergenceWarning)\n",
      "C:\\Users\\sanketn\\AppData\\Local\\Continuum\\Anaconda3\\lib\\site-packages\\sklearn\\linear_model\\coordinate_descent.py:484: ConvergenceWarning: Objective did not converge. You might want to increase the number of iterations. Fitting data with very small alpha may cause precision problems.\n",
      "  ConvergenceWarning)\n",
      "C:\\Users\\sanketn\\AppData\\Local\\Continuum\\Anaconda3\\lib\\site-packages\\sklearn\\linear_model\\coordinate_descent.py:484: ConvergenceWarning: Objective did not converge. You might want to increase the number of iterations. Fitting data with very small alpha may cause precision problems.\n",
      "  ConvergenceWarning)\n",
      "C:\\Users\\sanketn\\AppData\\Local\\Continuum\\Anaconda3\\lib\\site-packages\\sklearn\\linear_model\\coordinate_descent.py:484: ConvergenceWarning: Objective did not converge. You might want to increase the number of iterations. Fitting data with very small alpha may cause precision problems.\n",
      "  ConvergenceWarning)\n",
      "C:\\Users\\sanketn\\AppData\\Local\\Continuum\\Anaconda3\\lib\\site-packages\\sklearn\\linear_model\\coordinate_descent.py:484: ConvergenceWarning: Objective did not converge. You might want to increase the number of iterations. Fitting data with very small alpha may cause precision problems.\n",
      "  ConvergenceWarning)\n",
      "C:\\Users\\sanketn\\AppData\\Local\\Continuum\\Anaconda3\\lib\\site-packages\\sklearn\\linear_model\\coordinate_descent.py:484: ConvergenceWarning: Objective did not converge. You might want to increase the number of iterations. Fitting data with very small alpha may cause precision problems.\n",
      "  ConvergenceWarning)\n",
      "C:\\Users\\sanketn\\AppData\\Local\\Continuum\\Anaconda3\\lib\\site-packages\\sklearn\\linear_model\\coordinate_descent.py:484: ConvergenceWarning: Objective did not converge. You might want to increase the number of iterations. Fitting data with very small alpha may cause precision problems.\n",
      "  ConvergenceWarning)\n",
      "C:\\Users\\sanketn\\AppData\\Local\\Continuum\\Anaconda3\\lib\\site-packages\\sklearn\\linear_model\\coordinate_descent.py:484: ConvergenceWarning: Objective did not converge. You might want to increase the number of iterations. Fitting data with very small alpha may cause precision problems.\n",
      "  ConvergenceWarning)\n",
      "C:\\Users\\sanketn\\AppData\\Local\\Continuum\\Anaconda3\\lib\\site-packages\\sklearn\\linear_model\\coordinate_descent.py:484: ConvergenceWarning: Objective did not converge. You might want to increase the number of iterations. Fitting data with very small alpha may cause precision problems.\n",
      "  ConvergenceWarning)\n",
      "C:\\Users\\sanketn\\AppData\\Local\\Continuum\\Anaconda3\\lib\\site-packages\\sklearn\\linear_model\\coordinate_descent.py:484: ConvergenceWarning: Objective did not converge. You might want to increase the number of iterations. Fitting data with very small alpha may cause precision problems.\n",
      "  ConvergenceWarning)\n",
      "C:\\Users\\sanketn\\AppData\\Local\\Continuum\\Anaconda3\\lib\\site-packages\\sklearn\\linear_model\\coordinate_descent.py:484: ConvergenceWarning: Objective did not converge. You might want to increase the number of iterations. Fitting data with very small alpha may cause precision problems.\n",
      "  ConvergenceWarning)\n",
      "C:\\Users\\sanketn\\AppData\\Local\\Continuum\\Anaconda3\\lib\\site-packages\\sklearn\\linear_model\\coordinate_descent.py:484: ConvergenceWarning: Objective did not converge. You might want to increase the number of iterations. Fitting data with very small alpha may cause precision problems.\n",
      "  ConvergenceWarning)\n",
      "C:\\Users\\sanketn\\AppData\\Local\\Continuum\\Anaconda3\\lib\\site-packages\\sklearn\\linear_model\\coordinate_descent.py:484: ConvergenceWarning: Objective did not converge. You might want to increase the number of iterations. Fitting data with very small alpha may cause precision problems.\n",
      "  ConvergenceWarning)\n",
      "C:\\Users\\sanketn\\AppData\\Local\\Continuum\\Anaconda3\\lib\\site-packages\\sklearn\\linear_model\\coordinate_descent.py:484: ConvergenceWarning: Objective did not converge. You might want to increase the number of iterations. Fitting data with very small alpha may cause precision problems.\n",
      "  ConvergenceWarning)\n",
      "C:\\Users\\sanketn\\AppData\\Local\\Continuum\\Anaconda3\\lib\\site-packages\\sklearn\\linear_model\\coordinate_descent.py:484: ConvergenceWarning: Objective did not converge. You might want to increase the number of iterations. Fitting data with very small alpha may cause precision problems.\n",
      "  ConvergenceWarning)\n",
      "C:\\Users\\sanketn\\AppData\\Local\\Continuum\\Anaconda3\\lib\\site-packages\\sklearn\\linear_model\\coordinate_descent.py:484: ConvergenceWarning: Objective did not converge. You might want to increase the number of iterations. Fitting data with very small alpha may cause precision problems.\n",
      "  ConvergenceWarning)\n",
      "C:\\Users\\sanketn\\AppData\\Local\\Continuum\\Anaconda3\\lib\\site-packages\\sklearn\\linear_model\\coordinate_descent.py:484: ConvergenceWarning: Objective did not converge. You might want to increase the number of iterations. Fitting data with very small alpha may cause precision problems.\n",
      "  ConvergenceWarning)\n",
      "C:\\Users\\sanketn\\AppData\\Local\\Continuum\\Anaconda3\\lib\\site-packages\\sklearn\\linear_model\\coordinate_descent.py:484: ConvergenceWarning: Objective did not converge. You might want to increase the number of iterations. Fitting data with very small alpha may cause precision problems.\n",
      "  ConvergenceWarning)\n",
      "C:\\Users\\sanketn\\AppData\\Local\\Continuum\\Anaconda3\\lib\\site-packages\\sklearn\\linear_model\\coordinate_descent.py:484: ConvergenceWarning: Objective did not converge. You might want to increase the number of iterations. Fitting data with very small alpha may cause precision problems.\n",
      "  ConvergenceWarning)\n",
      "C:\\Users\\sanketn\\AppData\\Local\\Continuum\\Anaconda3\\lib\\site-packages\\sklearn\\linear_model\\coordinate_descent.py:484: ConvergenceWarning: Objective did not converge. You might want to increase the number of iterations. Fitting data with very small alpha may cause precision problems.\n",
      "  ConvergenceWarning)\n",
      "C:\\Users\\sanketn\\AppData\\Local\\Continuum\\Anaconda3\\lib\\site-packages\\sklearn\\linear_model\\coordinate_descent.py:484: ConvergenceWarning: Objective did not converge. You might want to increase the number of iterations. Fitting data with very small alpha may cause precision problems.\n",
      "  ConvergenceWarning)\n",
      "C:\\Users\\sanketn\\AppData\\Local\\Continuum\\Anaconda3\\lib\\site-packages\\sklearn\\linear_model\\coordinate_descent.py:484: ConvergenceWarning: Objective did not converge. You might want to increase the number of iterations. Fitting data with very small alpha may cause precision problems.\n",
      "  ConvergenceWarning)\n",
      "C:\\Users\\sanketn\\AppData\\Local\\Continuum\\Anaconda3\\lib\\site-packages\\sklearn\\linear_model\\coordinate_descent.py:484: ConvergenceWarning: Objective did not converge. You might want to increase the number of iterations. Fitting data with very small alpha may cause precision problems.\n",
      "  ConvergenceWarning)\n",
      "C:\\Users\\sanketn\\AppData\\Local\\Continuum\\Anaconda3\\lib\\site-packages\\sklearn\\linear_model\\coordinate_descent.py:484: ConvergenceWarning: Objective did not converge. You might want to increase the number of iterations. Fitting data with very small alpha may cause precision problems.\n",
      "  ConvergenceWarning)\n",
      "C:\\Users\\sanketn\\AppData\\Local\\Continuum\\Anaconda3\\lib\\site-packages\\sklearn\\linear_model\\coordinate_descent.py:484: ConvergenceWarning: Objective did not converge. You might want to increase the number of iterations. Fitting data with very small alpha may cause precision problems.\n",
      "  ConvergenceWarning)\n",
      "C:\\Users\\sanketn\\AppData\\Local\\Continuum\\Anaconda3\\lib\\site-packages\\sklearn\\linear_model\\coordinate_descent.py:484: ConvergenceWarning: Objective did not converge. You might want to increase the number of iterations. Fitting data with very small alpha may cause precision problems.\n",
      "  ConvergenceWarning)\n",
      "C:\\Users\\sanketn\\AppData\\Local\\Continuum\\Anaconda3\\lib\\site-packages\\sklearn\\linear_model\\coordinate_descent.py:484: ConvergenceWarning: Objective did not converge. You might want to increase the number of iterations. Fitting data with very small alpha may cause precision problems.\n",
      "  ConvergenceWarning)\n",
      "C:\\Users\\sanketn\\AppData\\Local\\Continuum\\Anaconda3\\lib\\site-packages\\sklearn\\linear_model\\coordinate_descent.py:484: ConvergenceWarning: Objective did not converge. You might want to increase the number of iterations. Fitting data with very small alpha may cause precision problems.\n",
      "  ConvergenceWarning)\n"
     ]
    },
    {
     "name": "stdout",
     "output_type": "stream",
     "text": [
      "    parameter         score\n",
      "10    100.000 -1.043448e+09\n",
      "11    300.000 -1.061859e+09\n",
      "9      30.000 -1.136407e+09\n",
      "8      10.000 -1.183830e+09\n",
      "7       3.000 -1.207164e+09\n",
      "6       1.000 -1.215149e+09\n",
      "5       0.300 -1.218172e+09\n",
      "4       0.100 -1.218854e+09\n",
      "3       0.030 -1.219074e+09\n",
      "2       0.010 -1.219136e+09\n",
      "1       0.003 -1.219158e+09\n",
      "0       0.001 -1.219164e+09\n"
     ]
    }
   ],
   "source": [
    "# cross validation\n",
    "from sklearn import cross_validation\n",
    "alphas = [0.001, 0.003, 0.01, 0.03, 0.1, 0.3, 1.0, 3.0, 10, 30, 100, 300]\n",
    "scores = []\n",
    "for a in alphas:\n",
    "    las = Lasso(alpha = a)\n",
    "    scores.append(cross_validation.cross_val_score(las, X_new, Y, scoring=\"neg_mean_squared_error\", cv = 10).mean())\n",
    "scores = pd.DataFrame({'parameter': alphas, 'score': scores})\n",
    "print(scores.sort_values(by = 'score', ascending = False))"
   ]
  },
  {
   "cell_type": "code",
   "execution_count": 188,
   "metadata": {
    "collapsed": true
   },
   "outputs": [],
   "source": [
    "# final linear regression models\n",
    "las = Lasso(alpha = 100.0)\n",
    "las.fit(X_new, Y)\n",
    "res = las.predict(test_new)"
   ]
  },
  {
   "cell_type": "code",
   "execution_count": 189,
   "metadata": {
    "collapsed": true
   },
   "outputs": [],
   "source": [
    "# random forest\n",
    "from sklearn.ensemble import RandomForestRegressor\n",
    "rfe = RandomForestRegressor(n_estimators = 500)\n",
    "rfe.fit(X_new, Y)\n",
    "res = rfe.predict(test_new)"
   ]
  },
  {
   "cell_type": "code",
   "execution_count": 190,
   "metadata": {
    "collapsed": false
   },
   "outputs": [
    {
     "ename": "FileNotFoundError",
     "evalue": "File b'./data/sample_submission.csv' does not exist",
     "output_type": "error",
     "traceback": [
      "\u001b[0;31m---------------------------------------------------------------------------\u001b[0m",
      "\u001b[0;31mFileNotFoundError\u001b[0m                         Traceback (most recent call last)",
      "\u001b[0;32m<ipython-input-190-1ebbc61890ae>\u001b[0m in \u001b[0;36m<module>\u001b[0;34m()\u001b[0m\n\u001b[1;32m      1\u001b[0m \u001b[1;31m# save predictions\u001b[0m\u001b[1;33m\u001b[0m\u001b[1;33m\u001b[0m\u001b[0m\n\u001b[0;32m----> 2\u001b[0;31m \u001b[0msample_data\u001b[0m \u001b[1;33m=\u001b[0m \u001b[0mpd\u001b[0m\u001b[1;33m.\u001b[0m\u001b[0mread_csv\u001b[0m\u001b[1;33m(\u001b[0m\u001b[1;34m\"./data/sample_submission.csv\"\u001b[0m\u001b[1;33m)\u001b[0m\u001b[1;33m\u001b[0m\u001b[0m\n\u001b[0m\u001b[1;32m      3\u001b[0m \u001b[0msample_data\u001b[0m\u001b[1;33m[\u001b[0m\u001b[1;34m'SalePrice'\u001b[0m\u001b[1;33m]\u001b[0m \u001b[1;33m=\u001b[0m \u001b[0mres\u001b[0m\u001b[1;33m\u001b[0m\u001b[0m\n\u001b[1;32m      4\u001b[0m \u001b[0msample_data\u001b[0m\u001b[1;33m.\u001b[0m\u001b[0mto_csv\u001b[0m\u001b[1;33m(\u001b[0m\u001b[1;34m'./prediction.csv'\u001b[0m\u001b[1;33m,\u001b[0m \u001b[0mindex\u001b[0m \u001b[1;33m=\u001b[0m \u001b[1;32mFalse\u001b[0m\u001b[1;33m)\u001b[0m\u001b[1;33m\u001b[0m\u001b[0m\n",
      "\u001b[0;32mC:\\Users\\sanketn\\AppData\\Local\\Continuum\\Anaconda3\\lib\\site-packages\\pandas\\io\\parsers.py\u001b[0m in \u001b[0;36mparser_f\u001b[0;34m(filepath_or_buffer, sep, delimiter, header, names, index_col, usecols, squeeze, prefix, mangle_dupe_cols, dtype, engine, converters, true_values, false_values, skipinitialspace, skiprows, nrows, na_values, keep_default_na, na_filter, verbose, skip_blank_lines, parse_dates, infer_datetime_format, keep_date_col, date_parser, dayfirst, iterator, chunksize, compression, thousands, decimal, lineterminator, quotechar, quoting, escapechar, comment, encoding, dialect, tupleize_cols, error_bad_lines, warn_bad_lines, skipfooter, skip_footer, doublequote, delim_whitespace, as_recarray, compact_ints, use_unsigned, low_memory, buffer_lines, memory_map, float_precision)\u001b[0m\n\u001b[1;32m    644\u001b[0m                     skip_blank_lines=skip_blank_lines)\n\u001b[1;32m    645\u001b[0m \u001b[1;33m\u001b[0m\u001b[0m\n\u001b[0;32m--> 646\u001b[0;31m         \u001b[1;32mreturn\u001b[0m \u001b[0m_read\u001b[0m\u001b[1;33m(\u001b[0m\u001b[0mfilepath_or_buffer\u001b[0m\u001b[1;33m,\u001b[0m \u001b[0mkwds\u001b[0m\u001b[1;33m)\u001b[0m\u001b[1;33m\u001b[0m\u001b[0m\n\u001b[0m\u001b[1;32m    647\u001b[0m \u001b[1;33m\u001b[0m\u001b[0m\n\u001b[1;32m    648\u001b[0m     \u001b[0mparser_f\u001b[0m\u001b[1;33m.\u001b[0m\u001b[0m__name__\u001b[0m \u001b[1;33m=\u001b[0m \u001b[0mname\u001b[0m\u001b[1;33m\u001b[0m\u001b[0m\n",
      "\u001b[0;32mC:\\Users\\sanketn\\AppData\\Local\\Continuum\\Anaconda3\\lib\\site-packages\\pandas\\io\\parsers.py\u001b[0m in \u001b[0;36m_read\u001b[0;34m(filepath_or_buffer, kwds)\u001b[0m\n\u001b[1;32m    387\u001b[0m \u001b[1;33m\u001b[0m\u001b[0m\n\u001b[1;32m    388\u001b[0m     \u001b[1;31m# Create the parser.\u001b[0m\u001b[1;33m\u001b[0m\u001b[1;33m\u001b[0m\u001b[0m\n\u001b[0;32m--> 389\u001b[0;31m     \u001b[0mparser\u001b[0m \u001b[1;33m=\u001b[0m \u001b[0mTextFileReader\u001b[0m\u001b[1;33m(\u001b[0m\u001b[0mfilepath_or_buffer\u001b[0m\u001b[1;33m,\u001b[0m \u001b[1;33m**\u001b[0m\u001b[0mkwds\u001b[0m\u001b[1;33m)\u001b[0m\u001b[1;33m\u001b[0m\u001b[0m\n\u001b[0m\u001b[1;32m    390\u001b[0m \u001b[1;33m\u001b[0m\u001b[0m\n\u001b[1;32m    391\u001b[0m     \u001b[1;32mif\u001b[0m \u001b[1;33m(\u001b[0m\u001b[0mnrows\u001b[0m \u001b[1;32mis\u001b[0m \u001b[1;32mnot\u001b[0m \u001b[1;32mNone\u001b[0m\u001b[1;33m)\u001b[0m \u001b[1;32mand\u001b[0m \u001b[1;33m(\u001b[0m\u001b[0mchunksize\u001b[0m \u001b[1;32mis\u001b[0m \u001b[1;32mnot\u001b[0m \u001b[1;32mNone\u001b[0m\u001b[1;33m)\u001b[0m\u001b[1;33m:\u001b[0m\u001b[1;33m\u001b[0m\u001b[0m\n",
      "\u001b[0;32mC:\\Users\\sanketn\\AppData\\Local\\Continuum\\Anaconda3\\lib\\site-packages\\pandas\\io\\parsers.py\u001b[0m in \u001b[0;36m__init__\u001b[0;34m(self, f, engine, **kwds)\u001b[0m\n\u001b[1;32m    728\u001b[0m             \u001b[0mself\u001b[0m\u001b[1;33m.\u001b[0m\u001b[0moptions\u001b[0m\u001b[1;33m[\u001b[0m\u001b[1;34m'has_index_names'\u001b[0m\u001b[1;33m]\u001b[0m \u001b[1;33m=\u001b[0m \u001b[0mkwds\u001b[0m\u001b[1;33m[\u001b[0m\u001b[1;34m'has_index_names'\u001b[0m\u001b[1;33m]\u001b[0m\u001b[1;33m\u001b[0m\u001b[0m\n\u001b[1;32m    729\u001b[0m \u001b[1;33m\u001b[0m\u001b[0m\n\u001b[0;32m--> 730\u001b[0;31m         \u001b[0mself\u001b[0m\u001b[1;33m.\u001b[0m\u001b[0m_make_engine\u001b[0m\u001b[1;33m(\u001b[0m\u001b[0mself\u001b[0m\u001b[1;33m.\u001b[0m\u001b[0mengine\u001b[0m\u001b[1;33m)\u001b[0m\u001b[1;33m\u001b[0m\u001b[0m\n\u001b[0m\u001b[1;32m    731\u001b[0m \u001b[1;33m\u001b[0m\u001b[0m\n\u001b[1;32m    732\u001b[0m     \u001b[1;32mdef\u001b[0m \u001b[0mclose\u001b[0m\u001b[1;33m(\u001b[0m\u001b[0mself\u001b[0m\u001b[1;33m)\u001b[0m\u001b[1;33m:\u001b[0m\u001b[1;33m\u001b[0m\u001b[0m\n",
      "\u001b[0;32mC:\\Users\\sanketn\\AppData\\Local\\Continuum\\Anaconda3\\lib\\site-packages\\pandas\\io\\parsers.py\u001b[0m in \u001b[0;36m_make_engine\u001b[0;34m(self, engine)\u001b[0m\n\u001b[1;32m    921\u001b[0m     \u001b[1;32mdef\u001b[0m \u001b[0m_make_engine\u001b[0m\u001b[1;33m(\u001b[0m\u001b[0mself\u001b[0m\u001b[1;33m,\u001b[0m \u001b[0mengine\u001b[0m\u001b[1;33m=\u001b[0m\u001b[1;34m'c'\u001b[0m\u001b[1;33m)\u001b[0m\u001b[1;33m:\u001b[0m\u001b[1;33m\u001b[0m\u001b[0m\n\u001b[1;32m    922\u001b[0m         \u001b[1;32mif\u001b[0m \u001b[0mengine\u001b[0m \u001b[1;33m==\u001b[0m \u001b[1;34m'c'\u001b[0m\u001b[1;33m:\u001b[0m\u001b[1;33m\u001b[0m\u001b[0m\n\u001b[0;32m--> 923\u001b[0;31m             \u001b[0mself\u001b[0m\u001b[1;33m.\u001b[0m\u001b[0m_engine\u001b[0m \u001b[1;33m=\u001b[0m \u001b[0mCParserWrapper\u001b[0m\u001b[1;33m(\u001b[0m\u001b[0mself\u001b[0m\u001b[1;33m.\u001b[0m\u001b[0mf\u001b[0m\u001b[1;33m,\u001b[0m \u001b[1;33m**\u001b[0m\u001b[0mself\u001b[0m\u001b[1;33m.\u001b[0m\u001b[0moptions\u001b[0m\u001b[1;33m)\u001b[0m\u001b[1;33m\u001b[0m\u001b[0m\n\u001b[0m\u001b[1;32m    924\u001b[0m         \u001b[1;32melse\u001b[0m\u001b[1;33m:\u001b[0m\u001b[1;33m\u001b[0m\u001b[0m\n\u001b[1;32m    925\u001b[0m             \u001b[1;32mif\u001b[0m \u001b[0mengine\u001b[0m \u001b[1;33m==\u001b[0m \u001b[1;34m'python'\u001b[0m\u001b[1;33m:\u001b[0m\u001b[1;33m\u001b[0m\u001b[0m\n",
      "\u001b[0;32mC:\\Users\\sanketn\\AppData\\Local\\Continuum\\Anaconda3\\lib\\site-packages\\pandas\\io\\parsers.py\u001b[0m in \u001b[0;36m__init__\u001b[0;34m(self, src, **kwds)\u001b[0m\n\u001b[1;32m   1388\u001b[0m         \u001b[0mkwds\u001b[0m\u001b[1;33m[\u001b[0m\u001b[1;34m'allow_leading_cols'\u001b[0m\u001b[1;33m]\u001b[0m \u001b[1;33m=\u001b[0m \u001b[0mself\u001b[0m\u001b[1;33m.\u001b[0m\u001b[0mindex_col\u001b[0m \u001b[1;32mis\u001b[0m \u001b[1;32mnot\u001b[0m \u001b[1;32mFalse\u001b[0m\u001b[1;33m\u001b[0m\u001b[0m\n\u001b[1;32m   1389\u001b[0m \u001b[1;33m\u001b[0m\u001b[0m\n\u001b[0;32m-> 1390\u001b[0;31m         \u001b[0mself\u001b[0m\u001b[1;33m.\u001b[0m\u001b[0m_reader\u001b[0m \u001b[1;33m=\u001b[0m \u001b[0m_parser\u001b[0m\u001b[1;33m.\u001b[0m\u001b[0mTextReader\u001b[0m\u001b[1;33m(\u001b[0m\u001b[0msrc\u001b[0m\u001b[1;33m,\u001b[0m \u001b[1;33m**\u001b[0m\u001b[0mkwds\u001b[0m\u001b[1;33m)\u001b[0m\u001b[1;33m\u001b[0m\u001b[0m\n\u001b[0m\u001b[1;32m   1391\u001b[0m \u001b[1;33m\u001b[0m\u001b[0m\n\u001b[1;32m   1392\u001b[0m         \u001b[1;31m# XXX\u001b[0m\u001b[1;33m\u001b[0m\u001b[1;33m\u001b[0m\u001b[0m\n",
      "\u001b[0;32mpandas\\parser.pyx\u001b[0m in \u001b[0;36mpandas.parser.TextReader.__cinit__ (pandas\\parser.c:4184)\u001b[0;34m()\u001b[0m\n",
      "\u001b[0;32mpandas\\parser.pyx\u001b[0m in \u001b[0;36mpandas.parser.TextReader._setup_parser_source (pandas\\parser.c:8449)\u001b[0;34m()\u001b[0m\n",
      "\u001b[0;31mFileNotFoundError\u001b[0m: File b'./data/sample_submission.csv' does not exist"
     ]
    }
   ],
   "source": [
    "# save predictions\n",
    "sample_data = pd.read_csv(\"C:/Users/sanketn/Documents/IU/Kaggle/sample_submission.csv\")\n",
    "sample_data['SalePrice'] = res\n",
    "sample_data.to_csv('C:/Users/sanketn/Documents/IU/Kaggle/prediction.csv', index = False)"
   ]
  },
  {
   "cell_type": "code",
   "execution_count": 192,
   "metadata": {
    "collapsed": false
   },
   "outputs": [
    {
     "name": "stdout",
     "output_type": "stream",
     "text": [
      "  parameter         score\n",
      "7     [640] -8.650184e+08\n",
      "8    [1280] -8.665736e+08\n",
      "5     [160] -8.701853e+08\n",
      "6     [320] -8.746929e+08\n",
      "2      [20] -8.855814e+08\n",
      "4      [80] -8.879808e+08\n",
      "3      [40] -9.219589e+08\n",
      "1      [10] -9.972607e+08\n",
      "0       [1] -1.962880e+09\n"
     ]
    }
   ],
   "source": [
    "from sklearn import cross_validation\n",
    "from sklearn.ensemble import RandomForestRegressor\n",
    "trees = [1, 10, 20, 40, 80, 160, 320, 640, 1280]\n",
    "scores = []\n",
    "param = []\n",
    "for tree in trees:\n",
    "    rfe = RandomForestRegressor(n_estimators = tree)\n",
    "    scores.append(cross_validation.cross_val_score(rfe, train_data, Y, scoring=\"neg_mean_squared_error\", cv = 10).mean())\n",
    "    param.append([tree])\n",
    "scores = pd.DataFrame({'parameter': param, 'score': scores})\n",
    "print(scores.sort_values(by = 'score', ascending = False))"
   ]
  },
  {
   "cell_type": "code",
   "execution_count": null,
   "metadata": {
    "collapsed": true
   },
   "outputs": [],
   "source": []
  }
 ],
 "metadata": {
  "kernelspec": {
   "display_name": "Python 3",
   "language": "python",
   "name": "python3"
  },
  "language_info": {
   "codemirror_mode": {
    "name": "ipython",
    "version": 3
   },
   "file_extension": ".py",
   "mimetype": "text/x-python",
   "name": "python",
   "nbconvert_exporter": "python",
   "pygments_lexer": "ipython3",
   "version": "3.6.0"
  }
 },
 "nbformat": 4,
 "nbformat_minor": 2
}
